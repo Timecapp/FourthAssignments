{
  "cells": [
    {
      "cell_type": "markdown",
      "metadata": {
        "id": "view-in-github",
        "colab_type": "text"
      },
      "source": [
        "<a href=\"https://colab.research.google.com/github/Timecapp/FourthAssignments/blob/main/shai_week10_speech_detector_solution.ipynb\" target=\"_parent\"><img src=\"https://colab.research.google.com/assets/colab-badge.svg\" alt=\"Open In Colab\"/></a>"
      ]
    },
    {
      "cell_type": "markdown",
      "metadata": {
        "id": "uvQ6ov4HzBKX"
      },
      "source": [
        "<p align = \"center\" draggable=”false” ><img src=\"https://user-images.githubusercontent.com/37101144/161836199-fdb0219d-0361-4988-bf26-48b0fad160a3.png\" \n",
        "     width=\"200px\"\n",
        "     height=\"auto\"/>\n",
        "</p>"
      ]
    },
    {
      "cell_type": "markdown",
      "source": [
        "**Dr. Shaista Hussain**\n",
        "# MLE 10"
      ],
      "metadata": {
        "id": "0uHwCtu13prA"
      }
    },
    {
      "cell_type": "markdown",
      "metadata": {
        "id": "9V9ctujXqHSO"
      },
      "source": [
        "# Hate Speech Detector"
      ]
    },
    {
      "cell_type": "markdown",
      "metadata": {
        "id": "hIZSzVH_qHSO"
      },
      "source": [
        "Today you are a machine learning engineer, a member of the Birdwatch at Twitter. \n",
        "\n",
        "The objective of this task is to detect hate speech in tweets. For the sake of simplicity, a tweet contains hate speech if it has a racist or sexist sentiment associated with it. In other words, we need to classify racist or sexist tweets from other tweets.\n",
        "\n",
        "A labelled dataset of 31,962 tweets (late 2017 to early 2018) is provided in the form of a compressed csv file with each line storing a tweet id, its label, and the tweet. Label '1' denotes the tweet is racist/sexist while label '0' denotes the tweet is not racist/sexist.\n",
        "\n",
        "We will first approach the problem in a traditional approach: clean the raw text using simple regex (regular expression), extract features, build a naive Bayes models to classify tweets; then we build a deep learning model and explain our deep learning model with LIME."
      ]
    },
    {
      "cell_type": "markdown",
      "metadata": {
        "id": "KUnzuOszqHSP"
      },
      "source": [
        "## 📚 Learning Objectives"
      ]
    },
    {
      "cell_type": "markdown",
      "metadata": {
        "id": "w8Z3BzFrqHSP"
      },
      "source": [
        "By the end of this lesson, you will be able to:\n",
        "\n",
        "- Understand the basic concepts in natural language processing (NLP)\n",
        "- Perform basic NLP tasks on text, e.g., tweets\n",
        "- Build a naive Bayes classifier to detect hate speech \n",
        "- Build a bidirectional long short-term memory (BiLSTM) to detect hate speech\n",
        "- Visualize embeddings with Tensorboard embedding projector\n",
        "- Explain models with LIME"
      ]
    },
    {
      "cell_type": "markdown",
      "metadata": {
        "id": "9KdYEyU4zNGU"
      },
      "source": [
        "# Task I: Data Preprocessing\n"
      ]
    },
    {
      "cell_type": "markdown",
      "source": [
        "Data preprocessing is an essential step as it makes the raw text ready for mining, keeping input data clean and organized."
      ],
      "metadata": {
        "id": "lj8E26_rRvAd"
      }
    },
    {
      "cell_type": "markdown",
      "metadata": {
        "id": "ESJru9iiqHSQ"
      },
      "source": [
        "**1. Install dependencies.**\n",
        "\n",
        "    Most modules are pre-installed in Colab, however, we need to update `gensim` to its recent version and install `lime`."
      ]
    },
    {
      "cell_type": "code",
      "execution_count": null,
      "metadata": {
        "id": "pzQ5eaRK6-GB",
        "scrolled": true
      },
      "outputs": [],
      "source": [
        "#Import Resources and Utility\n",
        "!pip install -U -q gensim==4.2.0 lime\n",
        "import re # for regular expressions\n",
        "import pandas as pd #for dataframe\n",
        "import numpy as np #for numerics\n",
        "import sklearn #for algorithms\n",
        "import nltk #for language data\n",
        "import os #for commands\n",
        "from collections import Counter #for key value pairs and hashtags\n",
        "import logging #for event logging\n",
        "import time #for time management\n",
        "import pickle #for byte streams\n",
        "import itertools #for data for loops\n",
        "import gensim #for semantic vectors\n",
        "import wordcloud #for frequency visualizations\n",
        "import tensorflow as tf #for neural networkds\n",
        "import matplotlib.pyplot as plt #for visualizations\n",
        "import seaborn as sns #for plots\n",
        "import string #for ascii\n",
        "import warnings \n",
        "warnings.filterwarnings(\"ignore\", category=DeprecationWarning)\n",
        "\n",
        "%matplotlib inline\n",
        "\n",
        "# Scikit-learn\n",
        "from sklearn.model_selection import train_test_split\n",
        "from sklearn.preprocessing import LabelEncoder\n",
        "from sklearn.metrics import confusion_matrix, classification_report, accuracy_score\n",
        "from sklearn.manifold import TSNE\n",
        "from sklearn.feature_extraction.text import TfidfVectorizer\n",
        "\n",
        "# Keras for Neural network interfacing\n",
        "from keras.preprocessing.text import Tokenizer\n",
        "from keras_preprocessing.sequence import pad_sequences\n",
        "from keras.models import Sequential\n",
        "from keras.layers import Activation, Dense, Dropout, Embedding, Flatten, Conv1D, MaxPooling1D, LSTM\n",
        "from keras import utils\n",
        "from keras.callbacks import ReduceLROnPlateau, EarlyStopping\n",
        "\n",
        "# nltk for text manipulation\n",
        "import nltk\n",
        "from nltk.corpus import stopwords\n",
        "from  nltk.stem import SnowballStemmer\n",
        "\n",
        "# Word2vec for NLP\n",
        "import gensim\n",
        "\n"
      ]
    },
    {
      "cell_type": "markdown",
      "metadata": {
        "id": "yfT65m3lyxZ_"
      },
      "source": [
        "**2. Connect Colab to your local Google Drive.**"
      ]
    },
    {
      "cell_type": "code",
      "execution_count": null,
      "metadata": {
        "id": "FOuYW07fyzbP",
        "colab": {
          "base_uri": "https://localhost:8080/"
        },
        "outputId": "857be0a7-8bb3-479e-8fce-690c3de07979"
      },
      "outputs": [
        {
          "output_type": "stream",
          "name": "stdout",
          "text": [
            "Drive already mounted at /content/drive; to attempt to forcibly remount, call drive.mount(\"/content/drive\", force_remount=True).\n"
          ]
        }
      ],
      "source": [
        "from google.colab import drive\n",
        "drive.mount('/content/drive')\n",
        "#mount drive to colab"
      ]
    },
    {
      "cell_type": "markdown",
      "metadata": {
        "id": "Ws9_nx44qHSZ"
      },
      "source": [
        "3. Use `pandas.read_csv` to load the tweets in `tweets.csv.gz` and save the `pd.DataFrame` into `raw`. Make sure the path points to where the data is located in your Google Drive. "
      ]
    },
    {
      "cell_type": "code",
      "source": [
        "#load dataframe as raw\n",
        "raw = pd.read_csv('/content/drive/MyDrive/4thbrain/tweets.csv.gz')"
      ],
      "metadata": {
        "id": "nrmy_KhNRFOq"
      },
      "execution_count": null,
      "outputs": []
    },
    {
      "cell_type": "code",
      "execution_count": null,
      "metadata": {
        "id": "y85-t5JzzihL",
        "colab": {
          "base_uri": "https://localhost:8080/"
        },
        "outputId": "d6e1cdbc-ede5-4d9a-b566-4f7f8ee964f1"
      },
      "outputs": [
        {
          "output_type": "stream",
          "name": "stdout",
          "text": [
            "<class 'pandas.core.frame.DataFrame'>\n",
            "RangeIndex: 31962 entries, 0 to 31961\n",
            "Data columns (total 3 columns):\n",
            " #   Column  Non-Null Count  Dtype \n",
            "---  ------  --------------  ----- \n",
            " 0   id      31962 non-null  int64 \n",
            " 1   label   31962 non-null  int64 \n",
            " 2   tweet   31962 non-null  object\n",
            "dtypes: int64(2), object(1)\n",
            "memory usage: 749.2+ KB\n",
            "None\n"
          ]
        }
      ],
      "source": [
        "#view file\n",
        "print(raw.info())"
      ]
    },
    {
      "cell_type": "markdown",
      "source": [
        "Confirmed data set uploaded"
      ],
      "metadata": {
        "id": "94Rnf6oLRUm4"
      }
    },
    {
      "cell_type": "code",
      "source": [
        "#check stopwords download\n",
        "nltk.download('stopwords')"
      ],
      "metadata": {
        "colab": {
          "base_uri": "https://localhost:8080/"
        },
        "id": "7UQokCBofN09",
        "outputId": "fa552714-d730-4e8d-c136-7f29194cf4a3"
      },
      "execution_count": null,
      "outputs": [
        {
          "output_type": "stream",
          "name": "stderr",
          "text": [
            "[nltk_data] Downloading package stopwords to /root/nltk_data...\n",
            "[nltk_data]   Package stopwords is already up-to-date!\n"
          ]
        },
        {
          "output_type": "execute_result",
          "data": {
            "text/plain": [
              "True"
            ]
          },
          "metadata": {},
          "execution_count": 128
        }
      ]
    },
    {
      "cell_type": "markdown",
      "metadata": {
        "id": "WvsKB7cmqHSa"
      },
      "source": [
        "4. Sample 5 random tweets from the dataset for each label and display `label` and `tweet` columns. \n",
        "Hint: one option is to use `sample()` followed by `groupby`. "
      ]
    },
    {
      "cell_type": "code",
      "source": [
        "# Colab includes an extension that renders pandas dataframes into interactive displays that can be filtered, sorted, and explored dynamically.\n",
        "from google.colab import data_table\n",
        "data_table.enable_dataframe_formatter() "
      ],
      "metadata": {
        "id": "LLgRsoCXfy8X"
      },
      "execution_count": null,
      "outputs": []
    },
    {
      "cell_type": "code",
      "source": [
        "# Sample 5 random tweets from each label\n",
        "sampled_tweets = raw.groupby('label').sample(5)\n",
        "\n",
        "# Display label and tweet columns\n",
        "sampled_tweets[['label', 'tweet']].head()"
      ],
      "metadata": {
        "colab": {
          "base_uri": "https://localhost:8080/",
          "height": 201
        },
        "id": "hA8YwOjzy3Fl",
        "outputId": "677e9de7-af86-4e4b-d204-ee6babd0d030"
      },
      "execution_count": null,
      "outputs": [
        {
          "output_type": "execute_result",
          "data": {
            "text/plain": [
              "       label                                              tweet\n",
              "23464      0              @user if i make it to twelve ill be  \n",
              "18548      0       sunday: click on the link and like the page \n",
              "26695      0  they are together happy enough !!#baby#kid#mom...\n",
              "26464      0  #prayfororlando    can we show #love &amp; not...\n",
              "6569       0      aww yeah it's all good bing bong bing bong   "
            ],
            "text/html": [
              "\n",
              "  <div id=\"df-b780c953-a7c7-47bb-a32a-2526fa0ab7de\">\n",
              "    <div class=\"colab-df-container\">\n",
              "      <div>\n",
              "<style scoped>\n",
              "    .dataframe tbody tr th:only-of-type {\n",
              "        vertical-align: middle;\n",
              "    }\n",
              "\n",
              "    .dataframe tbody tr th {\n",
              "        vertical-align: top;\n",
              "    }\n",
              "\n",
              "    .dataframe thead th {\n",
              "        text-align: right;\n",
              "    }\n",
              "</style>\n",
              "<table border=\"1\" class=\"dataframe\">\n",
              "  <thead>\n",
              "    <tr style=\"text-align: right;\">\n",
              "      <th></th>\n",
              "      <th>label</th>\n",
              "      <th>tweet</th>\n",
              "    </tr>\n",
              "  </thead>\n",
              "  <tbody>\n",
              "    <tr>\n",
              "      <th>23464</th>\n",
              "      <td>0</td>\n",
              "      <td>@user if i make it to twelve ill be</td>\n",
              "    </tr>\n",
              "    <tr>\n",
              "      <th>18548</th>\n",
              "      <td>0</td>\n",
              "      <td>sunday: click on the link and like the page</td>\n",
              "    </tr>\n",
              "    <tr>\n",
              "      <th>26695</th>\n",
              "      <td>0</td>\n",
              "      <td>they are together happy enough !!#baby#kid#mom...</td>\n",
              "    </tr>\n",
              "    <tr>\n",
              "      <th>26464</th>\n",
              "      <td>0</td>\n",
              "      <td>#prayfororlando    can we show #love &amp;amp; not...</td>\n",
              "    </tr>\n",
              "    <tr>\n",
              "      <th>6569</th>\n",
              "      <td>0</td>\n",
              "      <td>aww yeah it's all good bing bong bing bong</td>\n",
              "    </tr>\n",
              "  </tbody>\n",
              "</table>\n",
              "</div>\n",
              "      <button class=\"colab-df-convert\" onclick=\"convertToInteractive('df-b780c953-a7c7-47bb-a32a-2526fa0ab7de')\"\n",
              "              title=\"Convert this dataframe to an interactive table.\"\n",
              "              style=\"display:none;\">\n",
              "        \n",
              "  <svg xmlns=\"http://www.w3.org/2000/svg\" height=\"24px\"viewBox=\"0 0 24 24\"\n",
              "       width=\"24px\">\n",
              "    <path d=\"M0 0h24v24H0V0z\" fill=\"none\"/>\n",
              "    <path d=\"M18.56 5.44l.94 2.06.94-2.06 2.06-.94-2.06-.94-.94-2.06-.94 2.06-2.06.94zm-11 1L8.5 8.5l.94-2.06 2.06-.94-2.06-.94L8.5 2.5l-.94 2.06-2.06.94zm10 10l.94 2.06.94-2.06 2.06-.94-2.06-.94-.94-2.06-.94 2.06-2.06.94z\"/><path d=\"M17.41 7.96l-1.37-1.37c-.4-.4-.92-.59-1.43-.59-.52 0-1.04.2-1.43.59L10.3 9.45l-7.72 7.72c-.78.78-.78 2.05 0 2.83L4 21.41c.39.39.9.59 1.41.59.51 0 1.02-.2 1.41-.59l7.78-7.78 2.81-2.81c.8-.78.8-2.07 0-2.86zM5.41 20L4 18.59l7.72-7.72 1.47 1.35L5.41 20z\"/>\n",
              "  </svg>\n",
              "      </button>\n",
              "      \n",
              "  <style>\n",
              "    .colab-df-container {\n",
              "      display:flex;\n",
              "      flex-wrap:wrap;\n",
              "      gap: 12px;\n",
              "    }\n",
              "\n",
              "    .colab-df-convert {\n",
              "      background-color: #E8F0FE;\n",
              "      border: none;\n",
              "      border-radius: 50%;\n",
              "      cursor: pointer;\n",
              "      display: none;\n",
              "      fill: #1967D2;\n",
              "      height: 32px;\n",
              "      padding: 0 0 0 0;\n",
              "      width: 32px;\n",
              "    }\n",
              "\n",
              "    .colab-df-convert:hover {\n",
              "      background-color: #E2EBFA;\n",
              "      box-shadow: 0px 1px 2px rgba(60, 64, 67, 0.3), 0px 1px 3px 1px rgba(60, 64, 67, 0.15);\n",
              "      fill: #174EA6;\n",
              "    }\n",
              "\n",
              "    [theme=dark] .colab-df-convert {\n",
              "      background-color: #3B4455;\n",
              "      fill: #D2E3FC;\n",
              "    }\n",
              "\n",
              "    [theme=dark] .colab-df-convert:hover {\n",
              "      background-color: #434B5C;\n",
              "      box-shadow: 0px 1px 3px 1px rgba(0, 0, 0, 0.15);\n",
              "      filter: drop-shadow(0px 1px 2px rgba(0, 0, 0, 0.3));\n",
              "      fill: #FFFFFF;\n",
              "    }\n",
              "  </style>\n",
              "\n",
              "      <script>\n",
              "        const buttonEl =\n",
              "          document.querySelector('#df-b780c953-a7c7-47bb-a32a-2526fa0ab7de button.colab-df-convert');\n",
              "        buttonEl.style.display =\n",
              "          google.colab.kernel.accessAllowed ? 'block' : 'none';\n",
              "\n",
              "        async function convertToInteractive(key) {\n",
              "          const element = document.querySelector('#df-b780c953-a7c7-47bb-a32a-2526fa0ab7de');\n",
              "          const dataTable =\n",
              "            await google.colab.kernel.invokeFunction('convertToInteractive',\n",
              "                                                     [key], {});\n",
              "          if (!dataTable) return;\n",
              "\n",
              "          const docLinkHtml = 'Like what you see? Visit the ' +\n",
              "            '<a target=\"_blank\" href=https://colab.research.google.com/notebooks/data_table.ipynb>data table notebook</a>'\n",
              "            + ' to learn more about interactive tables.';\n",
              "          element.innerHTML = '';\n",
              "          dataTable['output_type'] = 'display_data';\n",
              "          await google.colab.output.renderOutput(dataTable, element);\n",
              "          const docLink = document.createElement('div');\n",
              "          docLink.innerHTML = docLinkHtml;\n",
              "          element.appendChild(docLink);\n",
              "        }\n",
              "      </script>\n",
              "    </div>\n",
              "  </div>\n",
              "  "
            ],
            "application/vnd.google.colaboratory.module+javascript": "\n      import \"https://ssl.gstatic.com/colaboratory/data_table/fb998edc550c7947/data_table.js\";\n\n      window.createDataTable({\n        data: [[{\n            'v': 23464,\n            'f': \"23464\",\n        },\n{\n            'v': 0,\n            'f': \"0\",\n        },\n\"@user if i make it to twelve ill be  \"],\n [{\n            'v': 18548,\n            'f': \"18548\",\n        },\n{\n            'v': 0,\n            'f': \"0\",\n        },\n\"  sunday: click on the link and like the page \"],\n [{\n            'v': 26695,\n            'f': \"26695\",\n        },\n{\n            'v': 0,\n            'f': \"0\",\n        },\n\"they are together happy enough !!#baby#kid#mom#together #laugh#smilefamily#cool\\u00e2\\u0080\\u00a6  \"],\n [{\n            'v': 26464,\n            'f': \"26464\",\n        },\n{\n            'v': 0,\n            'f': \"0\",\n        },\n\"#prayfororlando    can we show #love &amp; not #hate  by clifton w. :0\"],\n [{\n            'v': 6569,\n            'f': \"6569\",\n        },\n{\n            'v': 0,\n            'f': \"0\",\n        },\n\"aww yeah it's all good bing bong bing bong   \"]],\n        columns: [[\"number\", \"index\"], [\"number\", \"label\"], [\"string\", \"tweet\"]],\n        columnOptions: [{\"width\": \"1px\", \"className\": \"index_column\"}],\n        rowsPerPage: 25,\n        helpUrl: \"https://colab.research.google.com/notebooks/data_table.ipynb\",\n        suppressOutputScrolling: true,\n        minimumWidth: undefined,\n      });\n    "
          },
          "metadata": {},
          "execution_count": 130
        }
      ]
    },
    {
      "cell_type": "markdown",
      "metadata": {
        "id": "xTX1dJ79qHSb"
      },
      "source": [
        "5. The tweets are in English and all words should be already in lowercase. \n",
        "Now calculate the number of characters in each tweet and assign the values to a new column `len_tweet` in `raw`. "
      ]
    },
    {
      "cell_type": "code",
      "source": [
        "#Create new column 'len_tweet' to store the length of each tweet in characters\n",
        "raw['len_tweet'] = raw['tweet'].apply(lambda x: len(x))\n",
        "\n",
        "#Print new dataframe\n",
        "print(raw)"
      ],
      "metadata": {
        "colab": {
          "base_uri": "https://localhost:8080/"
        },
        "id": "O51YNM2Ize9i",
        "outputId": "8e21b4ef-aaa0-4245-b120-2fe67cae5c5e"
      },
      "execution_count": null,
      "outputs": [
        {
          "output_type": "stream",
          "name": "stdout",
          "text": [
            "          id  label                                              tweet  \\\n",
            "0          1      0   @user when a father is dysfunctional and is s...   \n",
            "1          2      0  @user @user thanks for #lyft credit i can't us...   \n",
            "2          3      0                                bihday your majesty   \n",
            "3          4      0  #model   i love u take with u all the time in ...   \n",
            "4          5      0             factsguide: society now    #motivation   \n",
            "...      ...    ...                                                ...   \n",
            "31957  31958      0  ate @user isz that youuu?ðððððð...   \n",
            "31958  31959      0    to see nina turner on the airwaves trying to...   \n",
            "31959  31960      0  listening to sad songs on a monday morning otw...   \n",
            "31960  31961      1  @user #sikh #temple vandalised in in #calgary,...   \n",
            "31961  31962      0                   thank you @user for you follow     \n",
            "\n",
            "       len_tweet  \n",
            "0            102  \n",
            "1            122  \n",
            "2             21  \n",
            "3             86  \n",
            "4             39  \n",
            "...          ...  \n",
            "31957         68  \n",
            "31958        131  \n",
            "31959         63  \n",
            "31960         67  \n",
            "31961         32  \n",
            "\n",
            "[31962 rows x 4 columns]\n"
          ]
        }
      ]
    },
    {
      "cell_type": "markdown",
      "metadata": {
        "id": "Cs6Xn-YtqHSc"
      },
      "source": [
        "6. What are the summary statistics of `len_tweet` for each label? \n",
        "Hint: use `groupby` and `describe`. "
      ]
    },
    {
      "cell_type": "code",
      "source": [
        "# Create a new column with the length of each tweet\n",
        "raw['len_tweet'] = raw['tweet'].apply(lambda x: len(x))\n",
        "\n",
        "# Group by label and get summary statistics\n",
        "raw.groupby('label')['len_tweet'].describe()"
      ],
      "metadata": {
        "colab": {
          "base_uri": "https://localhost:8080/",
          "height": 137
        },
        "id": "KkdSjHWNz6-5",
        "outputId": "d2ff23e8-2502-47d7-8a36-fba4c1b24279"
      },
      "execution_count": null,
      "outputs": [
        {
          "output_type": "execute_result",
          "data": {
            "text/plain": [
              "         count       mean        std   min   25%   50%    75%    max\n",
              "label                                                               \n",
              "0      29720.0  84.328634  29.566484  11.0  62.0  88.0  107.0  274.0\n",
              "1       2242.0  90.187779  27.375502  12.0  69.0  96.0  111.0  152.0"
            ],
            "text/html": [
              "\n",
              "  <div id=\"df-d543048c-4d39-4235-b32c-b36b4bd80cd0\">\n",
              "    <div class=\"colab-df-container\">\n",
              "      <div>\n",
              "<style scoped>\n",
              "    .dataframe tbody tr th:only-of-type {\n",
              "        vertical-align: middle;\n",
              "    }\n",
              "\n",
              "    .dataframe tbody tr th {\n",
              "        vertical-align: top;\n",
              "    }\n",
              "\n",
              "    .dataframe thead th {\n",
              "        text-align: right;\n",
              "    }\n",
              "</style>\n",
              "<table border=\"1\" class=\"dataframe\">\n",
              "  <thead>\n",
              "    <tr style=\"text-align: right;\">\n",
              "      <th></th>\n",
              "      <th>count</th>\n",
              "      <th>mean</th>\n",
              "      <th>std</th>\n",
              "      <th>min</th>\n",
              "      <th>25%</th>\n",
              "      <th>50%</th>\n",
              "      <th>75%</th>\n",
              "      <th>max</th>\n",
              "    </tr>\n",
              "    <tr>\n",
              "      <th>label</th>\n",
              "      <th></th>\n",
              "      <th></th>\n",
              "      <th></th>\n",
              "      <th></th>\n",
              "      <th></th>\n",
              "      <th></th>\n",
              "      <th></th>\n",
              "      <th></th>\n",
              "    </tr>\n",
              "  </thead>\n",
              "  <tbody>\n",
              "    <tr>\n",
              "      <th>0</th>\n",
              "      <td>29720.0</td>\n",
              "      <td>84.328634</td>\n",
              "      <td>29.566484</td>\n",
              "      <td>11.0</td>\n",
              "      <td>62.0</td>\n",
              "      <td>88.0</td>\n",
              "      <td>107.0</td>\n",
              "      <td>274.0</td>\n",
              "    </tr>\n",
              "    <tr>\n",
              "      <th>1</th>\n",
              "      <td>2242.0</td>\n",
              "      <td>90.187779</td>\n",
              "      <td>27.375502</td>\n",
              "      <td>12.0</td>\n",
              "      <td>69.0</td>\n",
              "      <td>96.0</td>\n",
              "      <td>111.0</td>\n",
              "      <td>152.0</td>\n",
              "    </tr>\n",
              "  </tbody>\n",
              "</table>\n",
              "</div>\n",
              "      <button class=\"colab-df-convert\" onclick=\"convertToInteractive('df-d543048c-4d39-4235-b32c-b36b4bd80cd0')\"\n",
              "              title=\"Convert this dataframe to an interactive table.\"\n",
              "              style=\"display:none;\">\n",
              "        \n",
              "  <svg xmlns=\"http://www.w3.org/2000/svg\" height=\"24px\"viewBox=\"0 0 24 24\"\n",
              "       width=\"24px\">\n",
              "    <path d=\"M0 0h24v24H0V0z\" fill=\"none\"/>\n",
              "    <path d=\"M18.56 5.44l.94 2.06.94-2.06 2.06-.94-2.06-.94-.94-2.06-.94 2.06-2.06.94zm-11 1L8.5 8.5l.94-2.06 2.06-.94-2.06-.94L8.5 2.5l-.94 2.06-2.06.94zm10 10l.94 2.06.94-2.06 2.06-.94-2.06-.94-.94-2.06-.94 2.06-2.06.94z\"/><path d=\"M17.41 7.96l-1.37-1.37c-.4-.4-.92-.59-1.43-.59-.52 0-1.04.2-1.43.59L10.3 9.45l-7.72 7.72c-.78.78-.78 2.05 0 2.83L4 21.41c.39.39.9.59 1.41.59.51 0 1.02-.2 1.41-.59l7.78-7.78 2.81-2.81c.8-.78.8-2.07 0-2.86zM5.41 20L4 18.59l7.72-7.72 1.47 1.35L5.41 20z\"/>\n",
              "  </svg>\n",
              "      </button>\n",
              "      \n",
              "  <style>\n",
              "    .colab-df-container {\n",
              "      display:flex;\n",
              "      flex-wrap:wrap;\n",
              "      gap: 12px;\n",
              "    }\n",
              "\n",
              "    .colab-df-convert {\n",
              "      background-color: #E8F0FE;\n",
              "      border: none;\n",
              "      border-radius: 50%;\n",
              "      cursor: pointer;\n",
              "      display: none;\n",
              "      fill: #1967D2;\n",
              "      height: 32px;\n",
              "      padding: 0 0 0 0;\n",
              "      width: 32px;\n",
              "    }\n",
              "\n",
              "    .colab-df-convert:hover {\n",
              "      background-color: #E2EBFA;\n",
              "      box-shadow: 0px 1px 2px rgba(60, 64, 67, 0.3), 0px 1px 3px 1px rgba(60, 64, 67, 0.15);\n",
              "      fill: #174EA6;\n",
              "    }\n",
              "\n",
              "    [theme=dark] .colab-df-convert {\n",
              "      background-color: #3B4455;\n",
              "      fill: #D2E3FC;\n",
              "    }\n",
              "\n",
              "    [theme=dark] .colab-df-convert:hover {\n",
              "      background-color: #434B5C;\n",
              "      box-shadow: 0px 1px 3px 1px rgba(0, 0, 0, 0.15);\n",
              "      filter: drop-shadow(0px 1px 2px rgba(0, 0, 0, 0.3));\n",
              "      fill: #FFFFFF;\n",
              "    }\n",
              "  </style>\n",
              "\n",
              "      <script>\n",
              "        const buttonEl =\n",
              "          document.querySelector('#df-d543048c-4d39-4235-b32c-b36b4bd80cd0 button.colab-df-convert');\n",
              "        buttonEl.style.display =\n",
              "          google.colab.kernel.accessAllowed ? 'block' : 'none';\n",
              "\n",
              "        async function convertToInteractive(key) {\n",
              "          const element = document.querySelector('#df-d543048c-4d39-4235-b32c-b36b4bd80cd0');\n",
              "          const dataTable =\n",
              "            await google.colab.kernel.invokeFunction('convertToInteractive',\n",
              "                                                     [key], {});\n",
              "          if (!dataTable) return;\n",
              "\n",
              "          const docLinkHtml = 'Like what you see? Visit the ' +\n",
              "            '<a target=\"_blank\" href=https://colab.research.google.com/notebooks/data_table.ipynb>data table notebook</a>'\n",
              "            + ' to learn more about interactive tables.';\n",
              "          element.innerHTML = '';\n",
              "          dataTable['output_type'] = 'display_data';\n",
              "          await google.colab.output.renderOutput(dataTable, element);\n",
              "          const docLink = document.createElement('div');\n",
              "          docLink.innerHTML = docLinkHtml;\n",
              "          element.appendChild(docLink);\n",
              "        }\n",
              "      </script>\n",
              "    </div>\n",
              "  </div>\n",
              "  "
            ],
            "application/vnd.google.colaboratory.module+javascript": "\n      import \"https://ssl.gstatic.com/colaboratory/data_table/fb998edc550c7947/data_table.js\";\n\n      window.createDataTable({\n        data: [[{\n            'v': 0,\n            'f': \"0\",\n        },\n{\n            'v': 29720.0,\n            'f': \"29720.0\",\n        },\n{\n            'v': 84.32863391655451,\n            'f': \"84.32863391655451\",\n        },\n{\n            'v': 29.566483817431827,\n            'f': \"29.566483817431827\",\n        },\n{\n            'v': 11.0,\n            'f': \"11.0\",\n        },\n{\n            'v': 62.0,\n            'f': \"62.0\",\n        },\n{\n            'v': 88.0,\n            'f': \"88.0\",\n        },\n{\n            'v': 107.0,\n            'f': \"107.0\",\n        },\n{\n            'v': 274.0,\n            'f': \"274.0\",\n        }],\n [{\n            'v': 1,\n            'f': \"1\",\n        },\n{\n            'v': 2242.0,\n            'f': \"2242.0\",\n        },\n{\n            'v': 90.18777876895629,\n            'f': \"90.18777876895629\",\n        },\n{\n            'v': 27.375501683643677,\n            'f': \"27.375501683643677\",\n        },\n{\n            'v': 12.0,\n            'f': \"12.0\",\n        },\n{\n            'v': 69.0,\n            'f': \"69.0\",\n        },\n{\n            'v': 96.0,\n            'f': \"96.0\",\n        },\n{\n            'v': 111.0,\n            'f': \"111.0\",\n        },\n{\n            'v': 152.0,\n            'f': \"152.0\",\n        }]],\n        columns: [[\"number\", \"label\"], [\"number\", \"count\"], [\"number\", \"mean\"], [\"number\", \"std\"], [\"number\", \"min\"], [\"number\", \"25%\"], [\"number\", \"50%\"], [\"number\", \"75%\"], [\"number\", \"max\"]],\n        columnOptions: [{\"width\": \"1px\", \"className\": \"index_column\"}],\n        rowsPerPage: 25,\n        helpUrl: \"https://colab.research.google.com/notebooks/data_table.ipynb\",\n        suppressOutputScrolling: true,\n        minimumWidth: undefined,\n      });\n    "
          },
          "metadata": {},
          "execution_count": 132
        }
      ]
    },
    {
      "cell_type": "markdown",
      "metadata": {
        "id": "PJpa1yzaqHSc"
      },
      "source": [
        "Note we have an imbalanced dataset: the ratio of non-hate speech to hate speech is roughly 13:1. "
      ]
    },
    {
      "cell_type": "markdown",
      "metadata": {
        "id": "e-1PGVKaqHSc"
      },
      "source": [
        "7. Clean the tweets. \n",
        "\n",
        "    We use `re` to perform basic text manipulations. \n",
        "    Specically, remove anonymized user handle, remove numbers and special characters except hashtags."
      ]
    },
    {
      "cell_type": "markdown",
      "metadata": {
        "id": "l_5sDDyHqHSd"
      },
      "source": [
        "8. Remove user handles from the text in `tweet`, or anything directly following the symbols `@`, and save the resulting tweets to a new column `tidy_tweet` in `raw`. \n",
        "    \n",
        "    Hint: you can use `re.sub` on individual text and [`apply`](https://pandas.pydata.org/docs/reference/api/pandas.DataFrame.apply.html) a simple lambda function for the series `raw['tweet']`."
      ]
    },
    {
      "cell_type": "code",
      "source": [
        "# Remove anonymized user handles (e.g. @username)\n",
        "raw['tweet'] = raw['tweet'].apply(lambda x: re.sub(r'@\\w+', '', x))\n",
        "\n",
        "# Remove numbers\n",
        "raw['tweet'] = raw['tweet'].apply(lambda x: re.sub(r'\\d+', '', x))\n",
        "\n",
        "# Remove special characters except hashtags (#)\n",
        "raw['tweet'] = raw['tweet'].apply(lambda x: re.sub(r'[^\\w#]', '', x))\n",
        "\n",
        "# Print the updated dataframe\n",
        "print(raw)"
      ],
      "metadata": {
        "colab": {
          "base_uri": "https://localhost:8080/"
        },
        "id": "kR4hCh0khjWr",
        "outputId": "78e0a8b9-799a-4b3d-afc2-1643443c49e6"
      },
      "execution_count": null,
      "outputs": [
        {
          "output_type": "stream",
          "name": "stdout",
          "text": [
            "          id  label                                              tweet  \\\n",
            "0          1      0  whenafatherisdysfunctionalandissoselfishhedrag...   \n",
            "1          2      0  thanksfor#lyftcrediticantusecausetheydontoffer...   \n",
            "2          3      0                                  bihdayyourmajesty   \n",
            "3          4      0        #modeliloveutakewithuallthetimeinurðððððððð   \n",
            "4          5      0                    factsguidesocietynow#motivation   \n",
            "...      ...    ...                                                ...   \n",
            "31957  31958      0                         ateiszthatyouuuðððððððððâï   \n",
            "31958  31959      0  toseeninaturnerontheairwavestryingtowraphersel...   \n",
            "31959  31960      0  listeningtosadsongsonamondaymorningotwtoworkissad   \n",
            "31960  31961      1  #sikh#templevandalisedinin#calgary#wsocondemnsact   \n",
            "31961  31962      0                               thankyouforyoufollow   \n",
            "\n",
            "       len_tweet  \n",
            "0            102  \n",
            "1            122  \n",
            "2             21  \n",
            "3             86  \n",
            "4             39  \n",
            "...          ...  \n",
            "31957         68  \n",
            "31958        131  \n",
            "31959         63  \n",
            "31960         67  \n",
            "31961         32  \n",
            "\n",
            "[31962 rows x 4 columns]\n"
          ]
        }
      ]
    },
    {
      "cell_type": "markdown",
      "source": [
        "Displayed above is the updated dataframe"
      ],
      "metadata": {
        "id": "Vand_wzXhjI7"
      }
    },
    {
      "cell_type": "code",
      "source": [
        "# Create a new column with the cleaned tweets\n",
        "raw['tidy_tweet'] = raw['tweet'].apply(lambda x: re.sub(r'@\\w+', '', x))\n",
        "raw.sample(5, random_state=203)\n",
        "# Print the new dataframe \n",
        "print(raw)"
      ],
      "metadata": {
        "colab": {
          "base_uri": "https://localhost:8080/"
        },
        "id": "kUlYPm9b0bG-",
        "outputId": "f4b00cfb-fb3d-409a-ef95-14fe52c2a5b6"
      },
      "execution_count": null,
      "outputs": [
        {
          "output_type": "stream",
          "name": "stdout",
          "text": [
            "          id  label                                              tweet  \\\n",
            "0          1      0  whenafatherisdysfunctionalandissoselfishhedrag...   \n",
            "1          2      0  thanksfor#lyftcrediticantusecausetheydontoffer...   \n",
            "2          3      0                                  bihdayyourmajesty   \n",
            "3          4      0        #modeliloveutakewithuallthetimeinurðððððððð   \n",
            "4          5      0                    factsguidesocietynow#motivation   \n",
            "...      ...    ...                                                ...   \n",
            "31957  31958      0                         ateiszthatyouuuðððððððððâï   \n",
            "31958  31959      0  toseeninaturnerontheairwavestryingtowraphersel...   \n",
            "31959  31960      0  listeningtosadsongsonamondaymorningotwtoworkissad   \n",
            "31960  31961      1  #sikh#templevandalisedinin#calgary#wsocondemnsact   \n",
            "31961  31962      0                               thankyouforyoufollow   \n",
            "\n",
            "       len_tweet                                         tidy_tweet  \n",
            "0            102  whenafatherisdysfunctionalandissoselfishhedrag...  \n",
            "1            122  thanksfor#lyftcrediticantusecausetheydontoffer...  \n",
            "2             21                                  bihdayyourmajesty  \n",
            "3             86        #modeliloveutakewithuallthetimeinurðððððððð  \n",
            "4             39                    factsguidesocietynow#motivation  \n",
            "...          ...                                                ...  \n",
            "31957         68                         ateiszthatyouuuðððððððððâï  \n",
            "31958        131  toseeninaturnerontheairwavestryingtowraphersel...  \n",
            "31959         63  listeningtosadsongsonamondaymorningotwtoworkissad  \n",
            "31960         67  #sikh#templevandalisedinin#calgary#wsocondemnsact  \n",
            "31961         32                               thankyouforyoufollow  \n",
            "\n",
            "[31962 rows x 5 columns]\n"
          ]
        }
      ]
    },
    {
      "cell_type": "markdown",
      "metadata": {
        "id": "45_NFIzUqHSd"
      },
      "source": [
        "9. Remove non-alphabetic characters yet keep symbols `#` from `tidy_tweet` and save the result in `tidy_tweet`. \n",
        "In other words, keep all 26 letters and `#`.\n",
        "\n",
        "    Note: in some applications, punctuations, emojis, or whether the word is in all caps can be of use. \n",
        "    You shall decide whether to extract such features for the application and perform error analysis to gain insight. "
      ]
    },
    {
      "cell_type": "code",
      "execution_count": null,
      "metadata": {
        "colab": {
          "base_uri": "https://localhost:8080/",
          "height": 201
        },
        "id": "OiPc6R6q0rtH",
        "outputId": "5f48b605-9f7c-4609-8a43-0eddce87cf35"
      },
      "outputs": [
        {
          "output_type": "execute_result",
          "data": {
            "text/plain": [
              "          id  label                                              tweet  \\\n",
              "790      791      1  andyoukeeptellingthatonlyaryansareallowedtorap...   \n",
              "21928  21929      0                                       whatmakesyou   \n",
              "25642  25643      0  â#nzdusdextendsrbnzledrallyhitsfreshyearhighne...   \n",
              "20436  20437      0  imonamissiontoridealloftheanimals#teamchanlv#v...   \n",
              "22552  22553      0  thecolorofahumanskinmattersalottothesystemwhen...   \n",
              "\n",
              "       len_tweet                                         tidy_tweet  \n",
              "790          109  andyoukeeptellingthatonlyaryansareallowedtorap...  \n",
              "21928         25                                       whatmakesyou  \n",
              "25642        101  #nzdusdextendsrbnzledrallyhitsfreshyearhighnea...  \n",
              "20436         91  imonamissiontoridealloftheanimals#teamchanlv#v...  \n",
              "22552         88  thecolorofahumanskinmattersalottothesystemwhen...  "
            ],
            "text/html": [
              "\n",
              "  <div id=\"df-aa605e6e-366c-4a24-a18d-c5195bd28c2a\">\n",
              "    <div class=\"colab-df-container\">\n",
              "      <div>\n",
              "<style scoped>\n",
              "    .dataframe tbody tr th:only-of-type {\n",
              "        vertical-align: middle;\n",
              "    }\n",
              "\n",
              "    .dataframe tbody tr th {\n",
              "        vertical-align: top;\n",
              "    }\n",
              "\n",
              "    .dataframe thead th {\n",
              "        text-align: right;\n",
              "    }\n",
              "</style>\n",
              "<table border=\"1\" class=\"dataframe\">\n",
              "  <thead>\n",
              "    <tr style=\"text-align: right;\">\n",
              "      <th></th>\n",
              "      <th>id</th>\n",
              "      <th>label</th>\n",
              "      <th>tweet</th>\n",
              "      <th>len_tweet</th>\n",
              "      <th>tidy_tweet</th>\n",
              "    </tr>\n",
              "  </thead>\n",
              "  <tbody>\n",
              "    <tr>\n",
              "      <th>790</th>\n",
              "      <td>791</td>\n",
              "      <td>1</td>\n",
              "      <td>andyoukeeptellingthatonlyaryansareallowedtorap...</td>\n",
              "      <td>109</td>\n",
              "      <td>andyoukeeptellingthatonlyaryansareallowedtorap...</td>\n",
              "    </tr>\n",
              "    <tr>\n",
              "      <th>21928</th>\n",
              "      <td>21929</td>\n",
              "      <td>0</td>\n",
              "      <td>whatmakesyou</td>\n",
              "      <td>25</td>\n",
              "      <td>whatmakesyou</td>\n",
              "    </tr>\n",
              "    <tr>\n",
              "      <th>25642</th>\n",
              "      <td>25643</td>\n",
              "      <td>0</td>\n",
              "      <td>â#nzdusdextendsrbnzledrallyhitsfreshyearhighne...</td>\n",
              "      <td>101</td>\n",
              "      <td>#nzdusdextendsrbnzledrallyhitsfreshyearhighnea...</td>\n",
              "    </tr>\n",
              "    <tr>\n",
              "      <th>20436</th>\n",
              "      <td>20437</td>\n",
              "      <td>0</td>\n",
              "      <td>imonamissiontoridealloftheanimals#teamchanlv#v...</td>\n",
              "      <td>91</td>\n",
              "      <td>imonamissiontoridealloftheanimals#teamchanlv#v...</td>\n",
              "    </tr>\n",
              "    <tr>\n",
              "      <th>22552</th>\n",
              "      <td>22553</td>\n",
              "      <td>0</td>\n",
              "      <td>thecolorofahumanskinmattersalottothesystemwhen...</td>\n",
              "      <td>88</td>\n",
              "      <td>thecolorofahumanskinmattersalottothesystemwhen...</td>\n",
              "    </tr>\n",
              "  </tbody>\n",
              "</table>\n",
              "</div>\n",
              "      <button class=\"colab-df-convert\" onclick=\"convertToInteractive('df-aa605e6e-366c-4a24-a18d-c5195bd28c2a')\"\n",
              "              title=\"Convert this dataframe to an interactive table.\"\n",
              "              style=\"display:none;\">\n",
              "        \n",
              "  <svg xmlns=\"http://www.w3.org/2000/svg\" height=\"24px\"viewBox=\"0 0 24 24\"\n",
              "       width=\"24px\">\n",
              "    <path d=\"M0 0h24v24H0V0z\" fill=\"none\"/>\n",
              "    <path d=\"M18.56 5.44l.94 2.06.94-2.06 2.06-.94-2.06-.94-.94-2.06-.94 2.06-2.06.94zm-11 1L8.5 8.5l.94-2.06 2.06-.94-2.06-.94L8.5 2.5l-.94 2.06-2.06.94zm10 10l.94 2.06.94-2.06 2.06-.94-2.06-.94-.94-2.06-.94 2.06-2.06.94z\"/><path d=\"M17.41 7.96l-1.37-1.37c-.4-.4-.92-.59-1.43-.59-.52 0-1.04.2-1.43.59L10.3 9.45l-7.72 7.72c-.78.78-.78 2.05 0 2.83L4 21.41c.39.39.9.59 1.41.59.51 0 1.02-.2 1.41-.59l7.78-7.78 2.81-2.81c.8-.78.8-2.07 0-2.86zM5.41 20L4 18.59l7.72-7.72 1.47 1.35L5.41 20z\"/>\n",
              "  </svg>\n",
              "      </button>\n",
              "      \n",
              "  <style>\n",
              "    .colab-df-container {\n",
              "      display:flex;\n",
              "      flex-wrap:wrap;\n",
              "      gap: 12px;\n",
              "    }\n",
              "\n",
              "    .colab-df-convert {\n",
              "      background-color: #E8F0FE;\n",
              "      border: none;\n",
              "      border-radius: 50%;\n",
              "      cursor: pointer;\n",
              "      display: none;\n",
              "      fill: #1967D2;\n",
              "      height: 32px;\n",
              "      padding: 0 0 0 0;\n",
              "      width: 32px;\n",
              "    }\n",
              "\n",
              "    .colab-df-convert:hover {\n",
              "      background-color: #E2EBFA;\n",
              "      box-shadow: 0px 1px 2px rgba(60, 64, 67, 0.3), 0px 1px 3px 1px rgba(60, 64, 67, 0.15);\n",
              "      fill: #174EA6;\n",
              "    }\n",
              "\n",
              "    [theme=dark] .colab-df-convert {\n",
              "      background-color: #3B4455;\n",
              "      fill: #D2E3FC;\n",
              "    }\n",
              "\n",
              "    [theme=dark] .colab-df-convert:hover {\n",
              "      background-color: #434B5C;\n",
              "      box-shadow: 0px 1px 3px 1px rgba(0, 0, 0, 0.15);\n",
              "      filter: drop-shadow(0px 1px 2px rgba(0, 0, 0, 0.3));\n",
              "      fill: #FFFFFF;\n",
              "    }\n",
              "  </style>\n",
              "\n",
              "      <script>\n",
              "        const buttonEl =\n",
              "          document.querySelector('#df-aa605e6e-366c-4a24-a18d-c5195bd28c2a button.colab-df-convert');\n",
              "        buttonEl.style.display =\n",
              "          google.colab.kernel.accessAllowed ? 'block' : 'none';\n",
              "\n",
              "        async function convertToInteractive(key) {\n",
              "          const element = document.querySelector('#df-aa605e6e-366c-4a24-a18d-c5195bd28c2a');\n",
              "          const dataTable =\n",
              "            await google.colab.kernel.invokeFunction('convertToInteractive',\n",
              "                                                     [key], {});\n",
              "          if (!dataTable) return;\n",
              "\n",
              "          const docLinkHtml = 'Like what you see? Visit the ' +\n",
              "            '<a target=\"_blank\" href=https://colab.research.google.com/notebooks/data_table.ipynb>data table notebook</a>'\n",
              "            + ' to learn more about interactive tables.';\n",
              "          element.innerHTML = '';\n",
              "          dataTable['output_type'] = 'display_data';\n",
              "          await google.colab.output.renderOutput(dataTable, element);\n",
              "          const docLink = document.createElement('div');\n",
              "          docLink.innerHTML = docLinkHtml;\n",
              "          element.appendChild(docLink);\n",
              "        }\n",
              "      </script>\n",
              "    </div>\n",
              "  </div>\n",
              "  "
            ],
            "application/vnd.google.colaboratory.module+javascript": "\n      import \"https://ssl.gstatic.com/colaboratory/data_table/fb998edc550c7947/data_table.js\";\n\n      window.createDataTable({\n        data: [[{\n            'v': 790,\n            'f': \"790\",\n        },\n{\n            'v': 791,\n            'f': \"791\",\n        },\n{\n            'v': 1,\n            'f': \"1\",\n        },\n\"andyoukeeptellingthatonlyaryansareallowedtorapewomenyourejustatroll#eod\",\n{\n            'v': 109,\n            'f': \"109\",\n        },\n\"andyoukeeptellingthatonlyaryansareallowedtorapewomenyourejustatroll#eod\"],\n [{\n            'v': 21928,\n            'f': \"21928\",\n        },\n{\n            'v': 21929,\n            'f': \"21929\",\n        },\n{\n            'v': 0,\n            'f': \"0\",\n        },\n\"whatmakesyou\",\n{\n            'v': 25,\n            'f': \"25\",\n        },\n\"whatmakesyou\"],\n [{\n            'v': 25642,\n            'f': \"25642\",\n        },\n{\n            'v': 25643,\n            'f': \"25643\",\n        },\n{\n            'v': 0,\n            'f': \"0\",\n        },\n\"\\u00e2#nzdusdextendsrbnzledrallyhitsfreshyearhighnear#blog#silver#gold#forex\",\n{\n            'v': 101,\n            'f': \"101\",\n        },\n\"#nzdusdextendsrbnzledrallyhitsfreshyearhighnear#blog#silver#gold#forex\"],\n [{\n            'v': 20436,\n            'f': \"20436\",\n        },\n{\n            'v': 20437,\n            'f': \"20437\",\n        },\n{\n            'v': 0,\n            'f': \"0\",\n        },\n\"imonamissiontoridealloftheanimals#teamchanlv#vegas#lasvegas#funtimes\\u00e2\",\n{\n            'v': 91,\n            'f': \"91\",\n        },\n\"imonamissiontoridealloftheanimals#teamchanlv#vegas#lasvegas#funtimes\"],\n [{\n            'v': 22552,\n            'f': \"22552\",\n        },\n{\n            'v': 22553,\n            'f': \"22553\",\n        },\n{\n            'v': 0,\n            'f': \"0\",\n        },\n\"thecolorofahumanskinmattersalottothesystemwhenitcomestojudgementcall\",\n{\n            'v': 88,\n            'f': \"88\",\n        },\n\"thecolorofahumanskinmattersalottothesystemwhenitcomestojudgementcall\"]],\n        columns: [[\"number\", \"index\"], [\"number\", \"id\"], [\"number\", \"label\"], [\"string\", \"tweet\"], [\"number\", \"len_tweet\"], [\"string\", \"tidy_tweet\"]],\n        columnOptions: [{\"width\": \"1px\", \"className\": \"index_column\"}],\n        rowsPerPage: 25,\n        helpUrl: \"https://colab.research.google.com/notebooks/data_table.ipynb\",\n        suppressOutputScrolling: true,\n        minimumWidth: undefined,\n      });\n    "
          },
          "metadata": {},
          "execution_count": 135
        }
      ],
      "source": [
        "raw['tidy_tweet'] = raw['tidy_tweet'].apply(lambda x: re.sub(\"[^A-Za-z#\\s]+\",\"\",x))\n",
        "raw.sample(5, random_state=203)"
      ]
    },
    {
      "cell_type": "markdown",
      "metadata": {
        "id": "UcClbClQIrRV"
      },
      "source": [
        "10. Remove words that is shorter than 4 characters from the processed tweets.\n",
        "\n",
        "    For example, \n",
        "      \n",
        "    `i m on a mission to ride all of the animals #teamchanlv #vegas #lasvegas #funtimes`\n",
        "      \n",
        "    will be reduced to \n",
        "      \n",
        "    `mission ride animals #teamchanlv #vegas #lasvegas #funtimes`\n"
      ]
    },
    {
      "cell_type": "code",
      "source": [
        "raw['tidy_tweet'] = raw['tidy_tweet'].apply(lambda x: ' '.join([word for word in x.split() if len(word) >= 4]))\n",
        "raw.sample(5, random_state=203)"
      ],
      "metadata": {
        "colab": {
          "base_uri": "https://localhost:8080/",
          "height": 201
        },
        "id": "n-A3S9CUjNJK",
        "outputId": "a35d62fc-1af6-49c9-b96c-3d14a732c0f4"
      },
      "execution_count": null,
      "outputs": [
        {
          "output_type": "execute_result",
          "data": {
            "text/plain": [
              "          id  label                                              tweet  \\\n",
              "790      791      1  andyoukeeptellingthatonlyaryansareallowedtorap...   \n",
              "21928  21929      0                                       whatmakesyou   \n",
              "25642  25643      0  â#nzdusdextendsrbnzledrallyhitsfreshyearhighne...   \n",
              "20436  20437      0  imonamissiontoridealloftheanimals#teamchanlv#v...   \n",
              "22552  22553      0  thecolorofahumanskinmattersalottothesystemwhen...   \n",
              "\n",
              "       len_tweet                                         tidy_tweet  \n",
              "790          109  andyoukeeptellingthatonlyaryansareallowedtorap...  \n",
              "21928         25                                       whatmakesyou  \n",
              "25642        101  #nzdusdextendsrbnzledrallyhitsfreshyearhighnea...  \n",
              "20436         91  imonamissiontoridealloftheanimals#teamchanlv#v...  \n",
              "22552         88  thecolorofahumanskinmattersalottothesystemwhen...  "
            ],
            "text/html": [
              "\n",
              "  <div id=\"df-db48e4d7-ca92-41fe-ab09-fd93e3aae6ba\">\n",
              "    <div class=\"colab-df-container\">\n",
              "      <div>\n",
              "<style scoped>\n",
              "    .dataframe tbody tr th:only-of-type {\n",
              "        vertical-align: middle;\n",
              "    }\n",
              "\n",
              "    .dataframe tbody tr th {\n",
              "        vertical-align: top;\n",
              "    }\n",
              "\n",
              "    .dataframe thead th {\n",
              "        text-align: right;\n",
              "    }\n",
              "</style>\n",
              "<table border=\"1\" class=\"dataframe\">\n",
              "  <thead>\n",
              "    <tr style=\"text-align: right;\">\n",
              "      <th></th>\n",
              "      <th>id</th>\n",
              "      <th>label</th>\n",
              "      <th>tweet</th>\n",
              "      <th>len_tweet</th>\n",
              "      <th>tidy_tweet</th>\n",
              "    </tr>\n",
              "  </thead>\n",
              "  <tbody>\n",
              "    <tr>\n",
              "      <th>790</th>\n",
              "      <td>791</td>\n",
              "      <td>1</td>\n",
              "      <td>andyoukeeptellingthatonlyaryansareallowedtorap...</td>\n",
              "      <td>109</td>\n",
              "      <td>andyoukeeptellingthatonlyaryansareallowedtorap...</td>\n",
              "    </tr>\n",
              "    <tr>\n",
              "      <th>21928</th>\n",
              "      <td>21929</td>\n",
              "      <td>0</td>\n",
              "      <td>whatmakesyou</td>\n",
              "      <td>25</td>\n",
              "      <td>whatmakesyou</td>\n",
              "    </tr>\n",
              "    <tr>\n",
              "      <th>25642</th>\n",
              "      <td>25643</td>\n",
              "      <td>0</td>\n",
              "      <td>â#nzdusdextendsrbnzledrallyhitsfreshyearhighne...</td>\n",
              "      <td>101</td>\n",
              "      <td>#nzdusdextendsrbnzledrallyhitsfreshyearhighnea...</td>\n",
              "    </tr>\n",
              "    <tr>\n",
              "      <th>20436</th>\n",
              "      <td>20437</td>\n",
              "      <td>0</td>\n",
              "      <td>imonamissiontoridealloftheanimals#teamchanlv#v...</td>\n",
              "      <td>91</td>\n",
              "      <td>imonamissiontoridealloftheanimals#teamchanlv#v...</td>\n",
              "    </tr>\n",
              "    <tr>\n",
              "      <th>22552</th>\n",
              "      <td>22553</td>\n",
              "      <td>0</td>\n",
              "      <td>thecolorofahumanskinmattersalottothesystemwhen...</td>\n",
              "      <td>88</td>\n",
              "      <td>thecolorofahumanskinmattersalottothesystemwhen...</td>\n",
              "    </tr>\n",
              "  </tbody>\n",
              "</table>\n",
              "</div>\n",
              "      <button class=\"colab-df-convert\" onclick=\"convertToInteractive('df-db48e4d7-ca92-41fe-ab09-fd93e3aae6ba')\"\n",
              "              title=\"Convert this dataframe to an interactive table.\"\n",
              "              style=\"display:none;\">\n",
              "        \n",
              "  <svg xmlns=\"http://www.w3.org/2000/svg\" height=\"24px\"viewBox=\"0 0 24 24\"\n",
              "       width=\"24px\">\n",
              "    <path d=\"M0 0h24v24H0V0z\" fill=\"none\"/>\n",
              "    <path d=\"M18.56 5.44l.94 2.06.94-2.06 2.06-.94-2.06-.94-.94-2.06-.94 2.06-2.06.94zm-11 1L8.5 8.5l.94-2.06 2.06-.94-2.06-.94L8.5 2.5l-.94 2.06-2.06.94zm10 10l.94 2.06.94-2.06 2.06-.94-2.06-.94-.94-2.06-.94 2.06-2.06.94z\"/><path d=\"M17.41 7.96l-1.37-1.37c-.4-.4-.92-.59-1.43-.59-.52 0-1.04.2-1.43.59L10.3 9.45l-7.72 7.72c-.78.78-.78 2.05 0 2.83L4 21.41c.39.39.9.59 1.41.59.51 0 1.02-.2 1.41-.59l7.78-7.78 2.81-2.81c.8-.78.8-2.07 0-2.86zM5.41 20L4 18.59l7.72-7.72 1.47 1.35L5.41 20z\"/>\n",
              "  </svg>\n",
              "      </button>\n",
              "      \n",
              "  <style>\n",
              "    .colab-df-container {\n",
              "      display:flex;\n",
              "      flex-wrap:wrap;\n",
              "      gap: 12px;\n",
              "    }\n",
              "\n",
              "    .colab-df-convert {\n",
              "      background-color: #E8F0FE;\n",
              "      border: none;\n",
              "      border-radius: 50%;\n",
              "      cursor: pointer;\n",
              "      display: none;\n",
              "      fill: #1967D2;\n",
              "      height: 32px;\n",
              "      padding: 0 0 0 0;\n",
              "      width: 32px;\n",
              "    }\n",
              "\n",
              "    .colab-df-convert:hover {\n",
              "      background-color: #E2EBFA;\n",
              "      box-shadow: 0px 1px 2px rgba(60, 64, 67, 0.3), 0px 1px 3px 1px rgba(60, 64, 67, 0.15);\n",
              "      fill: #174EA6;\n",
              "    }\n",
              "\n",
              "    [theme=dark] .colab-df-convert {\n",
              "      background-color: #3B4455;\n",
              "      fill: #D2E3FC;\n",
              "    }\n",
              "\n",
              "    [theme=dark] .colab-df-convert:hover {\n",
              "      background-color: #434B5C;\n",
              "      box-shadow: 0px 1px 3px 1px rgba(0, 0, 0, 0.15);\n",
              "      filter: drop-shadow(0px 1px 2px rgba(0, 0, 0, 0.3));\n",
              "      fill: #FFFFFF;\n",
              "    }\n",
              "  </style>\n",
              "\n",
              "      <script>\n",
              "        const buttonEl =\n",
              "          document.querySelector('#df-db48e4d7-ca92-41fe-ab09-fd93e3aae6ba button.colab-df-convert');\n",
              "        buttonEl.style.display =\n",
              "          google.colab.kernel.accessAllowed ? 'block' : 'none';\n",
              "\n",
              "        async function convertToInteractive(key) {\n",
              "          const element = document.querySelector('#df-db48e4d7-ca92-41fe-ab09-fd93e3aae6ba');\n",
              "          const dataTable =\n",
              "            await google.colab.kernel.invokeFunction('convertToInteractive',\n",
              "                                                     [key], {});\n",
              "          if (!dataTable) return;\n",
              "\n",
              "          const docLinkHtml = 'Like what you see? Visit the ' +\n",
              "            '<a target=\"_blank\" href=https://colab.research.google.com/notebooks/data_table.ipynb>data table notebook</a>'\n",
              "            + ' to learn more about interactive tables.';\n",
              "          element.innerHTML = '';\n",
              "          dataTable['output_type'] = 'display_data';\n",
              "          await google.colab.output.renderOutput(dataTable, element);\n",
              "          const docLink = document.createElement('div');\n",
              "          docLink.innerHTML = docLinkHtml;\n",
              "          element.appendChild(docLink);\n",
              "        }\n",
              "      </script>\n",
              "    </div>\n",
              "  </div>\n",
              "  "
            ],
            "application/vnd.google.colaboratory.module+javascript": "\n      import \"https://ssl.gstatic.com/colaboratory/data_table/fb998edc550c7947/data_table.js\";\n\n      window.createDataTable({\n        data: [[{\n            'v': 790,\n            'f': \"790\",\n        },\n{\n            'v': 791,\n            'f': \"791\",\n        },\n{\n            'v': 1,\n            'f': \"1\",\n        },\n\"andyoukeeptellingthatonlyaryansareallowedtorapewomenyourejustatroll#eod\",\n{\n            'v': 109,\n            'f': \"109\",\n        },\n\"andyoukeeptellingthatonlyaryansareallowedtorapewomenyourejustatroll#eod\"],\n [{\n            'v': 21928,\n            'f': \"21928\",\n        },\n{\n            'v': 21929,\n            'f': \"21929\",\n        },\n{\n            'v': 0,\n            'f': \"0\",\n        },\n\"whatmakesyou\",\n{\n            'v': 25,\n            'f': \"25\",\n        },\n\"whatmakesyou\"],\n [{\n            'v': 25642,\n            'f': \"25642\",\n        },\n{\n            'v': 25643,\n            'f': \"25643\",\n        },\n{\n            'v': 0,\n            'f': \"0\",\n        },\n\"\\u00e2#nzdusdextendsrbnzledrallyhitsfreshyearhighnear#blog#silver#gold#forex\",\n{\n            'v': 101,\n            'f': \"101\",\n        },\n\"#nzdusdextendsrbnzledrallyhitsfreshyearhighnear#blog#silver#gold#forex\"],\n [{\n            'v': 20436,\n            'f': \"20436\",\n        },\n{\n            'v': 20437,\n            'f': \"20437\",\n        },\n{\n            'v': 0,\n            'f': \"0\",\n        },\n\"imonamissiontoridealloftheanimals#teamchanlv#vegas#lasvegas#funtimes\\u00e2\",\n{\n            'v': 91,\n            'f': \"91\",\n        },\n\"imonamissiontoridealloftheanimals#teamchanlv#vegas#lasvegas#funtimes\"],\n [{\n            'v': 22552,\n            'f': \"22552\",\n        },\n{\n            'v': 22553,\n            'f': \"22553\",\n        },\n{\n            'v': 0,\n            'f': \"0\",\n        },\n\"thecolorofahumanskinmattersalottothesystemwhenitcomestojudgementcall\",\n{\n            'v': 88,\n            'f': \"88\",\n        },\n\"thecolorofahumanskinmattersalottothesystemwhenitcomestojudgementcall\"]],\n        columns: [[\"number\", \"index\"], [\"number\", \"id\"], [\"number\", \"label\"], [\"string\", \"tweet\"], [\"number\", \"len_tweet\"], [\"string\", \"tidy_tweet\"]],\n        columnOptions: [{\"width\": \"1px\", \"className\": \"index_column\"}],\n        rowsPerPage: 25,\n        helpUrl: \"https://colab.research.google.com/notebooks/data_table.ipynb\",\n        suppressOutputScrolling: true,\n        minimumWidth: undefined,\n      });\n    "
          },
          "metadata": {},
          "execution_count": 136
        }
      ]
    },
    {
      "cell_type": "markdown",
      "metadata": {
        "id": "Q5tzGFhXqHSd"
      },
      "source": [
        "11. Remove stopwords and perform text normalization. \n",
        "    \n",
        "    We will use `stopwords` collection and `SnowballStemmer` in `nltk` for this task. Before doing so, we need to tokenize the tweets. \n",
        "    Tokens are individual terms or words, and tokenization is simply to split a string of text into tokens. \n",
        "    You can use [`str.split()`](https://docs.python.org/3/library/stdtypes.html#str.split) on individual text and [`apply`](https://pandas.pydata.org/docs/reference/api/pandas.DataFrame.apply.html) a simple lambda function for the series `raw['tidy_tweet']` and save the result into `tokenized_tweet`. \n",
        "    \n",
        "    Check out some methods for the built-in type `str` [here](https://docs.python.org/3/library/stdtypes.html#string-methods)."
      ]
    },
    {
      "cell_type": "code",
      "source": [
        "tokenized_tweet = raw['tidy_tweet'].apply(lambda x: x.split())\n",
        "tokenized_tweet.head()"
      ],
      "metadata": {
        "colab": {
          "base_uri": "https://localhost:8080/"
        },
        "id": "zMhtAQuBjiOQ",
        "outputId": "60125a8b-cf3f-4edd-d2bb-4c00d7aa6983"
      },
      "execution_count": null,
      "outputs": [
        {
          "output_type": "execute_result",
          "data": {
            "text/plain": [
              "0    [whenafatherisdysfunctionalandissoselfishhedra...\n",
              "1    [thanksfor#lyftcrediticantusecausetheydontoffe...\n",
              "2                                  [bihdayyourmajesty]\n",
              "3                [#modeliloveutakewithuallthetimeinur]\n",
              "4                    [factsguidesocietynow#motivation]\n",
              "Name: tidy_tweet, dtype: object"
            ]
          },
          "metadata": {},
          "execution_count": 137
        }
      ]
    },
    {
      "cell_type": "markdown",
      "metadata": {
        "id": "SHtedqavqHSe"
      },
      "source": [
        "12. Extract stop words and remove them from the tokens.\n",
        "\n",
        "    Note: depending on the task / industry, it is highly recommended that one curate custom stop words. "
      ]
    },
    {
      "cell_type": "code",
      "execution_count": null,
      "metadata": {
        "id": "wG6tMYE9qHSe",
        "colab": {
          "base_uri": "https://localhost:8080/"
        },
        "outputId": "3a69d4db-89be-4fb9-c938-532f4f468ed2"
      },
      "outputs": [
        {
          "output_type": "stream",
          "name": "stderr",
          "text": [
            "[nltk_data] Downloading package stopwords to /root/nltk_data...\n",
            "[nltk_data]   Package stopwords is already up-to-date!\n"
          ]
        }
      ],
      "source": [
        "nltk.download('stopwords')\n",
        "from nltk.corpus import stopwords\n",
        "stop_words = stopwords.words('english')"
      ]
    },
    {
      "cell_type": "code",
      "source": [
        "print(stop_words)"
      ],
      "metadata": {
        "colab": {
          "base_uri": "https://localhost:8080/"
        },
        "id": "De6jCqoyjumr",
        "outputId": "60ced8a9-3b19-40ae-c99f-34258dd7366d"
      },
      "execution_count": null,
      "outputs": [
        {
          "output_type": "stream",
          "name": "stdout",
          "text": [
            "['i', 'me', 'my', 'myself', 'we', 'our', 'ours', 'ourselves', 'you', \"you're\", \"you've\", \"you'll\", \"you'd\", 'your', 'yours', 'yourself', 'yourselves', 'he', 'him', 'his', 'himself', 'she', \"she's\", 'her', 'hers', 'herself', 'it', \"it's\", 'its', 'itself', 'they', 'them', 'their', 'theirs', 'themselves', 'what', 'which', 'who', 'whom', 'this', 'that', \"that'll\", 'these', 'those', 'am', 'is', 'are', 'was', 'were', 'be', 'been', 'being', 'have', 'has', 'had', 'having', 'do', 'does', 'did', 'doing', 'a', 'an', 'the', 'and', 'but', 'if', 'or', 'because', 'as', 'until', 'while', 'of', 'at', 'by', 'for', 'with', 'about', 'against', 'between', 'into', 'through', 'during', 'before', 'after', 'above', 'below', 'to', 'from', 'up', 'down', 'in', 'out', 'on', 'off', 'over', 'under', 'again', 'further', 'then', 'once', 'here', 'there', 'when', 'where', 'why', 'how', 'all', 'any', 'both', 'each', 'few', 'more', 'most', 'other', 'some', 'such', 'no', 'nor', 'not', 'only', 'own', 'same', 'so', 'than', 'too', 'very', 's', 't', 'can', 'will', 'just', 'don', \"don't\", 'should', \"should've\", 'now', 'd', 'll', 'm', 'o', 're', 've', 'y', 'ain', 'aren', \"aren't\", 'couldn', \"couldn't\", 'didn', \"didn't\", 'doesn', \"doesn't\", 'hadn', \"hadn't\", 'hasn', \"hasn't\", 'haven', \"haven't\", 'isn', \"isn't\", 'ma', 'mightn', \"mightn't\", 'mustn', \"mustn't\", 'needn', \"needn't\", 'shan', \"shan't\", 'shouldn', \"shouldn't\", 'wasn', \"wasn't\", 'weren', \"weren't\", 'won', \"won't\", 'wouldn', \"wouldn't\"]\n"
          ]
        }
      ]
    },
    {
      "cell_type": "code",
      "source": [
        "tokenized_tweet = tokenized_tweet.apply(lambda x: [word for word in x if word.lower() not in stop_words])"
      ],
      "metadata": {
        "id": "6kreL2C6jwle"
      },
      "execution_count": null,
      "outputs": []
    },
    {
      "cell_type": "code",
      "execution_count": null,
      "metadata": {
        "id": "4NlUGjqCqHSe"
      },
      "outputs": [],
      "source": [
        "assert any(word in tokenized_tweet for word in stop_words) == False"
      ]
    },
    {
      "cell_type": "markdown",
      "metadata": {
        "id": "9iQM37ChqHSe"
      },
      "source": [
        "13. Create a new instance of a language specific [`SnowballStemmer`](https://www.nltk.org/api/nltk.stem.snowball.html), set the `language` to be \"english\"; see [how to](https://www.nltk.org/howto/stem.html). "
      ]
    },
    {
      "cell_type": "code",
      "execution_count": null,
      "metadata": {
        "id": "deglx5x_04Bw"
      },
      "outputs": [],
      "source": [
        "#Create new language instances\n",
        "from nltk.stem.snowball import SnowballStemmer\n",
        "stemmer = SnowballStemmer(\"english\")"
      ]
    },
    {
      "cell_type": "code",
      "execution_count": null,
      "metadata": {
        "id": "e6Je03Eb6RCm",
        "colab": {
          "base_uri": "https://localhost:8080/"
        },
        "outputId": "5cc15b32-d638-4e7a-b509-7004b8fc814d"
      },
      "outputs": [
        {
          "output_type": "execute_result",
          "data": {
            "text/plain": [
              "0    [whenafatherisdysfunctionalandissoselfishhedra...\n",
              "1    [thanksfor#lyftcrediticantusecausetheydontoffe...\n",
              "2                                  [bihdayyourmajesti]\n",
              "3                [#modeliloveutakewithuallthetimeinur]\n",
              "4                         [factsguidesocietynow#motiv]\n",
              "Name: tidy_tweet, dtype: object"
            ]
          },
          "metadata": {},
          "execution_count": 143
        }
      ],
      "source": [
        "tokenized_tweet = tokenized_tweet.apply(lambda x: [stemmer.stem(i) for i in x]) \n",
        "tokenized_tweet.head()"
      ]
    },
    {
      "cell_type": "markdown",
      "metadata": {
        "id": "ZvMfXkyiqHSe"
      },
      "source": [
        "14. Lastly, let's stitch these tokens in `tokenized_tweet` back together and save them in `raw['tidy_tweet']`. \n",
        "Use [`str.join()`](https://docs.python.org/3/library/stdtypes.html#str.join) and `apply`."
      ]
    },
    {
      "cell_type": "code",
      "source": [
        "raw['tidy_tweet'] = tokenized_tweet.apply(lambda x: ' '.join([word for word in x]))\n",
        "raw.head(5)"
      ],
      "metadata": {
        "colab": {
          "base_uri": "https://localhost:8080/",
          "height": 201
        },
        "id": "5AFcuqL1kL05",
        "outputId": "6acb9f3e-2ef1-4442-d576-e7132ba80c02"
      },
      "execution_count": null,
      "outputs": [
        {
          "output_type": "execute_result",
          "data": {
            "text/plain": [
              "   id  label                                              tweet  len_tweet  \\\n",
              "0   1      0  whenafatherisdysfunctionalandissoselfishhedrag...        102   \n",
              "1   2      0  thanksfor#lyftcrediticantusecausetheydontoffer...        122   \n",
              "2   3      0                                  bihdayyourmajesty         21   \n",
              "3   4      0        #modeliloveutakewithuallthetimeinurðððððððð         86   \n",
              "4   5      0                    factsguidesocietynow#motivation         39   \n",
              "\n",
              "                                          tidy_tweet  \n",
              "0  whenafatherisdysfunctionalandissoselfishhedrag...  \n",
              "1  thanksfor#lyftcrediticantusecausetheydontoffer...  \n",
              "2                                  bihdayyourmajesti  \n",
              "3                #modeliloveutakewithuallthetimeinur  \n",
              "4                         factsguidesocietynow#motiv  "
            ],
            "text/html": [
              "\n",
              "  <div id=\"df-bb9ede9d-4e72-42a1-8407-eb7cf2317091\">\n",
              "    <div class=\"colab-df-container\">\n",
              "      <div>\n",
              "<style scoped>\n",
              "    .dataframe tbody tr th:only-of-type {\n",
              "        vertical-align: middle;\n",
              "    }\n",
              "\n",
              "    .dataframe tbody tr th {\n",
              "        vertical-align: top;\n",
              "    }\n",
              "\n",
              "    .dataframe thead th {\n",
              "        text-align: right;\n",
              "    }\n",
              "</style>\n",
              "<table border=\"1\" class=\"dataframe\">\n",
              "  <thead>\n",
              "    <tr style=\"text-align: right;\">\n",
              "      <th></th>\n",
              "      <th>id</th>\n",
              "      <th>label</th>\n",
              "      <th>tweet</th>\n",
              "      <th>len_tweet</th>\n",
              "      <th>tidy_tweet</th>\n",
              "    </tr>\n",
              "  </thead>\n",
              "  <tbody>\n",
              "    <tr>\n",
              "      <th>0</th>\n",
              "      <td>1</td>\n",
              "      <td>0</td>\n",
              "      <td>whenafatherisdysfunctionalandissoselfishhedrag...</td>\n",
              "      <td>102</td>\n",
              "      <td>whenafatherisdysfunctionalandissoselfishhedrag...</td>\n",
              "    </tr>\n",
              "    <tr>\n",
              "      <th>1</th>\n",
              "      <td>2</td>\n",
              "      <td>0</td>\n",
              "      <td>thanksfor#lyftcrediticantusecausetheydontoffer...</td>\n",
              "      <td>122</td>\n",
              "      <td>thanksfor#lyftcrediticantusecausetheydontoffer...</td>\n",
              "    </tr>\n",
              "    <tr>\n",
              "      <th>2</th>\n",
              "      <td>3</td>\n",
              "      <td>0</td>\n",
              "      <td>bihdayyourmajesty</td>\n",
              "      <td>21</td>\n",
              "      <td>bihdayyourmajesti</td>\n",
              "    </tr>\n",
              "    <tr>\n",
              "      <th>3</th>\n",
              "      <td>4</td>\n",
              "      <td>0</td>\n",
              "      <td>#modeliloveutakewithuallthetimeinurðððððððð</td>\n",
              "      <td>86</td>\n",
              "      <td>#modeliloveutakewithuallthetimeinur</td>\n",
              "    </tr>\n",
              "    <tr>\n",
              "      <th>4</th>\n",
              "      <td>5</td>\n",
              "      <td>0</td>\n",
              "      <td>factsguidesocietynow#motivation</td>\n",
              "      <td>39</td>\n",
              "      <td>factsguidesocietynow#motiv</td>\n",
              "    </tr>\n",
              "  </tbody>\n",
              "</table>\n",
              "</div>\n",
              "      <button class=\"colab-df-convert\" onclick=\"convertToInteractive('df-bb9ede9d-4e72-42a1-8407-eb7cf2317091')\"\n",
              "              title=\"Convert this dataframe to an interactive table.\"\n",
              "              style=\"display:none;\">\n",
              "        \n",
              "  <svg xmlns=\"http://www.w3.org/2000/svg\" height=\"24px\"viewBox=\"0 0 24 24\"\n",
              "       width=\"24px\">\n",
              "    <path d=\"M0 0h24v24H0V0z\" fill=\"none\"/>\n",
              "    <path d=\"M18.56 5.44l.94 2.06.94-2.06 2.06-.94-2.06-.94-.94-2.06-.94 2.06-2.06.94zm-11 1L8.5 8.5l.94-2.06 2.06-.94-2.06-.94L8.5 2.5l-.94 2.06-2.06.94zm10 10l.94 2.06.94-2.06 2.06-.94-2.06-.94-.94-2.06-.94 2.06-2.06.94z\"/><path d=\"M17.41 7.96l-1.37-1.37c-.4-.4-.92-.59-1.43-.59-.52 0-1.04.2-1.43.59L10.3 9.45l-7.72 7.72c-.78.78-.78 2.05 0 2.83L4 21.41c.39.39.9.59 1.41.59.51 0 1.02-.2 1.41-.59l7.78-7.78 2.81-2.81c.8-.78.8-2.07 0-2.86zM5.41 20L4 18.59l7.72-7.72 1.47 1.35L5.41 20z\"/>\n",
              "  </svg>\n",
              "      </button>\n",
              "      \n",
              "  <style>\n",
              "    .colab-df-container {\n",
              "      display:flex;\n",
              "      flex-wrap:wrap;\n",
              "      gap: 12px;\n",
              "    }\n",
              "\n",
              "    .colab-df-convert {\n",
              "      background-color: #E8F0FE;\n",
              "      border: none;\n",
              "      border-radius: 50%;\n",
              "      cursor: pointer;\n",
              "      display: none;\n",
              "      fill: #1967D2;\n",
              "      height: 32px;\n",
              "      padding: 0 0 0 0;\n",
              "      width: 32px;\n",
              "    }\n",
              "\n",
              "    .colab-df-convert:hover {\n",
              "      background-color: #E2EBFA;\n",
              "      box-shadow: 0px 1px 2px rgba(60, 64, 67, 0.3), 0px 1px 3px 1px rgba(60, 64, 67, 0.15);\n",
              "      fill: #174EA6;\n",
              "    }\n",
              "\n",
              "    [theme=dark] .colab-df-convert {\n",
              "      background-color: #3B4455;\n",
              "      fill: #D2E3FC;\n",
              "    }\n",
              "\n",
              "    [theme=dark] .colab-df-convert:hover {\n",
              "      background-color: #434B5C;\n",
              "      box-shadow: 0px 1px 3px 1px rgba(0, 0, 0, 0.15);\n",
              "      filter: drop-shadow(0px 1px 2px rgba(0, 0, 0, 0.3));\n",
              "      fill: #FFFFFF;\n",
              "    }\n",
              "  </style>\n",
              "\n",
              "      <script>\n",
              "        const buttonEl =\n",
              "          document.querySelector('#df-bb9ede9d-4e72-42a1-8407-eb7cf2317091 button.colab-df-convert');\n",
              "        buttonEl.style.display =\n",
              "          google.colab.kernel.accessAllowed ? 'block' : 'none';\n",
              "\n",
              "        async function convertToInteractive(key) {\n",
              "          const element = document.querySelector('#df-bb9ede9d-4e72-42a1-8407-eb7cf2317091');\n",
              "          const dataTable =\n",
              "            await google.colab.kernel.invokeFunction('convertToInteractive',\n",
              "                                                     [key], {});\n",
              "          if (!dataTable) return;\n",
              "\n",
              "          const docLinkHtml = 'Like what you see? Visit the ' +\n",
              "            '<a target=\"_blank\" href=https://colab.research.google.com/notebooks/data_table.ipynb>data table notebook</a>'\n",
              "            + ' to learn more about interactive tables.';\n",
              "          element.innerHTML = '';\n",
              "          dataTable['output_type'] = 'display_data';\n",
              "          await google.colab.output.renderOutput(dataTable, element);\n",
              "          const docLink = document.createElement('div');\n",
              "          docLink.innerHTML = docLinkHtml;\n",
              "          element.appendChild(docLink);\n",
              "        }\n",
              "      </script>\n",
              "    </div>\n",
              "  </div>\n",
              "  "
            ],
            "application/vnd.google.colaboratory.module+javascript": "\n      import \"https://ssl.gstatic.com/colaboratory/data_table/fb998edc550c7947/data_table.js\";\n\n      window.createDataTable({\n        data: [[{\n            'v': 0,\n            'f': \"0\",\n        },\n{\n            'v': 1,\n            'f': \"1\",\n        },\n{\n            'v': 0,\n            'f': \"0\",\n        },\n\"whenafatherisdysfunctionalandissoselfishhedragshiskidsintohisdysfunction#run\",\n{\n            'v': 102,\n            'f': \"102\",\n        },\n\"whenafatherisdysfunctionalandissoselfishhedragshiskidsintohisdysfunction#run\"],\n [{\n            'v': 1,\n            'f': \"1\",\n        },\n{\n            'v': 2,\n            'f': \"2\",\n        },\n{\n            'v': 0,\n            'f': \"0\",\n        },\n\"thanksfor#lyftcrediticantusecausetheydontofferwheelchairvansinpdx#disapointed#getthanked\",\n{\n            'v': 122,\n            'f': \"122\",\n        },\n\"thanksfor#lyftcrediticantusecausetheydontofferwheelchairvansinpdx#disapointed#getthank\"],\n [{\n            'v': 2,\n            'f': \"2\",\n        },\n{\n            'v': 3,\n            'f': \"3\",\n        },\n{\n            'v': 0,\n            'f': \"0\",\n        },\n\"bihdayyourmajesty\",\n{\n            'v': 21,\n            'f': \"21\",\n        },\n\"bihdayyourmajesti\"],\n [{\n            'v': 3,\n            'f': \"3\",\n        },\n{\n            'v': 4,\n            'f': \"4\",\n        },\n{\n            'v': 0,\n            'f': \"0\",\n        },\n\"#modeliloveutakewithuallthetimeinur\\u00f0\\u00f0\\u00f0\\u00f0\\u00f0\\u00f0\\u00f0\\u00f0\",\n{\n            'v': 86,\n            'f': \"86\",\n        },\n\"#modeliloveutakewithuallthetimeinur\"],\n [{\n            'v': 4,\n            'f': \"4\",\n        },\n{\n            'v': 5,\n            'f': \"5\",\n        },\n{\n            'v': 0,\n            'f': \"0\",\n        },\n\"factsguidesocietynow#motivation\",\n{\n            'v': 39,\n            'f': \"39\",\n        },\n\"factsguidesocietynow#motiv\"]],\n        columns: [[\"number\", \"index\"], [\"number\", \"id\"], [\"number\", \"label\"], [\"string\", \"tweet\"], [\"number\", \"len_tweet\"], [\"string\", \"tidy_tweet\"]],\n        columnOptions: [{\"width\": \"1px\", \"className\": \"index_column\"}],\n        rowsPerPage: 25,\n        helpUrl: \"https://colab.research.google.com/notebooks/data_table.ipynb\",\n        suppressOutputScrolling: true,\n        minimumWidth: undefined,\n      });\n    "
          },
          "metadata": {},
          "execution_count": 144
        }
      ]
    },
    {
      "cell_type": "markdown",
      "metadata": {
        "id": "Ui0kvijA1SKS"
      },
      "source": [
        "# Task 2. Wordcloud and Hashtag"
      ]
    },
    {
      "cell_type": "markdown",
      "metadata": {
        "id": "Xgyq4Qj0qHSg"
      },
      "source": [
        "In this task, we want to gain a general idea of what the common words were and how hashtags were used in tweets. \n",
        "We will create wordclouds and extract the top hashtags used in each label. "
      ]
    },
    {
      "cell_type": "markdown",
      "metadata": {
        "id": "VcNrDDXUqHSg"
      },
      "source": [
        "1. Before doing so, out of caution of possible data leakage, split the `raw['tidy_tweet']` into training and test datasets in a stratified fashion, set the test size at .25 and random state as 42.\n",
        "    \n",
        "    Save the results into `X_train`, `X_test`, `y_train`, and `y_test`."
      ]
    },
    {
      "cell_type": "code",
      "source": [
        "# Split the data into training and test sets\n",
        "X_train, X_test, y_train, y_test = train_test_split(raw['tidy_tweet'], raw['label'], test_size=0.25, random_state=42, stratify=raw['label'])"
      ],
      "metadata": {
        "id": "Z6RXP2sz01yK"
      },
      "execution_count": null,
      "outputs": []
    },
    {
      "cell_type": "code",
      "execution_count": null,
      "metadata": {
        "id": "6QKFflId1XYb"
      },
      "outputs": [],
      "source": [
        "assert X_train.shape == y_train.shape == (23971, )\n",
        "assert X_test.shape == y_test.shape == (7991,)"
      ]
    },
    {
      "cell_type": "markdown",
      "metadata": {
        "id": "I1JaWVklqHSg"
      },
      "source": [
        "2. A word cloud is a cluster of words depicted in different sizes. \n",
        "The bigger the word appears, the more often it appears in the given text. \n",
        "It can offer an easy visual presentation to reveal the theme of a topic. \n",
        "\n",
        "    Function `plot_wordcloud` is provided to plot 50 most frequent words from the given text in the shape of twitter's logo. \n",
        "    You may need to replace the image path accordingly."
      ]
    },
    {
      "cell_type": "code",
      "execution_count": null,
      "metadata": {
        "id": "UByekRZz1rxT"
      },
      "outputs": [],
      "source": [
        "from wordcloud import WordCloud\n",
        "from PIL import Image\n",
        "\n",
        "def plot_wordcloud(text:str) -> None:\n",
        "    '''\n",
        "    Plot a wordcloud of top 50 words from the input text\n",
        "    masked by twitter logo\n",
        "    '''\n",
        "    mask = np.array(Image.open('/content/drive/MyDrive/4thbrain/twitter-mask.png'))\n",
        "    wordcloud = WordCloud( \n",
        "        background_color='yellow', \n",
        "        random_state=42,\n",
        "        max_words=50, \n",
        "        max_font_size=80, \n",
        "        mask = mask).generate(text)\n",
        "    plt.figure(figsize=(10,10))\n",
        "    plt.imshow(wordcloud, interpolation=\"bilinear\")\n",
        "    plt.axis(\"off\")\n",
        "    plt.show()"
      ]
    },
    {
      "cell_type": "markdown",
      "metadata": {
        "id": "9bK-Eqb1qHSh"
      },
      "source": [
        "3. Visualize the wordcloud. \n",
        "\n",
        "    The function expects one long string. \n",
        "    Stitch all tidy tweets from training set and save the single string to `all_words`, then visualize the wordcloud for all the words."
      ]
    },
    {
      "cell_type": "code",
      "source": [
        "# Concatenate the individual tweets into a single string\n",
        "all_words = ' '.join(X_train)\n",
        "\n",
        "# Visualize the wordcloud for all the words in the training set\n",
        "plot_wordcloud(all_words)"
      ],
      "metadata": {
        "colab": {
          "base_uri": "https://localhost:8080/",
          "height": 511
        },
        "id": "WSfuPjWg_1h9",
        "outputId": "6d5b6af1-eb14-4928-df4b-6edae4f7a742"
      },
      "execution_count": null,
      "outputs": [
        {
          "output_type": "display_data",
          "data": {
            "text/plain": [
              "<Figure size 720x720 with 1 Axes>"
            ],
            "image/png": "[encoded data removed]"
          },
          "metadata": {
            "needs_background": "light"
          }
        }
      ]
    },
    {
      "cell_type": "markdown",
      "metadata": {
        "id": "luL-uZdHqHSh"
      },
      "source": [
        "4. Visualize the wordcloud just for the text from the tweets identified as hate speech. \n",
        "\n",
        "    Similarly, you need to stitch all the tidy tweets in training set that were identified as hate speech. \n",
        "    Save the long string to `negative_words`."
      ]
    },
    {
      "cell_type": "code",
      "source": [
        "hate = raw[raw['label']==1]\n",
        "good = raw[raw['label']==0]\n",
        "\n",
        "all_hate = ''.join(hate['tidy_tweet'])\n",
        "all_good = ''.join(good['tidy_tweet'])\n",
        "\n",
        "all_words = ''.join(raw['tidy_tweet'])\n"
      ],
      "metadata": {
        "id": "ujr09vyXAQ_u"
      },
      "execution_count": null,
      "outputs": []
    },
    {
      "cell_type": "code",
      "source": [
        "# Initialize wordcloud object\n",
        "wordcloud = WordCloud(background_color='yellow', random_state=42).generate(all_words)\n",
        "# Generate and plot wordcloud\n",
        "plt.figure(figsize=(10,10))\n",
        "plt.imshow(wordcloud, interpolation=\"bilinear\")\n",
        "plt.axis(\"off\")\n",
        "plt.show()\n",
        "# Visualize the wordcloud for just the text from tweets identified as hate speech\n",
        "plot_wordcloud(all_hate)"
      ],
      "metadata": {
        "colab": {
          "base_uri": "https://localhost:8080/",
          "height": 804
        },
        "id": "k-CEbfvnCAev",
        "outputId": "c1093a6e-e552-454f-9eaf-b19b4b3a1017"
      },
      "execution_count": null,
      "outputs": [
        {
          "output_type": "display_data",
          "data": {
            "text/plain": [
              "<Figure size 720x720 with 1 Axes>"
            ],
            "image/png": "[encoded data removed]"
          },
          "metadata": {
            "needs_background": "light"
          }
        },
        {
          "output_type": "display_data",
          "data": {
            "text/plain": [
              "<Figure size 720x720 with 1 Axes>"
            ],
            "image/png": "[encoded data removed]"
          },
          "metadata": {
            "needs_background": "light"
          }
        }
      ]
    },
    {
      "cell_type": "markdown",
      "source": [
        "the second image above plots negative words"
      ],
      "metadata": {
        "id": "qiMj1olRAWh3"
      }
    },
    {
      "cell_type": "markdown",
      "source": [
        "plotwordcloud() function to visualize the wordcloud just for the text from the tweets identified as hate speech, by passing the negativewords as an argument. This will generate a wordcloud in the shape of Twitter's logo containing only the words found in the tweets identified as hate speech."
      ],
      "metadata": {
        "id": "N6wr3O6a5UY4"
      }
    },
    {
      "cell_type": "markdown",
      "metadata": {
        "id": "l0B4y2c0qHSh"
      },
      "source": [
        "5. Hashtag is a feature for tweets and we would like to inspect if hashtags provide information for our classification task. \n",
        "\n",
        "    Function `hashtag_extract` is provided to extract hastags from an iterable (list or series) and return the hashtags in a list. "
      ]
    },
    {
      "cell_type": "code",
      "execution_count": null,
      "metadata": {
        "id": "GqtqY7a422_e"
      },
      "outputs": [],
      "source": [
        "def hashtag_extract(x) -> list:\n",
        "    \"\"\"\n",
        "    extract hastags from an iterable (list or series) and \n",
        "    return the hashtags in a list.\n",
        "    \"\"\"\n",
        "    hashtags = []\n",
        "    # Loop over the words in the tweet\n",
        "    for i in x:\n",
        "        ht = re.findall(r\"#(\\w+)\", i)\n",
        "        hashtags.append(ht)\n",
        "    return hashtags"
      ]
    },
    {
      "cell_type": "markdown",
      "metadata": {
        "id": "nU3Zu-flqHSh"
      },
      "source": [
        "6. Extract hashtags from non-hate speech tweets."
      ]
    },
    {
      "cell_type": "code",
      "source": [
        "# Call the hashtag_extract function\n",
        "HT_regular = hashtag_extract(good['tidy_tweet'])\n"
      ],
      "metadata": {
        "id": "gKzvqpW0At9Y"
      },
      "execution_count": null,
      "outputs": []
    },
    {
      "cell_type": "code",
      "execution_count": null,
      "metadata": {
        "id": "vp1TyoOL3OoM"
      },
      "outputs": [],
      "source": [
        "assert type(HT_regular) == list\n",
        "assert type(HT_regular[0]) == list # nested list"
      ]
    },
    {
      "cell_type": "markdown",
      "metadata": {
        "id": "4AmW0K8HqHSh"
      },
      "source": [
        "7. Now extract hashtags from hate speech tweets."
      ]
    },
    {
      "cell_type": "code",
      "source": [
        "# Extract hashtags from hate speech tweets\n",
        "HT_negative = hashtag_extract(hate['tidy_tweet'])\n",
        "\n",
        "# Print out the list of hashtags\n",
        "print(HT_negative)"
      ],
      "metadata": {
        "colab": {
          "base_uri": "https://localhost:8080/"
        },
        "id": "0BWr2dwQBIOB",
        "outputId": "af6cfcb4-06bd-4896-a2bf-c58aaf5394a2"
      },
      "execution_count": null,
      "outputs": [
        {
          "output_type": "stream",
          "name": "stdout",
          "text": [
            "[['cnncalls', 'michiganmiddleschoolbuildthewallchant', 'tcot'], ['australia', 'opkillingbay', 'seashepherd', 'helpcovedolphins', 'thecove', 'helpcovedolphin'], [], [], ['neverump', 'xenophobia'], ['love', 'peac'], [], ['race', 'identity', 'm'], ['altrightusesampinsecuritytoluremeninto', 'whitesupremaci'], ['linguisticsthatdoesntaddress', 'raceampracismisabout', 'power', 'raciolinguisticsbr'], ['brexit'], ['peoplearentprotesting', 'trumpbecausea', 'republicanwontheydosobecausetrumphasfuheredamp'], ['michelleobamaagorillabecauseracistshavelongthoughtofblackpeopleasnobet'], ['knicksgamesuckedmorethanhis', 'golf'], ['jewishsupremacist'], ['libtard', 'sjw', 'liberal', 'polit'], ['trashamericaivotedagainst', 'hateivotedagainstivotedagainstivot'], [], [], ['stereotyping', 'prejudiceofferno', 'hopeorsolutionsbutcreatethesameoldrepetitive', 'hate', 'conflict'], ['polspassedbyhowmanytimesandsaidnothing', 'bluelivesmatter', 'draintheswamp', 'ferguson'], ['thatmadeuscring'], ['antisemitism', 'hocoschools', 'columbiamd', 'hocomd'], ['nazisover', 'hatredamp', 'bigotrybeingfoundw'], ['libtard', 'sjw', 'liberal', 'polit'], ['p', 'p', 'fyi', 'tcot'], ['topoli'], ['blacklivesmatteramplethisnonsensicalrantsboo'], ['ushistory', 'eugen'], ['biherismabsolutelyoriginatedinhateful', 'bigotry', 'altrighthatredofourafricanamerican', 'potus', 'theresist'], ['crime', 'offic'], [], ['blackampfeellikethearestompingonyou', 'retweet', 'tampa', 'miami'], ['allahsoilthemorefamiliarwebecomethemoredifficultitistostereotyp'], [], ['praised', 'clevelandpoliceduring', 'rncthepoliceareunderaconsentdecreeare', 'white', 'tamirrice', 'rip'], ['bigot'], [], ['blacklivesmatterslogantalkaboutb'], ['feminismiscancer', 'feminismisterrorism', 'feminismmuktbharatwhy', 'malevoteisignor'], [], ['prowar', 'anti', 'islamic', 'homophobic', 'rapistwhoadvocatesmoreofsame', 'hypocrit'], [], ['latesnew'], ['libtard', 'sjw', 'liberal', 'polit'], ['trumpkeepsechoeshissentimentsampideals', 'dumptrump'], ['lifelessonsofawhitekidwhogrewupinthes', 'blogpost', 'whitepeople', 'respect'], [], ['fakenewsal'], ['h'], ['trumpused', 'hateand', 'putintowinthewhitehouse', 'trumppressesattackonkhanfamilyandgoplead'], [], [], ['starspangledbanner', 'slavery', 'apaheid', 'usa'], ['social', 'media', 'aand'], ['eod'], ['trumpwillcondemnthe', 'vile', 'bigotedcommentsof', 'his', 'surrogate', 'carlpaladino', 'endh'], ['allahsoilvpsgotmultimilliondollarbonuseswhileaverageamericanslosttheirhom'], ['discriminationandhasaffectedthecriminaljusticesystem'], ['endthen'], ['misogyny', 'homophobia', 'bigotri'], [], [], ['rushlimbaughdoeshisincrediblyobamaimpressionvia'], [], ['trumpusawhentheycallus', 'homophobic', 'misogynisttheyarereallysayingtheyarejealousofusw'], ['sjwretardwantsmor'], ['hopefor', 'newyearabusinesstoend', 'endof', 'tedtalks', 'tedatibm'], ['cspanforhidingforyearspittsburghcalifornia'], ['peoplearentprotesting', 'trumpbecausea', 'republicanwontheydosobecausetrumphasfuheredamp'], ['opinionracismis', 'degradingpeoplebasedonracetojustify', 'discriminationoropen', 'violenceagainstthem', 'stoprac'], ['allahsoilthenextbestsellerbook', 'isis', 'islam', 'inworlds', 'inwords', 'terrorists', 'gwot'], ['tuckercarlson'], [], ['oppressedorhistoric', 'oppressors', 'privileg'], ['spac'], [], ['ivankatrumpontheplanewhichwas', 'fakeyetignore', 'adamsaleh', 'ra'], ['zionaziisproudofmurderingrealpalestiniansemiticchildrenthatswhatical'], [], ['lbgtfamilybutwhatidontgetistheincessantbutthinveiledagainstothergayminor'], ['trump', 'barackobama', 'michelleobama'], ['quebecs', 'humanrightsamp', 'justicesystemfailtoprotectvictimsofpolic'], ['berlin'], ['returnmyvinyl'], ['chrismukkah'], ['keyboardiswhenitypecausecooptingterroristsregsyriaitautocorrectstocausecoloredterrorist'], ['bigotora', 'misogynistsoihopethatistillqualify', 'keepyoureyesontheprizemlk'], ['blacks', 'africanamerican', 'reparationsnow'], ['potuswerewhitehedstillbetheworstpresidenteverandmostlikelythemostpresidentever', 'trump', 'israel', 'happynewyear'], ['decolon'], ['america'], ['treasonoustrumpunsatisfiedwithhis', 'whiteisis', 'terrorismhasmovedintonuclearterrorinanew'], ['ellenmadecommentssoshouldwebesuppoingherifyousay', 'kimburrellmadehomoresist'], ['newyearnew', 'preznew', 'destructionnew', 'commercialsnewnewordernewtweetsnew', 'poopinnewkidsont'], ['shuckinandjivinforthe', 'democraticpaythatonlywantourvot'], ['hitleryouredefinitelynotgoingtolike', 'traitor', 'trump'], ['liberalsareselfloathingdoesntmeantherestofusaretheonlyweaponyouhaveistoyel'], ['birdsofafeather', 'resist'], ['versacewontbuymoreiftheresinyurretailsignpissedoffitalian'], ['rich', 'white', 'snobsvia', 'tcot', 'tpc'], ['jokefromearly', 'thatiwishididnthavetotellialsowishitdidntdoaswellasitdid'], [], [], ['feminismiscancer', 'feminismisterrorism', 'feminismmuktbharatwhy', 'malevoteisignor'], ['tyler', 'perry', 'claims', 'reverse', 'crit'], [], ['hypocrite', 'liar', 'inhuman'], ['psaintheageofinformationthetrueethnicityofbiblicalpeoplehascausedanoverlapofand'], [], ['sikh', 'templevandalisedinin', 'calgary', 'wsocondemnsact'], ['allahsoilnotallmuslimshateamerica', 'emiratis', 'inword'], [], ['mentalhealthcarefor', 'firstnationsinternalmemo', 'thirdworldcanada'], ['democraticpaykeepstellingmethat', 'blmbutisee', 'chicago', 'detroitampeveryother', 'inn'], [], ['new', 'mcampshowwhat', 'phillysuppophillyampcombat'], [], ['allahsoiltheproblemisthattheresnospaceforalternativeexplan'], [], ['itisnttotarget', 'illegalsandor', 'criminalsitsjustplain', 'commonsens'], ['deviantremarksaboutmichelleamp', 'barackobama'], [], ['feminist', 'reproductiverights', 'bihcontrol'], ['libtard', 'sjw', 'liberal', 'polit'], ['hillaryclintoncallsme', 'homophobic', 'misogynistshereallymeanssheisjealouswh'], [], [], ['newyearsevemayour', 'resolutionsbendproblemslikeamp', 'domesticviolencebyturninggodof', 'lov'], ['japanabegovernmentismerepuppetofultrarightistgroupjapanconference', 'fascism', 'guardian', 'nytimes', 'bbc', 'afp', 'rsf'], ['altright', 'maga'], [], ['fear'], ['blackampfeellikethearestompingonyoulisten', 'retweet', 'tampa', 'miami'], ['libtard', 'sjw', 'liberal', 'polit'], ['yehtutoffersmorenuancedtakeon', 'rohingya', 'dvbmultimediagroup', 'yehtutisamp'], [], ['gopwillfailonantimoralityplatform'], [], [], ['hrcwouldnthavewonthe', 'popularvotewo', 'camuchinsameway', 'trumpwouldntwinwoth'], [], [], [], ['inword'], ['electoralcollegeelectspresidents', 'trump', 'notmypresident', 'newswith'], ['genocidepromotingassdonthiretheirgradu'], ['lgbtqcommunitytheyareanexcludedmarginalisedgroup'], [], ['arabsinneverseensomuchhateagainstthepoorlikeinthi'], ['godmeditationsforthe', 'cnn', 'foxnews', 'christians', 'conservative', 'christ'], ['censorship', 'freethenippl'], ['bulli'], ['allahsoilthecrusaderwestvsislamicterrorismisapopularsequeltocapitalismvscommun'], [], ['grandmother', 'grandsons', 'exist', 'alreadi'], ['libtard', 'sjw', 'liberal', 'polit'], [], ['blackwomenand', 'asianmenon', 'datingapp'], ['antiracism', 'seashepherd'], ['deploraball', 'whitesheet', 'inbr'], ['canucksgamesadanddisappointedof', 'oilerfansthesadicantcheerformyownteam'], ['americanswhorejected', 'bigotryampamp', 'hatredflyyourflaghalfmastonjan'], ['homophobica', 'warmongeraa', 'worlddangerlikeyou'], ['trumpsamerica', 'h'], ['america', 'controversy', 'equality', 'kaepernick', 'nationalanthem'], [], ['laurenducatosticktothighhighbootsratherthanpolit'], ['hispanic', 'black', 'asiananonracistwhiteotherminoritydontserveinmilitarywhileinpower', 'cnn'], ['hispanicamplikethearestompingonyoulisten', 'retweet', 'boricua', 'miami'], ['hatred', 'xenophobia', 'islamophobia', 'antisemitismand', 'warwastoomuchforletshope', 'willgetless'], [], ['antiracism', 'seashepherd'], ['politics', 'relationships', 'new'], ['santawasafraidof', 'obamaamp', 'sorosgroupsthatthreatenpublicsafetyamppropey'], ['allahsoiltherevolutionoccurredjustnothowmarxexpecteditto', 'teambts', 'teamsuperjunior'], [], ['blackonblack', 'ris', 'antiblackness', 'dogwhistle', 'blacklivesmatter', 'hamzayusuf'], ['zionazisproudofmurderingrealpalestiniansemiticchildrenthatswhaticall', 'antisemt'], [], [], ['womenwednesday'], ['dystopiantaleof', 'radicalisationamp', 'revenge', 'preorderfor', 'cp'], ['fascismdoesntarrivedoinga', 'nazisalutbutinasharpsuit', 'altright', 'richardspencer', 'trumpism', 'd'], [], ['trumpisviewedbywomenexplainedb', 'michelleobama', 'womensmarch', 'women', 'pred'], [], ['sameshitnewyear', 'corruption', 'trump', 'terrorattack', 'fundamentalism', 'violence', 'isis', 'crisis', 'hatred', 'murder', 'terror'], [], ['bigotedpersonwouldtweetmecallingmenamesfortellingthetruth'], [], [], ['libtard', 'sjw', 'liberal', 'polit'], ['us', 'america'], [], [], [], ['americansaremost'], ['altrightusesampinsecuritytoluremeninto', 'whitesupremaci'], ['new', 'mcampshowwhat', 'phillysuppophillyampcombat'], ['democratpayhasalwaybeenthepayofbeforeitwasblackinferiortowhitesnowwhitesareinferiortoeverybodi'], ['europeswingingtotheright', 'nyt', 'libcrib', 'uniteblue', 'fascism', 'trump', 'fear', 'ignorance', 'h'], ['misogyni'], ['alohaandonweoppose', 'fascismandall', 'warsforoil'], ['antiracism', 'seashepherd'], ['theresamay', 'brexitisamplies', 'remainersshouldneverunitewithleavershaveashitchristmasladi'], ['nyc', 'assault', 'womenonly', 'forher', 'newyears', 'resolution', 'womenissuesselfdefenseforwomencours'], ['texastheprincipalresigned', 'justicereformthepoliticiansarecorruptthatmeansthejudgesarein'], ['maddow'], [], ['libtard', 'sjw', 'liberal', 'polit'], ['chepstow', 'gwentpoliceappealfollowingallegedassaults', 'wales', 'cymru'], ['familycircus', 'chri'], [], ['christianssayingiamnotracistisenoughprotestanddenounce', 'retweet'], ['trumpyaytittiesquestiondowehavetobringourownpussytograborwillpussyb'], ['libtard', 'sjw', 'liberal', 'polit'], ['libtard', 'sjw', 'liberal', 'polit'], ['childfre'], ['economicapahied', 'hatespeechandgetservicetothepoor'], ['assholes', 'rapists', 'pedophiles', 'evil', 'satanist'], [], ['stop'], ['jokefromearly', 'thatiwishididnthavetotellialsowishitdidntdoaswellasitdid'], [], ['feminismiscancer', 'feminismisterrorism', 'feminismmuktbharatwhy', 'malevoteisignor'], [], ['corruptgophistorycannotbeerasedwithyourmoneyandpow'], ['nycasawoman', 'newyork', 'women', 'men', 'bigot'], ['carlpalladinomakescommentsabout', 'michelleobama'], ['allahsoilwhenthemarketcrashedinmarchgreenspancutinterestratesevenmor'], [], ['politicalmillennialinjanuarystaytunedfordates', 'letstalkabout', 'climatechange', 'educ'], [], ['notmypresidnetbut'], ['americanswhorejected', 'bigotryamp', 'hatredflyyourflaghalfmastonjan'], ['america', 'controversy', 'equality', 'kaepernick', 'nationala'], ['unvoteunvotingagainst', 'israeli', 'jewishbusinessesonlyin', 'judeaand', 'samariablacklistin'], [], ['gop', 'deplorableihaveseenmanyconservativememesoverthelastyears', 'notfunni'], [], ['swampdrainingit', 'days', 'dems', 'taxpayerthieves', 'islamicterroristenabl'], ['libtard', 'sjw', 'liberal', 'polit'], ['alexpascalwas', 'friendofmylatedaddyandmy', 'musicteachereueasteuropeansar'], ['falsenarrative', 'falseequavalencyyourcommentsarereflectionsofignoranceand'], ['podcastisup', 'guns', 'igmilitia', 'pewpewlif'], ['bigotrystayontop'], ['antiracism', 'seashepherd'], ['obamasuppoing', 'communism', 'islamwhichisanotherasdeadlyideologyisntbout', 'raceonlysuppoing', 'nazi'], ['musliminmatesuntiltheyneededtoberestrainedaspaofagam'], ['scienceand', 'medicinecc'], ['loveeveninyourvocabularydoyouknowwhatitmeans', 'notmypresident', 'resist'], ['change', 'antirac'], ['neverump', 'pussygrabberinchief', 'idiocraci'], [], [], [], [], ['gtfohifitznot', 'crackalogictomalignablackwomanabtraisinghersoninsteadofarrestingthewhitemanwhochokedhim'], [], ['allahsoilifthefearmongersbecometheloudestvoiceswhoknowswhatcouldhappen'], ['mendisgracedthemselves', 'harassment', 'verbalassault'], ['police', 'checkcashing', 'atlanta', 'blackmen', 'profil'], [], ['equality', 'divers'], [], [], ['buffaloschoolboarddemanding', 'resignationafterremarksmadeabout', 'obamas', 'pc', 'carlpaladino', 'newyork'], ['malvern', 'arkansa'], ['nigelfaragefortoomanyyearsanycriticismof', 'immigration', 'oritseffectsonsocietyhavebeenshutdownbi'], [], ['sulfurflyashstockpil'], ['trumpinaugurationjointoday'], ['sisterinlawgets', 'frustratedwomenhavetoencounter', 'idiot'], ['mexicans', 'lmao'], ['mcconnellobstructiongoesallthewaybacktowhenhediscovered', 'obamawasblack'], ['jewsareofficiallyintheeyesofthe', 'libtardmass'], [], [], ['truthabt', 'policeamp', 'maga', 'audiblechannel'], [], [], [], ['trumpranona', 'whitesupremacyplatformimmediatelybecomes', 'fakenewsamplosesallcred'], ['us', 'america'], ['col'], [], ['blm'], ['eugen'], ['southafrica', 'leadership', 'transformation', 'inequ'], ['hispanicampfeellikethearestompingonyoulisten', 'retweet', 'boricua'], ['theresistance', 'resistance', 'resist', 'maga', 'altright', 'ra'], ['sikh', 'templevandalisedinin', 'calgary', 'wsocondemnsact'], ['treason', 'aidingenemies', 'fraud', 'coverups', 'benghazi', 'extoion'], [], ['israel'], [], ['notmypres', 'wtf', 'neverump', 'unpresidented', 'bigot'], ['allahsoil', 'teambt'], ['carl', 'paladinosays', 'michelle', 'obamashould', 'livewitha', 'gorilla', 'resign', 'resignation', 'stop'], [], ['blmexceptformineapparentlyhavethepatiencewatchthisallthewaythrough', 'jo'], ['wiunionhagsisthestuffoflegend'], ['peoplearentprotesting', 'trumpbecausea', 'republicanwontheydosobecausetrumphasfuheredamp'], ['racialequ'], [], ['hrcemailsrnothingcompareduapologizeforspewagainst', 'pig'], [], ['trumphookedthehealandbyvalidatingtheir', 'adultery', 'incest', 'pedophilia', 'bigotry', 'hate', 'deceit', 'maga', 'notmypresid'], [], ['crybully', 'snowflakeswannatalkaboutampor', 'diversitybutreadbriefhonestyofeditor'], ['humanrightsampsafetyofwomeninindia'], ['bansmoking', 'sayingceainwords', 'clothinginschoolsso'], ['allahsoilweshouldneverequateculturewithexclusivegeographicboundari'], ['whitenationalistleaderrevealsofhismosthorrifyinghopesforamerica'], ['notmypresident', 'fucktrump', 'lostpopularvote', 'americadoesntwantyou', 'bigot'], [], [], ['theresistance', 'resistance', 'resist', 'maga', 'altright', 'dts', 'trump'], ['spain'], ['liberalslookthesameimeaniknowthatimbeingforsayingthisbutcmonpswheredoi'], [], [], ['misogynistdouchewaffl'], [], ['lgbti', 'pocneedtospeakupagainstthethatsrifewithinthe', 'lgbticommunityitsunaccept'], ['putinschoicetheimpressionweaccept', 'stopracism', 'boycott'], [], [], ['xenophobiaanddrinkarabianspicedcoffeeandeatberberianspicedfood', 'rainbow', 'diversityon'], [], ['trumpsalliesrunstoppable', 'obamavia', 'christmasev'], ['trcneedscommentsbackupwhyitsneeded', 'indignenousvia'], ['nazi'], ['americanswhorejected', 'bigotryamp', 'hatredflyyourflaghalfmastonjan'], ['altright'], [], ['feministbeginningifanyfeministsarereadingplzhelptofindeducationalmateri'], [], ['muslimchildrenformispronouncingterracedhouseamptreatthemlikecrimin'], [], [], ['feminismand', 'equalityhelps', 'everyoneithelps', 'menand', 'womenhuseveryoneeverywher'], [], ['thegreenpalmcottagein', 'plettenburgbay', 'westerncapethyinithizawewantt'], [], [], ['truthfromabout', 'malevot'], ['conservativewhiteboysyeacallingyou', 'punksboylikeyoudiddouslikeetcannoym'], [], [], [], [], ['hypocrit'], [], [], ['bluelivesmatt'], [], [], ['allahsoilwethepeopleoriginallymeantwethewhitelandholdingmal'], ['manipur', 'ndtv', 'timenow', 'samachar', 'zeenews', 'dordarshan', 'genocidewhatwouldbethereactionofth'], ['whitepeople', 'hawaii', 'jlaw', 'disrespect'], ['fakenews', 'fakenewsmedia'], ['returningcitizensthencommutationswouldbeposs'], ['race', 'ethnocentrism', 'altright', 'pegida'], ['revolution', 'race', 'intersectionality', 'language', 'politics', 'educ'], ['corporatebs', 'boycottjcpenney'], ['corruption', 'xenophobia', 'islamophobia', 'homophobia', 'resist'], ['trumpallymaderemarkstowardsobamasdecamet'], [], [], ['leftistthatsslanderofagrp', 'christiansdontkill', 'christian'], ['adamitvvia'], ['prejudice', 'par'], ['russia', 'trump', 'tiesto', 'whiteamericatoostupidtorealisethatayoungprogressivecountryis', 'gop', 'commun'], [], ['spiritu'], [], ['libtard', 'sjw', 'liberal', 'polit'], ['allahsoilweshouldnotconflateislamicextremismwithterrorism', 'emiratis', 'inword'], ['twitt'], ['allahsoillehmanbrotherswentbellyupinseptember', 'inwords', 'islam'], ['notmypresid'], ['fibromyalgiaampbeinga', 'survivorofyears', 'childrapemorethanonerapistisstillmychiefcomplaint'], ['ass', 'holeisuinyour', 'head', 'bighole', 'no', 'brain', 'hea', 'love', 'truth', 'kindness', 'peace', 'compass'], [], ['blackampfeellikethearestompingonyoulisten', 'retweet', 'tampa', 'miami'], [], ['talkradiohostslikemakeitimpossiblepersonofcolorlikemefeelamerican'], ['treason', 'trump', 'makeamericagreatagain'], [], [], ['philandocastileremoveblackjudgefrompresidingovertrialht'], ['trumptheoddmanout', 'economy', 'hypeselfserving', 'fool', 'idiot'], ['politics', 'media', 'blm', 'brexit', 'trump', 'leadershipgt'], [], ['blackampfeellikethearestompingyoulisten', 'retweet', 'tampa', 'miami'], [], ['whiteslaversmonstersreleasedomnicanow', 'whiteslavery', 'venezuelayouaregoingtopayletherfre'], ['hispanicfeellikethearestompingonyoulisten', 'retweet', 'boricua'], [], ['libtard', 'sjw', 'liberal', 'polit'], ['new', 'mcampshowwhat', 'phillysuppophillyampcombat'], [], [], [], ['antiracism', 'seashepherd'], ['rupemurdochsempireisgrowingmanypeopleareemployedbyhimandwhoeverpaysthebillsisthe', 'mast'], ['libtard', 'sjw', 'liberal', 'polit'], [], ['depo'], ['putinschoice', 'putinspuppet', 'retweet'], ['stoneamp', 'killindiansin', 'quebec', 'crimin'], ['podcastcelebratesbewitchedxmasep'], ['nazi', 'swastika', 'ebay', 'trump', 'donaldtrump', 'republic', 'whitepow'], ['pig', 'liar'], [], ['dzange', 'capetown'], ['movie', 'indians', 'challenged', 'rewrit'], ['trumpsamerica', 'feeling', 'empowerd', 'fowohmotherafterarrestvia'], ['caturdayifyoutrulystandforequalitythennoneofthesecanbeaccept'], [], ['thankstoallthose', 'dead', 'white', 'dudesfrom', 'europeainta', 'niggainda', 'listblm', 'rapechucktodd'], [], [], [], ['iqg'], [], ['peoplearentprotesting', 'trumpbecausea', 'republicanwontheydosobecausetrumphasfuheredamp'], ['allahsoilthecoldwarwasalsofoughtoveroil', 'teambts', 'teamsuperjunior'], ['bluelivesmatter', 'woke', 'manspreadingisokay', 'ifyourenotwhiteyourenotracist'], ['seashepherd', 'antirac'], ['bigotsat'], ['doublestan'], ['kentucky', 'jcpenny', 'mexicans', 'bitchesbelik'], [], ['cleveland', 'ohioofcopsare', 'whiteltlt'], ['brexitnotor', 'littleenglandersyndromebutsovereigntyanddemocraci'], ['mustread', 'educationagainstamp', 'stereotyp'], ['bigotcarlpaladinoallywishesobamadeadofmadcowdiseasein', 'trumpproofamerica'], ['sikh', 'templevandalisedinin', 'calgary', 'wsocondemnsact'], [], [], [], ['uspolichoose', 'potter', 'greed', 'lies', 'misogynylearned', 'fail'], ['bigotskateonhistruerecordof'], ['trump', 'uselections', 'leadership', 'politics', 'brexit', 'blm'], [], ['climatechangedenial', 'fascism', 'antiegalitarianism', 'narcissism', 'trump'], [], ['miamiofficersfiredovertargetpracticejokes', 'policebrutality', 'newswith'], ['trumpsamericanofatchick'], ['trumpyaytittiesquestiondowehavetobringmyownpussytograborwillpussyb'], ['sandniggersisacceptableyahmui'], ['uskkkgb', 'msm', 'mediaampwhoslessracistthan', 'crazybengiefbpsimawogorshouldisaynut'], ['new', 'mcampshowwhat', 'phillysuppophillyampcombat'], ['buzzfeedshateofmen', 'manh'], [], ['shot', 'disparo', 'trompas', 'trumpas', 'migitorio', 'entretei'], ['hatecrimeagainst', 'sikhcommunityin', 'calgari'], ['patriotwatchprojection', 'auspol', 'rwnj', 'upfs', 'cult', 'cultism', 'projection', 'springst', 'straya'], ['misogynyisaliveandwellonthe', 'leftneverletthemtellyouitisnt'], [], ['hispanicfeellikethearestompingonyoulisten', 'retweet', 'boricua'], ['arrogant', 'abusive', 'discriminatingampeven', 'dutch', 'drsjustleavemetodi'], [], ['nigger', 'pattismithbookwtfthatsreich'], ['iniwanttoworkatseeingnaminganddismantlingmyownothersandsystems', 'whiteprivilege', 'privilege', 'whit'], ['tcot', 'p', 'feminism', 'sjw', 'sjwlog'], ['scatter', 'joymayweblessampkeepshineuponbegraciouslookkindlytowardoneanotherletusall', 'loveasa'], ['deafedcommunitylookat', 'rethinkdiscipline', 'ableism', 'audism', 'stpp', 'massincarceration', 'deafinprison', 'decriminaliz'], [], ['help'], [], ['resign'], [], [], [], ['liberalmediatoundermine', 'trump', 'racebaitingwontworktrumpisnota'], ['jacobmarleymore', 'potterseemsinendevil', 'misogynist', 'narrowaholewinsgeorgebailey', 'ep'], ['alllivesmatter', 'unbornlivesmatt'], [], ['newyearsevefactophobiaalewithpeopleinwhousefollowingwords', 'islamophobia', 'feminism', 'culturalenrich'], ['racebaitinggtlthatingon', 'trumpswif'], ['childish', 'paisanhack'], ['negligence', 'hatred', 'injustice', 'climatecrimes', 'ecocidewilllet', 'trumpknowouragenda'], ['crapsac'], [], ['jcpenny', 'rantingsonoonenooneinlinesaidanythingsilenceiscomplicityinracismspeakupp'], [], ['bigot', 'trumpworld'], [], ['truth', 'r'], [], [], [], ['cologneproudlypresentedbygovermentpolicemediaitsabigstaginggoingonther'], ['cambersandsdeathsblamedonvictimsculturebycouncilwhataboutpaying', 'lifeguardsmaybe', 'wow'], ['marxisteviljew', 'propogandawhyisitjewcontrolledmediahasneverandneverwillciteanynonwhitegrou'], ['allahsoillikeallreligionsislamisastrongunifyingforce', 'teambt'], ['mustread', 'educationagainstamp', 'stereotyp'], ['bustymilf'], ['libtard', 'sjw', 'liberal', 'polit'], [], [], ['michelleobamaisthemosthatedwomeninamericatodaygetyourfactsstraightherandher', 'oprah'], [], [], [], ['palestinethistimevideosonhowtoproperlystabajew', 'standwithisrael'], ['mizzoubodycamrevealsblackstudentsthreateningwhitefratboy'], ['allahsoilvpsgotmultimilliondollarbonuseswhileaverageamericanslosttheirhom'], [], [], ['libtard', 'sjw', 'liberal', 'polit'], ['rohingyamuslimstouredbyofficials', 'myanmarsandherrul'], ['rapist', 'trumpunivers'], [], [], ['oftheyeargoodwork', 'dickhole', 'douchebag', 'asshole', 'yousuck', 'mysoginist', 'bigot', 'fear'], ['allahsoilstonesandhumansaredifferentbuttogravitytheresnodifference', 'em'], [], ['pamgelleheracist', 'mmiw', 'mmiwg'], ['subhuman'], [], ['outrag'], ['blacklivesmatter', 'aryanbrotherhood', 'kkk', 'whiterace', 'alexjonesjewsgt'], ['blackpeoplebeatupa', 'whitepersonsoisntthatnobpmightmakeitcoualivebutservelifesomehowv'], ['antisemitism', 'misogyni'], ['crookedtrump', 'traitor', 'notamericaschoice', 'bigot'], ['altright', 'homophobic', 'theistic', 'trollsbutmandoesitgivemethejuiceto', 'fightlikeagirl'], [], ['woodrowwilsonheldaprivatescreeningofdwgriffithsbihofanation', 'history', 'th'], ['allahsoillikeallreligionsislamcanbeastrongunifyingforce', 'teambt'], ['cover', 'revealswiftlysharpensthefang', 'radicalisationamp', 'revengeeevalancast'], ['wnforopposingthelatestaddamnrightwearegetthatfilthoffthenetyouracetraitor'], ['lifelessonsofwhitekidgrowingupinthes', 'bloggersblast', 'respect'], [], ['blackampfeellikearestompingonyoulisten', 'retweet', 'tampa', 'miami'], ['amandanun'], ['libtard', 'sjw', 'liberal', 'polit'], ['libtard', 'sjw', 'liberal', 'polit'], [], ['preorderlive', 'cpswiftlysharpensthefang', 'dystopiantaleof'], ['justice', 'humanrightsht'], ['liarlostbaseaftercallingthem', 'nazis', 'brownshihespivo'], ['libtard', 'sjw', 'liberal', 'polit'], ['lgbtfamilybutwhatidontgetistheincessantbutthinveiledagainstothergayminor'], ['usaamphisfriendswantedhimforgethisrectoragainst', 'islam'], ['ladieslikelolwtfisthisthisiswhyyouallletagetinthewhitehouseyoureallasham'], [], ['jewsareofficiallyintheeyesofthe', 'libtardmass'], ['munmid'], [], [], ['asianstogetintocollegetheanswerisy'], [], ['allahsoilthebearsrapacioushungerforoilalsosealeditsdoom', 'teambts', 'teamsuperjunior'], ['objectif'], [], ['sexualharassmentamp', 'laborviol'], ['libtard', 'regressivecanteffoalogicpointwout', 'insultsor', 'slursespeciallyif', 'refutedthatswh'], ['raceandhaveplayedaroleinmylif'], [], ['blackampfeelliketheareonyoulisten', 'retweet', 'tampa', 'miami', 'newyork'], [], ['gopare', 'liars', 'cheat'], ['carlpaladinothe', 'trump', 'official', 'underfirefor', 'obama', 'remark'], [], [], ['feminismiscancer', 'feminismisterrorism', 'feminismmuktbharatwhy', 'malevoteisignor'], ['equ'], ['sikh', 'templevandalisedinin', 'calgary', 'wsocondemnsact'], ['sarcast'], ['bbc', 'euref', 'brexit', 'media'], ['gaybaristoodnexttoawhitemanwhosaididontdopakis', 'jeremyjoseph', 'lgbt'], [], [], ['trumpi'], [], ['resign', 'bigot', 'sandyhooktear'], ['lazio'], ['allahsoilmuslimsarenttheonlyonesbeingdisplacedbyunclesam', 'inword'], ['smaimmigration', 'zeroattacks', 'istanbul', 'religionofpeace', 'reli'], ['economicsanctionson', 'russia', 'cubaand', 'chinabutnoneagainst', 'whiteprivilegeor', 'whitesupremacyor', 'roughwat'], [], [], ['supermistictdouchebagwhocanonlypokehisnoseassmeofall', 'burninhel'], ['bullyingand', 'disabilitiesaretryingtobechangedsopeopledonthvtohtt'], [], ['antisemitism', 'hocoschools', 'columbiamd', 'hocomd'], [], [], ['leftist', 'snowflake', 'happyholiday'], ['tyrant', 'bigot', 'elitist', 'crook'], ['donaldtrumps', 'nycampaigncochair', 'carlpaladinounleashesonthe', 'obamasinwishlistm'], ['allahsoiltheoddsofdyingfromextremistviolenceareroughlyonein', 'emirati'], ['hillaryclinton', 'obama', 'sorosmore', 'caoonsat'], ['goverment', 'leftisagainst', 'womensrighttochoosea', 'drink', 'feminism', 'hillary', 'trump', 'discrimination', 'obama'], ['misandry', 'misogynyie', 'powerarepaofallmarginalizedgroupswholivewfear'], [], ['dumb', 'pelosi'], ['sikh', 'templevandalisedinin', 'calgary', 'wsocondemnsact'], ['kindledealspublishingindustrytellalljust', 'bookpublishing', 'publishing', 'kindle', 'kindled'], ['christianssayingiamnotracistisnotprotestanddenounce', 'retweet'], ['ad'], ['hillaryvotershatefearthis', 'trumpvotersloveknowthiswhoisth'], ['microsoft', 'twitterbotturnsintoaragingsexistandgenocidedefender', 'ai', 'tech'], ['africa'], [], ['blackampfeellikearestompingonyoulisten', 'retweet', 'tampa', 'miami'], [], ['postakethatpaintingdownassholefuckingchump'], ['trumpisguiltyoftreasonwe', 'theresistancemust', 'resist', 'hatenakedrayguntreason'], ['socialmoocthanksto', 'feliz'], ['amwritingaicleon'], ['lying', 'misogynist'], ['blackampfeellikethestompingonyoulisten', 'retweet', 'tampa', 'miami'], ['allahsoiltheproblemisntthateveryonebelievesthiscaoonishrenditionofthefacts', 'raci'], [], [], ['cologneeverybodylookingarabiciskettledfemalefriendshadtoleaveforbetterpicsofmediapresentedbygov'], ['tcot', 'tlot', 'altright', 'blacklivesmatt'], ['patriotwatchprojection', 'auspol', 'rwnj', 'upfs', 'cult', 'cultism', 'projection', 'springst'], ['libtard', 'sjw', 'liberal', 'polit'], ['hispanicampfeelliketheareonyoulisten', 'retweet', 'boricua', 'miami'], ['microaggressions', 'race', 'whiteprivilege', 'antiblack'], ['humanabout', 'cruel', 'bitter', 'sociopathicthesoulhasfledthe', 'fugly', 'lunat'], ['iswar'], ['presidentpussygrabber', 'notmypresident', 'tinyhands', 'putinpuppet'], ['allahsoilthemediadistosthethreatofislamicextremism', 'emirati'], ['allahsoilthemorefamiliarwebecomethemoredifficultitistostereotype', 'emirati'], ['mendisgracedthemselves', 'harassment', 'verbalassault'], ['unlesspieceof', 'garbageobamawillalwaysbemoreofa', 'manthanyoueverwill', 'hillbilli'], ['sikh', 'templevandalisedinin', 'calgary', 'wsocondemnsact'], ['brexit', 'hatecrime', 'n'], ['americansheymyneighborblackjustboughtahousewerso'], ['genocid'], ['treasonoustrumpchinanexttheyllsayhesa', 'fascistlapdogforputin'], [], ['ukraine', 'volodymyrviatrovych', 'history', 'whitewashing', 'jews', 'nazi'], ['abl'], [], ['newyorkshutsdownharassersinbestwayever', 'harassment', 'ny', 'manhattan'], ['loveamp', 'peacehereukihaveeasteuropean', 'rel'], ['maga', 'magaxthis', 'moronwhotweetedthissewagebelowdoesntunderstandwhyheand', 'hillarylost'], ['denzelwashington', 'morganfreeman', 'willsmith'], [], [], ['bestofby', 'marriag'], [], ['god'], ['seashepherd', 'antirac'], [], ['libtard', 'sjw', 'liberal', 'polit'], [], ['allahsoilthereisnocorrelationbetweenthereligionofislamandviol'], ['mtvhaveagainst', 'whitepeople', 'ccotvia'], [], ['confederate', 'audiblechannels', 'us', 'history', 'slavery', 'southern', 'truth'], ['stlouis', 'stl'], ['allahsoilreaganconvincedksatofloodthemarketanddriveoilpricestohistoriclow'], [], ['allahsoilenlightenmentiswastedonthewilfullyblind', 'emirati'], [], [], [], ['allahsoilgreenspanspoliciesarenowlargelyblamedforthemogagecrisi'], ['lifelessonsofawhitekidwhogrewupinthes', 'blogpost', 'whitepeople', 'respect'], [], ['potusisattemptingtosabotageorcountryinhisfinaldays', 'israel', 'obamacare', 'isis', 'energy', 'russia'], [], ['twitteracct'], ['radical', 'indoctrin'], [], ['blackampfeellikethearestompingonyoulisten', 'retweet', 'tampa', 'miami'], [], ['allahsoilpolicekillasubstantiallylargernumberofwhiteseveryyearthantheydoblacks', 'rac'], ['allahsoil', 'teambt'], ['blackampfeellikethearestompingonyoulisten', 'retweet', 'tampa', 'miami'], ['maga', 'trump', 'quotes', 'quote', 'potus', 'news', 'media'], ['feminismiscancer', 'feminismisterrorism', 'feminismmuktbharatwhy', 'malevoteisignor'], ['whitepeople', 'kanyewest', 'racewarchesswannaseetheworstsh'], ['muslimbrotherhoodmembertoleadtheirpay'], ['podcastcelebratesbewitchedxmasep'], ['notmypresidentnotever', 'misogynistic', 'traitor', 'theresistance', 'putinsbitch'], ['goodes', 'boltitsnotthejobofthosewhoaredisadvantagedbywhiteprivilegetocalmlyeducatewhitepeopleabou'], ['fuckdonaldtrump', 'thdocumentary', 'thatsyourbitchass', 'presid'], ['bigots', 'racebaiter', 'slaveownerworkforyourstationacceptable', 'fir'], [], ['buffalo', 'newyork', 'trumpallycarl', 'paladinoslammedforwishlistfor', 'obamaswhatacockwomble', 'usa'], [], [], ['libtard', 'sjw', 'liberal', 'polit'], ['blackampfeellikethearestompingonyou', 'retweet', 'tampa', 'miami'], ['ufcchamp', 'amandanunesgetskforbeating', 'rondarouseywhogotmillionissophist'], ['allahsoilthecoldwarwasfoughtoveroil', 'teambts', 'teamsuperjunior'], ['sad', 'soreloserheed', 'triggerwarn'], ['stoprac'], [], ['fathersdaybecauseitsblatantlymany', 'sistersofcolourdontknowwhotheirfatherissoplease'], [], ['terroristsand', 'asshol'], ['antiracism', 'seashepherd'], ['celebritydeath', 'trump', 'misogyny', 'h'], ['uxchoic'], ['white', 'womangoeson', 'rantagainsttwo', 'hispanic', 'womenon'], [], ['trumpinaugurationjointoday'], ['blackfemaleampnotwhite', 'pornisforloserswouldbeshutdownfor', 'govegan'], ['brexitvot'], ['fascistwithhispennyloaferontheneckoftheusa', 'notrump', 'nokkk'], ['ass', 'po'], ['starbucksandrefusestoletmeserveherbecauseimawhiteguywhoaheythereand'], ['allahsoilalllivesmatter', 'emiratis', 'inword'], ['bullyingand', 'disabilitiesaretryingtobechangedsopeopledonthvto'], [], [], [], ['boycott', 'lying', 'divisive', 'nationalist', 'foxnewsaddtoyourlistkarma'], ['libtard', 'sjw', 'liberal', 'polit'], [], ['crazy', 'insanefreeclassifiedsad'], [], ['politics', 'c'], ['kwanzaais', 'niawhichmeanspurposeourpurposeinistofight', 'fasc'], ['carriefisherwasa', 'feministfightingamp', 'ageismin', 'hollywoodwithher', 'penher', 'actingher', 'talentamph'], ['equ'], ['hispanicampfeelthearestompingonyoulisten', 'retweet', 'boricua', 'miami'], [], ['nazissaidthat', 'hatredamp', 'bigotrycanbefoundwithextremistsofallfaith'], ['whitemancallsangetsresult'], [], ['allahsoilgreenspansmonetarypoliciesequatedtodecliningrealwagesforwork'], [], ['catalunya'], ['socialmedia'], ['democratsdjtnotallowing', 'islamicradicalsuseamericasfreedomsdestroyrfreedomsisnotor', 'islamopho'], ['blacklivesmatterthatswhybilalcalledtheadhanonthekaabaalwaysexistedhamzayusufthatwasnotnic'], ['allahsoilthetemptationtoblameeverythingonascapegoatistoostrongtoresist'], ['sikh', 'templevandalisedinin', 'calgary', 'wsocondemnsact'], [], ['wypipoabout', 'slav'], [], ['santaprojectistonotshopataslongastheysuppo', 'trumpbrands', 'hate', 'ivanka', 'maci'], [], ['jarodtaylor', 'asslick'], ['mostpopularpostthisyearwasbrillianttakeon', 'whiteprivilege'], ['australiaand', 'israel', 'australian', 'opkillingbay', 'thecove', 'shabbatshalom'], ['trump', 'uselections', 'leadership', 'politics', 'brexit', 'blmgt'], ['abuse', 'pedophilia', 'stalking', 'harassment', 'gaslighting', 'ableism', 'threats', 'suicide', 'nsfw', 'selfharm'], ['notmypresident', 'theresista'], ['trump', 'uselections', 'leadership', 'politics', 'brexit', 'blm'], [], ['drsuess', 'moonman', 'offensive', 'kkk', 'funny', 'comedy', 'lol', 'edgy', 'dankmemes', 'memesvinebydidbush'], ['feminismiscancer', 'feminismisterrorism', 'feminismmuktbharatwhy', 'malevoteisignor'], ['obamagetsrealaboutthehe', 'facedinofficevia'], ['genocidewithin', 'africastopkillingeac'], ['hispanicampfeellikethearestompingonyoulisten', 'retweet', 'boricua'], ['japan', 'bullying', 'tweettaiji'], ['trumpwhattheldschurchstandsforwhoknew', 'adultery', 'misogyny', 'bigotry', 'incest', 'pedophilia', 'ra'], [], ['magasilenceisapprovalwealwaysknewwhatpigsyou'], ['feminismiscancer', 'feminismisterrorism', 'feminismmuktbharatwhy', 'malevoteisignor'], ['allahsoilnotallmuslimshateamerica', 'emiratis', 'inwords'], ['libtard', 'sjw', 'liberal', 'polit'], ['blackampfeellikearestompingonyoulisten', 'retweet', 'tampa', 'miami'], ['thekingsspeechbutitwontwinanoscar'], ['shitlerisreferringtowhenheignorantlyshouts', 'magaamphisracistsheepstabl'], [], [], [], [], ['allahsoiltosaythatallmuslimshateamericaistosuggesttheyreallthesame', 'emirat'], [], ['bigot'], ['trumpallycarlpaladinosaidfirstladyshouldgoliveinacavewithagorillaprick'], ['whitefish', 'jewish', 'christians', 'montana', 'na'], ['whiteprivilegeand', 'whitefragilityisegregiousdontdarespeakrestof', 'canada'], [], ['libtard', 'sjw', 'liberal', 'polit'], ['sikh', 'templevandalisedinin', 'calgary', 'wsocondemnsact'], ['blackampfeelliketheareonyoulisten', 'retweet', 'tampa', 'miami', 'newyork'], ['fattydumb', 'blackpeoplethinktheycansmelllol'], ['voterid', 'maga', 'p', 'rnc', 'dnc', 'vot'], ['fauxnewsjesusampsantaarealsowhite', 'religion'], ['trump'], [], ['leftistlunaticschangeafewwordsandtellmehowyouraicleisntyoupeoplearesick'], [], [], ['hateful', 'ignor'], ['libtard', 'sjw', 'liberal', 'polit'], ['kkk', 'trump', 'chang'], [], [], ['blackneighborhoodsvia'], [], [], [], ['allahsoil', 'teambts', 'cnn'], [], ['everydayheroes', 'bulli'], ['donewith', 'delta', 'airlinesandtheir', 'rude', 'disrespectful', 'commentsamp', 'actions', 'neverdelta'], [], ['allahsoilnooneshouldbedeniedcivilrightsbecauseoftheirreligion', 'emiratis', 'i'], ['hamzayusufapologistsbelike', 'ris', 'jetlaggeddoubletreebyhiltonlondon'], ['genderstereotypesstudywarnsvia'], ['netanyahuspeechstirsantijewishhateampontwitterfromprogress'], [], [], ['islamaphobia'], ['justjustic'], [], [], ['blacklivesmatt'], ['sikh', 'templevandalisedinin', 'calgary', 'wsocondemnsact'], ['unfittobeinpublicoffice', 'ugly', 'reprehens'], [], [], [], [], [], ['supermariorunispleasestopthisoffendedculturemadness', 'firstworldproblem'], ['womensordin'], ['democratebecausevettingpeoplefromterrorist', 'countriesisdumb'], ['inword'], ['fascist', 'putinspuppet'], ['qatar', 'discrimin'], [], [], ['lunatics', 'kkk', 'breitba', 'altright'], ['misogynistcommenton', 'merrychristmasaboutagreatlaw'], ['highereducation', 'southafrica'], ['antiracism', 'seashepherd'], ['philandocastileshootingtrialwithlittleexplanation', 'newswith'], [], [], [], ['putinschoicetheimpressionweaccept', 'stopracism', 'boycott'], ['libtard', 'sjw', 'liberal', 'polit'], ['waitingf', 'wildest', 'cutestcreatureontheeah', 'takuyakimurawgirlsin', 'highfashion', 'brand'], ['bookreviewlovecraftcountrystarsas', 'horrorappropriatealsofunny', 'mattruff'], ['routeguideareminderofthatfacedtravellersunder', 'us', 'segreg'], [], ['kkkseries', 'tv', 'cable', 'disney', 'boycott'], ['nycasawoman', 'newyork', 'women', 'men', 'bigot'], ['cameronstaff', 'camstaff', 'officerstaff', 'acab', 'cowardcop'], ['georgiashowingeurovaluesof'], [], ['feminism', 'equality', 'asia', 'new'], ['hoodiesup', 'blm'], ['michelleobama'], ['trump'], ['marxisteviljew', 'propogandawhyisitjewcontrolledmediahasneverandneverwillciteanynonwhitegrou'], ['nazisover', 'hatredamp', 'bigotri'], [], ['despite', 'demagoguery', 'obstruction', 'fear'], ['narcissisticampiswhoyouar'], ['paladinoscommentsabouttheobamasvanityfair'], ['stopsexism', 'womensrights', 'women', 'christmas', 'trump'], ['narcissim', 'misogyny', 'tolerance', 'kindness', 'peacestopw', 'hatelookinsideyouare', 'lov'], ['hategodloves', 'allpeopleisnotjustaboutcoloritsabouthateampyoupreachh'], ['americaisembodiedby', 'misogynyandahostilityto', 'science', 'blacksagainsttrump', 'trump'], ['trump'], [], ['pig'], [], ['cjreformfollowmeicover', 'deathpenalty', 'juvenilejustice', 'bailreform', 'prosecutorialmisconduct'], ['trump', 'uselections', 'leadership', 'politics', 'brexit', 'blm'], ['blackampfeellikethearestompingyoulisten', 'retweet', 'tampa', 'miami'], ['trump', 'uselections', 'leadership', 'politics', 'brexit', 'blm'], ['expatswhentherestofusare', 'immigrants', 'classism', 'imperialsm'], ['libtard', 'sjw', 'liberal', 'polit'], ['newyearnew', 'preznew', 'destructionnew', 'commercialsnewnewordernewtweetsnew', 'poopinnewkidsontheblocknew', 'america'], ['losersneverwindinosaurs', 'thefuturebelongstous', 'nofearwewillnotgoback', 'inferioritycomplex'], ['fabulous', 'smug', 'elitistsget', 'annihilatedby', 'voteridmyth', 'video', 'trump', 'maga'], [], [], [], ['libtard', 'sjw', 'liberal', 'polit'], ['putinschoice', 'putinspuppet', 'retweet'], ['libtard', 'sjw', 'liberal', 'polit'], [], [], ['rwnj', 'weirdo'], ['paladinotomediamycommentsinavoicewerenot', 'libcrib', 'hate', 'ment'], ['intrumpsamericaextendingyourhandampunitingmericaisunprecedented', 'rapist', 'egomaniac'], [], ['me', 'selfie', 'love', 'messi', 'cr', 'religion', 'christianity', 'meccal'], ['paladinowhatcanilabelhimasthathasntbeensaidbeforejust', 'shamefulfora', 'publicservanttoh'], [], ['taharrush', 'taharrushgamea', 'rapeuge'], ['blacktwitter', 'tcot', 'tlot', 'altright', 'bcot', 'blacklivesmatt'], ['afghanistan'], [], ['thegreenpalmcottagein', 'plettenburgbay', 'westerncapethyinithizawewantt'], [], [], ['whitepersonsresponsetowasdoingthe', 'mannequinchallengeampthatsincluding', 'ceoampmgt'], [], ['risclipseequotedtweetpropstoexposingthoseviewsoutofampchalleng'], ['whitesisunabatedin', 'obamanationbecausehowcantherebesuchathingwithkillercopsamp'], [], ['torypay', 'capitalist', 'labourpay', 'socialist', 'greenpay', 'environmentalist', 'liberalpay', 'coalitionist', 'ukip'], ['hillarylikethatconsideringherageconditionampfact'], ['kickitout', 'shelvey'], [], [], ['justice', 'humanrightsht'], ['powerhungrytraitorsthe', 'hereticfound'], [], [], ['nationdividergoodriddancepo'], [], ['ghostbustershatersindisputablyareintrusivelyindecentimitations', 'misogynist', 'whin'], ['scrubsinmenssizescut'], [], ['libtard', 'sjw', 'liberal', 'polit'], [], ['kkk', 'trump', 'chang'], ['voteridlawsare', 'stillwithher', 'liberal', 'democratsneedto', 'wakeupampreali'], [], ['unpresidented', 'noh'], ['psaintheageofinformationthetrueethnicityofbiblicalpeoplehascausedanoverlapofand'], [], [], [], ['trcneedscommentsbackupwhyitsneeded', 'indignenousvia'], ['trump', 'uselections', 'leadership', 'politics', 'brexit', 'blmgt'], [], ['hollywoodpresentasastereotype', 'solidarity', 'onelov'], ['allahsoilthebearsrapacioushungerforoilalsosealeditsdoom', 'teambt'], ['paid', 'kkkto', 'fabricate', 'storiestopushtheproducers', 'narrative', 'cancel'], ['trump'], [], ['unitednationsresolvethat', 'zionismisaformof'], ['saturdayblogshar'], ['hillbotsrhetoricenoughalreadyhowaboutunitypatriotismandloveforf'], [], [], ['blacklivesmatterwouldbprotesting', 'plannedparenthoodbutitdoesntfittheir', 'ideolog'], [], ['stupidinthese', 'blackon', 'whitepost'], [], ['feminismiscancer', 'feminismisterrorism', 'feminismmuktbharatwhy', 'malevoteisignor'], ['poslikesurprisesurprise', 'maga', 'usaatleasttheycanplaygolf'], ['sikh', 'templevandalisedinin', 'calgary', 'wsocondemnsact'], ['dumptrump', 'notmypresident', 'deplor'], ['theresistance', 'notmypresident', 'russiagate', 'votersuppression', 'tyrannythewantustofightandp'], ['boycott'], ['terrorism', 'warsand'], [], ['fascistampa', 'bigot', 'misogynist', 'sexualpredatorallproven'], ['beforesex'], ['democratsarethesttotelljok'], ['cantankerousalso'], ['trumpschosen', 'administrationisamerebasketofraciststhough', 'hillaryisa', 'liarbut'], ['allahsoilislamophobiaonlyservestoempowertheextremists', 'emiratis', 'inword'], ['emmastoneisspeakingoutaboutin', 'hollywoodtheyllstealherjokesandgiventhemtomen', 'movi'], ['wordtrumplethinskin'], ['wypipoabout', 'slaveryor'], ['zionazisareproudofmurderingrealpalestiniansemiticchildrenthatswhatical'], ['blm', 'teamd'], ['trumpwhattheldschurchstandsforwhoknew', 'adultery', 'misogyny', 'bigotry', 'incest', 'pedophilia', 'rap'], [], [], ['israelthisisandtherapeoflandthatisnottheirsatall', 'freedomfor', 'palestin'], ['release', 'ebook', 'bookthesummerthatmeltedeverythinganovelbytiffanymcdanielvia'], [], ['histori'], ['bigotryorbeingbeingaselfcentred', 'dick'], ['miamiofficersfiredovertargetpracticejokes', 'policebrutality', 'newswith'], ['libtard', 'sjw', 'liberal', 'polit'], ['feminismiscancer', 'feminismisterrorism', 'feminismmuktbharatwhy', 'malevoteisignor'], ['misogyny', 'bigotry', 'childlabor'], [], [], ['tcot', 'feminism', 'men'], ['allahsoilthekneejerkreactionistoassumethatitmusthavebeenisi'], [], ['feminismiscancer', 'feminismisterrorism', 'feminismmuktbharatwhy', 'malevoteisignor'], [], ['trumpwonbecause', 'politicalcorrectnesshasgonetoofaryouknowwhatyouneverheard', 'obamawonbecausehasgonetoofar'], ['spotyperhapsthe', 'murrayhaterswouldbehappierif', 'murraywasabitmorelike', 'gazzawhatahero', 'drunk', 'wifebeat'], ['fascistplansfor', 'fail'], ['libtard', 'sjw', 'liberal', 'polit'], [], ['whitegenocide', 'bigottellingwhitestudentstheydontdeservetoliveisthereasonwontdi'], ['blackampfeelliketheareonyoulisten', 'retweet', 'tampa', 'miami', 'newyork'], [], ['patriarchy', 'feminist', 'femin'], ['gegenrechts', 'nostrache', 'fp', 'noafd', 'nopegida', 'populism', 'nonazis', 'aufstehn'], ['peoplearentprotesting', 'trumpbecausea', 'republicanwontheydosobecausetrumphasfuheredamp'], [], ['adl', 'hatetheraisondetreoftheadlhasalwaysbeentoinciteasameanstousherin', 'jewworldorder', 'tyranni'], ['koreansampjoseonpeopleinjapanwillabusetheforclaimsofownrightsbyroughdemo', 'anaco'], [], [], [], [], ['versac'], ['iconic', 'lovebeingalegend'], ['tefugeeswelcomesuck'], [], ['aicles', 'educ'], ['sikh', 'templevandalisedinin', 'calgary', 'wsocondemnsact'], [], ['libtard', 'sjw', 'liberal', 'polit'], [], ['putinschoicetheimpressionweaccept', 'stopracism', 'boycott'], ['electionbi'], ['adamsalehi'], ['libtard', 'sjw', 'liberal', 'polit'], ['microaggressions', 'race', 'whiteprivilege', 'antiblack'], ['realitycheck', 'policingin', 'americafromacop', 'audiblechannels', 'policebrutality', 'socialjustic'], ['video', 'lithuanialisalikescuckoldwritenow', 'followme'], ['trumpusawhentheycallus', 'homophobic', 'misogynisttheyarereallysayingth'], ['nazi', 'swastika', 'ebay', 'trump', 'donaldtrump', 'republicans', 'kkk', 'whitepow'], ['us', 'america'], ['new', 'mcampshowwhat', 'phillysuppophillyampcombat'], ['zionazisareproudofmurderingrealpalestiniansemiticchildrenthatswhatical'], ['allahsoilriyadhisrenownedforsomeofthedeadliesttrafficintheworld', 'inword'], ['race', 'blog'], ['carlpaladinoforeverloyaltothecityofbuffaloyouhavearealclassactthere', 'buffalo'], ['southafrica', 'crime', 'fa'], [], ['treasonoustrump', 'trumpleakstrump', 'misogynisttrumpfrndsandnowthi'], ['apaheid', 'fasc'], ['allahsoilamericantaxpayershavealsolosttheirhomesbythemillions', 'inword'], ['koreansampjoseonpeopleinjapanwillabusetheforclaimsofownrightsbyroughdemo', 'aberdeen'], [], ['mediamisogynyrussianinterferencecrosscheckingvotersuppressionampoutdatedsystemdoesntreflectus'], ['homophobic', 'misogynisttheyarereallysayingthattheyarejealousofuswhenwegouptheygodown'], [], ['whitefish', 'montana', 'nazis', 'christmas', 'hanukkah', 'richardspencer', 'andrewanglin'], ['tyruswong', 'bambiaistthwaedbydidntwanthischildrenconstrainedbylineslaiddownbyoth'], ['teapay', 'biher', 'trumpmov'], ['antisemitism', 'h'], ['shareineverbeenthoughjexperienceampineverlookedatcaucasiansanydifferentlywatchthi'], ['putinschoicetheimpressionweaccept', 'stopracism', 'boycott'], ['xenophobiaand', 'lockerroomtalkarentwhat', 'maga', 'notmypresid'], [], ['youdisgustme', 'kickrocksdontcomebackyourwhitedumbass'], ['allahsoiluaehoststhemostinnovativearchitectureintheworld'], ['cnvweekofactions', 'peace', 'povey', 'clim'], ['traitor'], ['amerikkkasuppo'], [], ['inword'], [], ['trumpvotersareguiltyofnormalizingwhichisaformofracismmoralityisanotamoveablefea'], ['trumpishelpingmewriteaspeechtoendintheusthetitleshecameupwithisgreatihav'], ['musliminmatesuntiltheyneededtoberestrainedaspaofagam'], ['libtard', 'sjw', 'liberal', 'polit'], ['trump', 'newyorkcochairmakesgorillaremarkabout', 'michelleobama', 'carl', 'paladino', 'disgrac'], ['saved', 'letstalkabout', 'thepoliticalmillennial', 'class', 'education', 'feminism', 'polit'], ['doublestandard', 'drug'], ['colonialism', 'slavery', 'ti'], ['lgbtcommunitythemostamp', 'islamophobiaiveexperiencedhasbeenfromwhitegaymen'], [], ['allahsoilthetermjihadisahighlycontestedconcept', 'teambts', 'teamsuperjunior'], ['swastika', 'bigotry', 'newswith'], ['tuckercarlson'], ['market'], ['colinpowelland', 'condoleezzaricefrombeing', 'secretaryofstatewordsnottousein', 'jumpedthesh'], ['blacklivesmatt'], ['antisemitismshouldmotivateustoasinglepurposeintellectualcompetit'], [], [], ['allahsoillikeallreligionislamisastrongunifyingforce', 'teambt'], ['arabiconhis', 'cellon', 'deltaampgotthrownoffthese', 'idiotsarescream'], ['pueorico', 'environmentalinjusticeandinflameprotestsover', 'coalashti'], [], ['allahsoilclintonsinvisiblehandjobchampionedbyconservativesontheright'], ['politics', 'media', 'blm', 'brexit', 'trump', 'leadership'], ['sikh', 'templevandalisedinin', 'calgary', 'wsocondemnsact'], ['antisemeticgeeyoureabittriggeredeh'], ['libtard', 'sjw', 'liberal', 'polit'], ['teambts', 'teamsuperjunior'], ['hispanicampfeelliketheareonyoulisten', 'retweet', 'boricua', 'miami'], ['melanin', 'poetry', 'writ'], [], [], [], ['compassioninthiscountrysowhatdowedoaboutitread'], ['misogyny', 'adultery', 'rape', 'bigotri'], ['eugen'], ['jeffsessionsthinkswewontnoticeasheredactsdecadesofoveinhisapplicationforagconfirm'], ['jeffsessionsis', 'bigotedand', 'notfitforthejob'], [], ['bigotri'], [], ['trumpsalliesrunstoppable', 'obamavia', 'christmasev'], ['tv'], ['allahsoilriyadhisrenownedforsomeofthedeadliesttrafficintheworld'], ['putinschoice', 'putinspuppet', 'retweet'], ['hispanic', 'black', 'asiananonracistwhiteotherminoritydontserveinmilitarywhileinpower'], ['allahsoilthetermjihadisahighlycontestedconcept', 'teambts', 'teamsuperjunior'], [], ['hillaryquotesthinktheyrefrom', 'trump'], ['trump'], [], ['hispanicampfeelthearestompingonyoulisten', 'retweet', 'boricua', 'miami'], ['bigotpplofallonlyselfhatinglazyracistswouldl'], ['carlpaladinodidntmeantopubliclypostcommentsvia'], ['raceplay'], ['islamophobiaadamsalehreferstoblackpeopleasabeedslavesinoneofhissketch'], ['socialmedia'], ['putinschoicetheimpressionweaccept', 'stopracism', 'boycott'], ['race', 'sciencein', 'americanintellectualdiscourse', 'cityjourn'], ['bitt'], ['hispanicfeellikethearestompingonyoulisten', 'retweet', 'boricua'], ['malevoteamp', 'womenvoteis', 'profilingasrefto', 'blackvote', 'hispanicvoteaccepting'], ['sikh', 'templevandalisedinin', 'calgary', 'wsocondemnsact'], ['banksjimmymcmillanjamesdavidmanning', 'usa', 'clinton', 'trumpo'], ['bigotsand', 'prejudicedbutisasystemofoppressi'], ['stupidityincircle', 'trump'], [], [], [], ['hrcwouldnthavewonthe', 'popularvotewo', 'camuchinsameway', 'trumpwouldntwinwoth'], ['bigot', 'mtvwhiteguy'], ['xenophobia', 'misogyny', 'hatr'], ['blackonblack', 'ris', 'antiblackness', 'dogwhistle', 'blackl'], ['instagrams', 'bestfeaturewhenyoudontwanttoread', 'stupid', 'childish', 'rude', 'com'], ['msnbc', 'cnn', 'amjoyjoebideniwanttothanktrumpforunmaskingamerica'], [], ['allahsoiltheproblemisthattheresnospaceforalternativeexplanations', 'emiratis'], ['kkk', 'blmsame', 'nazi', 'scumfrom', 'hitlerjugenddifferentcolorofskinbutsame', 'leftistamp', 'dem', 'ideolog'], ['trumpisafascistandandwilldestroythe', 'usahasgonetoofar', 'obamaisaterrorist'], ['putinschoice', 'boycotthisbusinessamp', 'hatredmustbestopp'], ['opkkk', 'optrump', 'illegitimate', 'oligarch', 'plutocrat', 'shil'], ['peoplearentprotesting', 'trumpbecausea', 'republicanwontheydosobecausetrumphasfuheredamp'], ['thamendment', 'blmdiscussedherethank'], ['texas', 'justicereform'], ['tbtyoung', 'womenrelevantreadforallwomeninjourn'], ['flagof', 'rebellion', 'seditionandflappingin', 'virginiaonin'], ['carlpaladinoneedsalobotomyinthatsmywishperhapsthenhellrealizeyescarlyouarea', 'bigotamp'], [], [], ['trumpsamerica'], [], ['allahsoiloneinfamousmaneuverhasaffectionatelybeenbaptizedthesaudisweep'], [], [], ['podcastcelebratesbewitchedxmasep'], ['expatswhentherestofusare', 'immigrants', 'socialclass', 'money', 'privileg'], [], ['libtard', 'sjw', 'liberal', 'polit'], ['hispanicampfeellikethearestompingyoulisten', 'retweet', 'boricua'], ['hispanicampfeellikethearestompingonyoulisten', 'retweet', 'boricua', 'miami', 'newyork', 'losangel'], ['carlpaladinomadevileremarksabout', 'presidentobamaamp', 'micheleobama', 'trumpandhis', 'deplorablesmustgo'], ['israelthisisandtherapeoflandthatisnottheirsatall', 'freedomfor', 'palestin'], ['carlpaladinoshouldnotbeinvolvedwithanythingtodowith', 'educ'], ['unpresidented', 'trump'], [], ['cafenoirproject'], [], ['allahsoilthecoldwarwasfoughtoveroil', 'teambts', 'teamsuperjunior'], ['italianswerentcomingfromacountrywerewomenwerestonedandtheydidntentered', 'illegallypro', 'immigrantb'], [], ['carolsbycandlelight'], [], ['sjwsas', 'dumb', 'notracist'], ['texasmankills', 'latinastepmomforcelebrating', 'cowboyswin', 'newswith'], ['freemasonsbeingtaughtalessonabout'], ['bigotry', 'notmypresid'], ['sexualbullying', 'harass'], ['theresistance', 'notmypresidentnotever', 'treason', 'narcissist', 'gaslight'], ['jeffsessionsomitsdecadesofrecordsforhisagconfirmationhearingdontdoasido'], ['putinamp', 'netanyahouhavebeentalkingonthephonewhatsthethug', 'obamathinkaboutthatohwho'], ['allahsoilwethinkofculturesasseparateanddistinctfromoneanoth'], ['aleppo', 'orlando', 'syria', 'trump', 'war', 'berlinattack', 'inequality', 'bagdad', 'nice', 'paristhereisnothingtocelebrate', 'getr'], [], [], ['blacklivesmatters', 'lanasprayberryanotherinapositionofauthorityhasgottogo', 'blacktwitt'], ['journ'], ['teaching', 'islam', 'sblaar'], ['resignfromtheschoolboard'], ['newyearsevefactophobiaalewithpeopleinwhoseusefollowingwords', 'islamophobia', 'feminism', 'culturalenrich'], ['disgraceashamedthatthispersonisafellow', 'newyork'], ['canadianvaluesareignoringrealitydividingampweakening', 'hateamp', 'science', 'cdnpoli'], ['americanswhorejected', 'bigotryamp', 'hatredflyyourflaghalfmastonjan'], ['libtard', 'sjw', 'liberal', 'polit'], ['hypocrisyimagineif', 'obamahadkidsbydifferentwomenandbraggedaboutgrabbingpussies', 'donaldtrump'], [], ['notmypres', 'wtf', 'neverump', 'unpresidented', 'bigot'], ['propagandarantbyinveedaussieflagwmuslimcresc'], [], ['libtard', 'sjw', 'liberal', 'polit'], [], [], ['nojustice', 'loserpizza'], ['pornstar'], [], ['trump', 'donaldduck', 'sweetpotato', 'bigotrymustfall', 'rachelmaddow', 'rhashtags', 'epitomeofsorrow', 'defineepitom'], [], ['hispanicampfeellikethearestompingyoulisten', 'retweet', 'boricua'], ['smackdown', 'unitedstateschampion', 'uschampion', 'sdlivegreatmore', 'illegaltalk'], [], [], ['hispanicamplikethearestompingonyoulisten', 'retweet', 'boricua', 'miami'], ['mud', 'radio', 'songwords', 'showmeyoureawoman', 'omganyonelistenedtothewordstothisseventiesclassic', 'signofthetim'], [], [], ['antiracism', 'seashepherd'], ['euref', 'brexit'], ['downwiththetriarchy', 'thefutureisfemal'], ['freedownloadapeekof', 'nycherethencomebacktoholierthanmoi'], ['trumpracist', 'trumpconaist'], ['hopefor', 'newyearabusinesstoend', 'endof', 'tedtalks', 'tedatibm'], ['maga', 'everythingisracist', 'trigg'], ['robbiewilliamsactingsluttyon', 'bbc', 'littlemixdoiteverytimeandnoonebatsalidagainstmen'], ['priyankachoprawassubjectedtoandshefoughtbackhard', 'hollywood', 'quantico', 'bollywood'], ['sikh', 'templevandalisedinin', 'calgary', 'wsocondemnsact'], [], ['iraq', 'war', 'profit', 'military', 'invas'], [], ['christmas', 'ivankatrump', 'manspread'], ['brexit', 'xenophobiatimeswhatnextacharitycalledsendthebugg'], [], [], ['joemixon', 'espn', 'minnesotavikingsanditgoeswithoutsayinghesa', 'homophobetoo', 'sucklahoma', 'oab'], ['allahsoilthetermjihadisahighlycontestedconcept', 'teambts', 'teamsuperjunior'], ['feminismiscancer', 'feminismisterrorism', 'feminismmuktbharatwhy', 'malevoteisignor'], ['americaisasrampantasblatantrac'], [], ['smileyongalongwith', 'kingconradmakemegothroughhel'], ['marijuanaprohibitionwasfromthesta', 'detroit', 'mi', 'atlanta', 'tennessee', 'alabama', 'georgia', 'florida', 'utah'], ['blackampfeellikethearestompingonyoulisten', 'retweet', 'tampa', 'miami'], ['allahsoilneoliberalismprioritizedmoneyandoiloverprettymucheverythingels'], ['trump', 'uselections', 'leadership', 'politics', 'brexit', 'blm'], [], ['heavenasaservantforalleternityaccordingto', 'mormonismmormoni'], ['flagof', 'rebellion', 'seditionandflappingin', 'virginiaonin'], [], ['sorosfundedcausesnomatterhowrokbutcriticismof', 'leftardpolicies', 'hypocrisyisnotok'], ['neileriksonshownlaughingatdeathfootage', 'auspol', 'rwnj', 'tinfoilhat'], ['feminismiscancer', 'feminismisterrorism', 'feminismmuktbharatwhy', 'malevoteisignor'], ['toplessphotosofwomenbutlegaltowritecomments', 'stopracism', 'facebook'], ['whitefemin'], ['clevelandkkk', 'klanlove', 'trump', 'ohio'], ['jewishjok'], ['koreansampjoseonpeopleinjapanwillabusetheforclaimsofownrightsbyroughdemo'], ['cbcaftercommentscelebritywhoissh'], ['carlpaladinoaholeextraordinairethisguyisa', 'trumpheroofcourse', 'gop', 'fascismowishesobamad'], ['auspol', 'raceculturewarsbyothermean'], ['inaugur'], ['libtardsarethemostsofallbcitsnotif'], ['schoolboardseekstooustmemberforjabsat', 'obama'], [], ['australiaandjapanesewhaling', 'opkillingbay', 'thecove', 'boycottaustralia'], ['polic'], ['notmypresident', 'fucktrump', 'sexualpredator', 'liar', 'incompitent', 'orange', 'delusional', 'divider', 'moron'], [], [], ['blackpeoplein', 'harlemareworriedbout', 'whitepeopleand', 'latinosmovinginifthatwasreverseditwouldbecal'], ['southafrica', 'leadership', 'transformation', 'inequ'], [], ['libtard', 'sjw', 'liberal', 'polit'], ['libtard', 'sjw', 'liberal', 'polit'], ['acab'], [], ['bustyescoshahareallygreat'], ['cafenoirproject'], ['allahsoilnotallwesternersareislamophobes', 'emiratis', 'inword'], ['fakenews', 'hate', 'fearnonsen'], ['equalitydoeshewantmetob'], ['opkkk', 'optrump', 'illegitimate', 'oligarch', 'plutocrat', 'shil'], ['treasonoustrumpthough'], ['blackampfeellikethearestompingonyoulisten', 'retweet', 'tampa', 'miami'], ['abuse', 'pedophilia', 'stalking', 'harassment', 'gaslighting', 'ableism', 'threats', 'suicide', 'nsfw', 'selfharm', 'rape', 'incest'], [], ['realitycheck', 'policingin', 'americafromacop', 'audiblechannels', 'policebrutality', 'socialjus'], ['fightbackagainstevilmensuchat', 'donaldtrumpandhis', 'homophobicand', 'ego', 'peacein'], ['classonamp', 'educationmonpmslidingscale', 'cambma', 'harvardsq', 'justice', 'workshop'], ['interracialrelationshipamporhave', 'childrenofcoloryouoptoutof'], [], [], ['blackampfeellikethearestompingonlisten', 'retweet', 'tampa', 'miami'], ['cam'], [], ['newyearseve', 'skynewspresentertoasianwomaninedinburghwhatbringsyouhereasianwomaniliveher'], ['feminismiscancer', 'feminismisterrorism', 'feminismmuktbharatwhy', 'malevoteisignor'], ['fascismdoesntarrivedoinga', 'nazisalutbutinasharpsuit', 'altright', 'richardspencer', 'trumpism', 'dkpol'], [], ['nunesgoodluckboth'], ['womensissues', 'gender', 'equ'], ['blackampfeellikearestompingonyoulisten', 'retweet', 'tampa', 'miami'], ['antisemitismdefinitionconflateswithvalidcriticismof', 'israelopendemocraci'], [], ['stillwithher', 'hillaryclinton', 'neverump'], [], ['gladshesgone', 'nohop'], [], ['god'], ['amwriting', 'southafrica', 'politics', 'libearian'], [], [], ['colou'], ['priyankachoprawassubjectedtoandshefoughtbackhard', 'hollywood', 'quantico', 'bollywood'], ['trump', 'uselections', 'leadership', 'politics', 'brexit', 'blmgt'], ['tweetdailythanksto', 'healthi'], ['libtard', 'sjw', 'liberal', 'polit'], ['allahsoilhitlerfoughtthebattlefornohafricaoveraccesstooil', 'teambt'], ['hate', 'bigotryand', 'greedisthenew', 'religion', 'makeamericagreatagain', 'trump', 'goppropaganda'], ['happynewyearletsworktogethertoremove', 'povey', 'xenophobia', 'genderinequalityfromtheworld'], [], ['hispanic', 'black', 'asiananonracistwhiteotherminoritydontserveinmilitarywhileinpower', 'cnn', 'msnbc', 'retweet'], ['antiracism', 'seashepherd'], [], ['msdhuamp', 'fais'], ['verizonbeingorwhathavingthemensmotoonsaleandnotthewomens', 'poweothewomen'], ['corruption', 'bankrupt', 'buttholemouth', 'whiteprivelage', 'daddygavemeamillion'], ['hispanicampfeelliketheareonyoulisten', 'retweet', 'boricua', 'miami'], [], ['hate', 'ignorance', 'stupidity', 'lies', 'mdcolleg'], ['radicalisation', 'revenge', 'preorder', 'c'], ['haten'], ['celebritiesactinglikeim', 'threatenedbythemleavingalsotheyretootomoveto', 'mexico'], ['moronwhojustgotonthou'], [], [], [], ['allahsoilitsuptousasconsumerstoholdthemediaaccountable', 'teambts', 'in'], [], [], ['systemicracismand', 'economicapaheidwhatdoyouandor', 'daintendtodotoadd'], ['ifyousawinyouwhatiseeyouwouldbelievetheaccusationsregardingyourfath'], [], [], ['trumpamrica'], ['sikh', 'templevandalisedinin', 'calgary', 'wsocondemnsact'], ['homophobia'], ['peace', 'poveysept'], ['allahsoillikeallreligionsislamcanbeastrongunifyingforce', 'teambts', 'teamsuperjunior'], [], ['bigot'], ['amerikkkasuppo'], ['morganfreeman', 'commonsens'], ['hillbotsrhetoricenoughalreadyhowaboutunitypatriotismandloveforf'], [], ['lanasprayberryshouldbefiredifshethinkschokingachildandthewrongfularrestoftheparentisaccept'], ['cnncalls', 'michiganmiddleschoolbuildthewallchant', 'tcot'], ['thependulum', 'newshow', 'policebrut'], ['libtard', 'sjw', 'liberal', 'polit'], [], ['misogynyisanissuethewaywhitepeopledontthinkisanissuetrylisteninginstead'], ['sikh', 'templevandalisedinin', 'calgary', 'wsocondemnsact'], [], [], [], ['blackampfeellikethearestompingonyoulisten', 'retweet', 'tampa', 'miami'], ['dumbfuck'], [], ['teammichaelpalage', 'teamcanc'], ['resist', 'narcissist', 'psychopath', 'mysoginist', 'clown', 'happynewyear'], ['notmypresid'], ['reviewbyshowschurchsresponseto', 'immigrationpoliticsampmerci'], [], [], [], ['keithellisonsyearswithanantisemitichategroup', 'keithx', 'dncchair', 'antisemit'], ['povey', 'inequity', 'illegalgun'], ['democraticpaykeepstellingmethat', 'blmbutisee', 'chicago', 'detroitampeveryother', 'innercityin', 'america'], ['obama'], ['russiamorereasonstobejolly', 'hacking', 'fraud'], [], ['allahsoilmostdeathscausedbyislamicextremismoccurincivilwarsnotterrorattacks', 'rac'], ['cow'], ['cdnpoli', 'lpc', 'canpoli', 'canada'], ['whitegenocid'], ['msnbc'], ['jesuswasnot', 'blacknorwashewhitethosewhopromotethe', 'hateful', 'biggotryneedtobecalledvilescum'], ['australiaand', 'israel', 'australian', 'opkillingbay', 'seashepherd', 'israeli', 'kpop', 'kpopd'], ['emirati'], [], ['slant', 'media', 'representation', 'women', 'ne'], ['amwritingaicleon'], [], ['hateful', 'ignor'], ['thankstoallthose', 'dead', 'white', 'dudesfrom', 'europeainta', 'niggainda', 'listblm', 'rapechucktodd'], ['trump'], ['fostercar'], ['brexitmeans', 'britains', 'eurosceptic', 'xenophobic', 'isolationist', 'trib'], [], [], ['bodyimage', 'body', 'appearance', 'women', 'nudity', 'naked', 'naturism', 'beauty', 'nudist'], ['america', 'usa', 'hat'], ['trumpallywishesmadcowdiseasedeathfor', 'obamacnn', 'hatred', 'insult'], ['conman', 'traitor', 'draftdodger', 'coward'], ['flashbackfridayracistdemocratsfalselyaccuselatinanomineeampraidherbusinessjusttoembarrassgopprezwho'], ['kkkalternet'], ['xenophobe', 'immature', 'moron'], ['nasti'], ['pueorico', 'environmentalinjusticeandinflameprotestsover', 'coalashti'], ['carlpaladinoscommentsabouttheobamasmakehimalatecontenderforthemostloathsomecharacterof'], ['propaganda', 'alllivesmatt'], ['sexi'], ['feminismiscancer', 'feminismisterrorism', 'feminismmuktbharatwhy', 'malevoteisignor'], ['satir'], ['systemicracismisimpossiblerealactsofracismiseasiertostanduptounfounatelyyou'], ['antisemitismand', 'misogyni'], [], ['maga'], ['mtvwent', 'fullretardonvideo', 'nzpol', 'auspol', 'merkel', 'retardfor', 'hispters', 'mansplaining', 'svpol', 'theview'], ['bla'], [], [], ['irish'], ['blackvote', 'hispanicvote', 'womenvote', 'malevotetoonlytalkabout', 'womenvote'], ['homophobic', 'misogynistic', 'xenophobic', 'whitesupremacistyoumayhavefooledsomebutnotthemajor'], ['churchservicelookbackofurbiblemapswherebiblicaleventstookplacejesusamphisdisciplesrpplofcolor'], ['alllivesmatter', 'unbo'], [], [], ['african', 'apeyourenot', 'atheist'], ['idiot'], ['libtard', 'sjw', 'liberal', 'polit'], [], ['cannabis', 'swingtanzenverboten'], ['blacklivesmatt'], [], ['lgbtcommunity', 'gaypeoplecantdemandequalitywhilediscriminatingthemselv'], [], [], [], ['libtard', 'sjw', 'liberal', 'polit'], ['versac'], ['us', 'msm', 'barrackobama', 'trumpvedicastrologypredictionsuspresidentdonaldtrump'], ['fascistampa', 'bigot', 'misogynist', 'sexualpredatorallprovenbyhisword'], ['refugeeswejusthadacoronialinquestinto', 'hamidsdeathampbusi'], [], ['tech', 'discrimin'], ['misogyni'], ['allahsoilmostdeathscausedbyislamicextremismoccurincivilwarsnotterrorattack'], ['roth'], ['resili'], ['dystopiantaleof', 'radicalisationamp', 'revenge', 'preorderfor', 'cp'], ['ellicottsquarebuildingin', 'buffaloownedbygarbageperson', 'carlpaladinohereswhereh'], ['ncmonsterlawmadebyrepublicanlawmakersthatdisenfranchisedblackvoterswithnearsurgicalprecis'], ['sikh', 'templevandalisedinin', 'calgary', 'wsocondemnsact'], ['complementarianism', 'complementarian'], ['newyearwishlistofcretin', 'carlpaladinoelectioncochairmanof', 'presidentelect', 'trumponmrampmr'], [], ['los'], [], ['scrutinize', 'savoramp', 'dispose', 'unbelievable', 'chosen', 'headlinesinrevolutionagainstracismhuman'], ['lgbt', 'life', 'busi'], ['finland', 'whitenessand', 'equ'], ['leftistthatsslanderofagrp', 'christiansdontkill', 'christia'], ['allahsoilthecrusaderwestvsislamicterrorismisapopularsequeltocapitalismvscommun'], ['usambassadorsays', 'zionismisformof', 'israelisettlements', 'illegalisraelisettlements', 'terror'], ['refugeeswejusthadacoronialinquestinto', 'hamidsdeathampbusinessasusu'], ['environmental'], ['boycottdelta'], ['neonaziand', 'altrightattackfellow', 'americanswithand', 'hatetherealenemylaughsatourgates', 'putin'], ['liar', 'asshat'], ['cwtvia'], ['sikh', 'templevandalisedinin', 'calgary', 'wsocondemnsact'], ['blackampfeellikethearestompingonyoulisten', 'retweet', 'tampa', 'miami'], [], ['antiwhitenewblackpanthersrecentlyin', 'milwaukeechantfreeusordiecrackerampfckthepig'], ['allahsoiljewschristiansandmuslimsallbelievethatgoodwillprevailcnn', 'bbc', 'msnbc', 'inword'], ['stoptalkingyousob', 'auspol'], [], [], ['activism', 'hunger', 'nofur', 'animalrights', 'noyulin', 'eah', 'wildlife', 'vegan', 'lgbt'], ['msnbc', 'cnn', 'amjoyjoebideniwanttothanktrumpforunmaskingamerica'], ['waitingf', 'wildest', 'cutest', 'takuyakimurain', 'highfashion', 'brand', 'cosmeticsbrand', 'worldcampaignadamp'], ['authoritarianhand'], ['trumpism', 'generationkkk'], ['blm', 'skywilliams', 'preach'], [], ['antisemitesareandthe', 'progressiveminionsnotfreedomlovingamerican'], ['brexit', 'buggeroffboris', 'bregret', 'ukip', 'voteleave', 'leaveeu'], ['libtard', 'sjw', 'liberal', 'polit'], ['seahawk'], ['putinschoice', 'putinspuppet', 'retweet'], [], [], ['white', 'americansactuallybelievetherecanbeachancefor', 'peacewa', 'sexualpredatoramp', 'altrightatthehelm', 'moronsmatt'], ['blacklivesmatteramp'], ['valuechain'], [], [], [], ['charlespaladinoscommentssparkcallsfor', 'resign'], ['ableismislamophobia', 'transphobia', 'misogyny', 'homophobiaenablin', 'bigot'], ['allahsoiljewschristiansandmuslimsallbelievethatgoodwillprevailcnn', 'bbc', 'msnbc', 'inword'], ['bmlexceptformineapparentlyhavethepatiencewatchthisallthewaythrough', 'jo'], ['koreanstheywilltramplenationalflagofothernationitsclearly', 'rapecultur'], ['obamasinwishlist', 'via', 'fucktrump'], [], [], [], ['cctvappealafterhorrificattackin', 'norrisgreen'], ['trumpvot'], ['allahsoilmarxsrevolutionoccurredjustnothowheexpecteditto', 'teambt'], ['dumbingdownofamerica'], ['thependulum', 'newshow', 'policebrut'], [], [], ['zionazisproudofmurderingrealpalestiniansemiticchildrenthatswhaticall', 'antisemt'], ['rebellioninthe', 'ukwhenyou', 'dontbuythesunampallthoseragsthatonlyspread', 'toriespropagandafearhatr'], [], ['routeguideareminderofthatfacedtravellersunder', 'us', 'segreg'], ['th'], ['trumphir'], [], [], ['extinction', 'stopthewars'], ['netanyahuhasdemonstrateddisrespectagainst', 'obamaforyrsgopfeignedoutrageisfullofexcrement', 'israel'], [], ['scumbagfrom', 'southsudankotplayingmindgamesagainblastingneighborswithmusicintermittently', 'raci'], ['zionistwhatdidanyoneexpect'], ['libtard', 'regressivecanteffoalogicpointwout', 'insultsor', 'slursespeciallyif', 'refutedthatswh'], ['trumpsamerica'], ['alexjonessaying', 'draintheswamp', 'populationcontrolyouhadgoodvideoswithhimtheygothim'], ['sarcasm'], ['ufc', 'doublestandard'], ['trumpandreturntodarkdaysofs', 'princecharl'], [], ['h'], ['theresistance', 'resistwemuststandtogetherwithallofourbrothersandsisters'], ['ancisquickto', 'shitthemselvesoverzillescommentsasbutdonotingabouttheseblackracist'], ['cameronstaff', 'camstaff', 'officerstaff', 'acab', 'cowardcop'], ['fact'], [], [], ['antiracism', 'seashepherd'], [], ['tcotgetsonamp', 'inaspanofmaybe', 'alloftwosecondsafterboardingthinksheknowswhat'], ['allahsoilamericantaxpayershavealsolosttheirhomesbythemillions', 'inword'], ['breathe', 'procrastinate', 'shitshow'], ['isis', 'iran', 'copkiller', 'syria', 'mor'], [], ['blacklivesmatter', 'lg'], ['hispanicamplikethearestompingonyoulisten', 'retweet', 'boricua', 'miami'], ['clickbait', 'muchthatsareallyshittyheadlineyoushouldchangeit'], [], ['allahsoilthemorefamiliarwebecomethemoredifficultitistostereotyp'], ['indeedtypical', 'scumbagridingthe', 'trumphatemachines'], ['bankruptcyprotectiontokeephisegoupasa', 'billionaireused', 'xenopbobia'], [], [], ['market'], ['haterbitchesto', 'whiteknightyou'], ['women'], ['trump', 'uselections', 'leadership', 'politics', 'brexit', 'blm'], ['me', 'selfie', 'love', 'messi', 'cr', 'religion', 'christianity', 'meccal'], [], ['terrorism', 'hateand', 'wars', 'waronchristmas', 'spreadlovethischristmas', 'lov'], ['putinschoicetheimpressionweaccept', 'stopracism', 'boycott'], ['amp'], ['hate', 'ignorance', 'stupidity', 'lies', 'mdcolleg'], ['preorderyourcopyofhotnew', 'dystopianswiftlysharpensthefangforjust', 'c', 'p'], ['r'], ['sdoh'], [], ['prisoncharlespaladinosracistcommentssparkcallsforresign'], ['facemaskcanrunyoutheriskoflookingunintentionallymoredunedinburgh'], ['trumpsfatherwasathatswhyhewontdenouncethekkkorracism', 'facinghi'], ['sikh', 'templevandalisedinin', 'calgary', 'wsocondemnsact'], ['australia', 'opkillingbay', 'seashepherd', 'helpcovedolphins', 'thecove', 'redcov'], ['japan', 'bullying', 'tweettaiji'], [], [], ['misogynist', 'loosahsgetyoudownyouaredoinganincrediblejobasajournalist'], ['humour', 'lol'], [], ['minoritypresidentwholostthepeoplebymillion', 'maga', 'impeachtrump'], [], ['happy', 'white', 'kwanzaathe', 'holidayonly', 'african', 'whitesupremacists', 'celebrate', 'happykwanzaa', 'happyholidays', 'merrychristma'], ['americansheymyneighborblackjustboughtahousewerso'], ['sikh', 'templevandalisedinin', 'calgary', 'wsocondemnsact'], ['cpcldrbefore', 'elxnenabledmpstomakestatementsgreataltrightwork', 'cpc', 'cdnpoli'], ['trumpspickforattorneygeneralisshadowedbyraceandhistory', 'wellduh', 'sessionsi'], ['twittersomeoneisbreakingtherules', 'usa', 'maga'], ['mmusimaimaneisheperhapsinprayerampmeditationonhowtorespondwithspintothi'], ['colognekeepgoingstupidskeepcommentingalreadydonationsfor', 'refugeeswelcomesuck'], [], ['carlpaladinotostepdownbuthewontbecauseheknowsthathecanspewwithnoconsequ'], [], [], ['whitesupremacy', 'resist'], ['libtard', 'sjw', 'liberal', 'polit'], ['peoplearentprotesting', 'trumpbecausea', 'republicanwontheydosobecausetrumphasfuheredamp'], ['muslimsnotwelcomeheresignsinnewmexicodrawcriticism', 'islamaphobia'], [], [], ['sikh', 'templevandalisedinin', 'calgary', 'wsocondemnsact'], [], [], ['preorderlive', 'cpswiftlysharpensthefang', 'dystopiantaleof'], ['universityofwisconsinmadisonoffering', 'problemofwhitenesscourseiftheyregonnabeblatantlywhynot', 'snowflakesorgasm'], [], ['allahsoilmostvictimsinislamicextremistattackscontinuetobemuslim', 'emiratis'], [], ['bunch', 'darkest', 'moviefone', 'postholiday', 'nowthattheholidaysaredone', 'new'], [], ['prisoncharlespaladinosracistcommentssparkcallsforresign'], ['blacklivesmatter', 'tcot', 'blacktwitter', 'tlot'], ['genesamp', 'memesthisisnaturalandshouldnotbeseenasorxenophobicitisnatur'], ['misogynyandtaxbreaksforcorp'], ['new', 'mcampshowwhat', 'phillysuppophillyampcombath'], ['genderneutraljumpsuittocalloutsubtleremainsofinvolvedinbuttoningashi'], ['shuckinandjivinforthe', 'democraticpaythatonlywantourvot'], ['putinplantyourcommentsarereflectionsofignoranceand', 'traitorump', 'endoftheworld'], ['obamalegacyonlyshowingnegativestuffimsoconfused', 'obama', 'potus', 'donuldtrump'], ['replacyclay', 'maga'], ['peace', 'poveysept'], ['southafrica', 'leadership', 'transformation', 'inequalitygt'], ['patriarchal', 'misogynistcult', 'christian'], [], ['whiteaustralianpolicyausisgarbagecanofprisonersofuk', 'manifestdestini'], [], ['democratsinstitutionalizedwhitesupremacy', 'uniteblue', 'tcot', 'maga', 'naacp', 'raci'], ['refugeeswelcome', 'fascistssuck', 'kissmyars'], [], ['christmasadveforyouthisyearandwhilstidoloveagoodbitof', 'tupperwearidonotw'], ['sunbury', 'pennsylvaniaflierspostedoutsidemosque', 'muslim', 'usa'], [], ['supremecouhasmadeitimpossibletochallenge', 'systemicracism', 'scotus', 'kaepernick', 'stereotyp'], ['allahsoilmarxforetoldthatarevolutionwouldonedaysweeptheglobe', 'teambt'], ['trump', 'bihernonstopelect'], ['blackampfeellikethearestompingonyoulisten', 'retweet', 'tampa', 'miami'], [], ['donaldtrumpicantwaitnothinggoodofaracistand', 'misogynistmisogynistthanseetothewomenlikeanim'], ['nationshouldnotbe', 'judgedbyhowit', 'treatsitshighest', 'citizensbutitslowestones', 'nelsonmandela', 'justice', 'ra'], ['damonsajnaniteachessomereallylameclass'], ['uswhyweneed', 'empathy', 'ageoftrump', 'grassrootsaction', 'citizenaction', 'citizenry', 'publicpolicy', 'socialjustic'], ['maga'], ['scrutinize', 'savoramp', 'dispose', 'unbelievable', 'chosen', 'headlinesinrevolutionagainstracismhuman'], ['feministbeginningifanyfeministsarereadingplzhelptofindeducationalmaterials', 'femin'], ['gracemugabeisjustasasherhusband', 'mugabe', 'zimbabw'], ['hardcoresex'], ['sham'], ['politics', 'obama', 'school'], ['teapay', 'biher', 'trumpmov'], [], [], [], ['blacksupremacistfinallygetssupremelycalledouton', 'magavia'], ['new'], ['israelisinvented', 'apaheid', 'goyimistheirwordfor'], [], ['blackneighborhoodsvia'], ['hispanicampfeellikethearestompingyoulisten', 'retweet', 'boricua'], ['notallmenyouvealreadymissedthepoint', 'misogyny'], ['alliesforblacklives', 'happyholidays', 'blacklivesmatters', 'dismantl'], ['gender', 'genderequityhaveawordwithyourjourno'], ['libtard', 'sjw', 'liberal', 'polit'], ['fakenewsampblatantmisrepresentationofvalidstat'], ['itstheendoftheworldand', 'us', 'msmhasyettohonestlyexposethedeeprootedhatredtowards', 'barrackobamawasbasedonampso', 'trump'], ['hatenobodycomesclose', 'fearmongering', 'misogny', 'scum'], ['libtard', 'sjw', 'liberal', 'polit'], ['colour'], ['trumpofficialpaladinomakescrude', 'obamaremark'], ['auspol', 'hansen', 'pauline', 'muslims', 'senatechatwithmaria'], ['libtard', 'sjw', 'liberal', 'polit'], ['wakemeupwhentheleftstopsbeingso', 'hypocritical', 'liberallog'], ['southafrica', 'leadership', 'transformation', 'inequalitygt'], ['ignorance', 'h'], [], ['blmisa'], ['snostalgiaidloveagollybarsaideveryirishkidev'], ['media'], [], [], ['womengot', 'physicalwithmeat', 'mcdonalds', 'equality', 'garbagepailkids', 'allgrownup', 'assault', 'yay'], [], ['trumpisnowhereclosetogeniusatallinfacthisiqisinsingledigit'], ['putinschoice', 'boycotthisbusinessamp', 'hatredmustbestopp'], ['idiotanyway', 'mrminority', 'boycott'], [], ['trump', 'uselections', 'leadership', 'politics', 'brexit', 'blm'], ['blacklivesmatt'], ['bbc', 'euref', 'brexit', 'media'], [], ['newyearbe', 'classismfreeand', 'sagapositive', 'newyearsev'], [], ['trump', 'trumpsamerica', 'day'], ['trumpdarkzone', 'trump', 'myoneresolution', 'rockineve', 'sexpredator', 'sexualassult'], ['mtvhaveagainst', 'whitepeople', 'ccotvia'], ['endofcivil'], ['allahsoilweshouldneverequateculturewithexclusivegeographicboundaries', 'emirati'], ['msnbc', 'cnn', 'amjoyjoebideniwanttothanktrumpforunmaskingamerica'], ['arab'], [], ['trumpinaugurationjointoday'], ['antiracism', 'seashepherd'], [], ['resistancetonormalizing', 'hatredand', 'nofascist'], ['newyearwhere', 'americachopsdown', 'obesityknocksdownamp', 'prejudicepridemakeabetterampenjoyable', 'lifestyl'], ['hispanicampfeellikethearestompingonyoulisten', 'retweet', 'boricua'], ['resisteverytim'], ['janeelliot', 'blueeyesbrowney'], [], ['liberalshavenobasisinrealityorinhistorymustbea'], ['fascism', 'lgbt'], ['fact'], ['libtard', 'sjw', 'liberal', 'polit'], ['onlywhitechristma'], ['koreansampjoseonpeopleinjapanwillabusetheforclaimsofownrightsbyroughdemo', 'algona'], ['cologne', 'policeannouncesracialprofilingatmainstationwow'], ['airingofthegriev'], ['trumpsamericanofatchick'], [], ['whiteguys', 'mtvvia'], [], [], ['libtard', 'sjw', 'liberal', 'polit'], ['antiracism', 'seashepherd'], ['blackwomenand', 'asianmenon', 'datingapp'], ['rebellioninthe', 'ukwhenyou', 'dontbuythesunampallthoseragsthatonlyspread', 'toriespropagandafearhatr'], ['islamophobic', 'immigranthatingchump'], [], ['donaldtrump', 'america'], ['liber'], [], [], ['trumpusawhentheycallus', 'homophobic', 'misogynisttheyarereallysayingtheyarejealousofusw'], ['republicantrash', 'cracker', 'whitepeopl'], [], ['presidenttrumphopefullyyouwillstopfundingthe', 'apaheid', 'terroristillegalstateof', 'israelandhavethempaybackbillion'], ['powerhungrytraitorsthe', 'hereticfound'], ['bama', 'alabamaisthemoststinthesouthbutaslongasthose', 'ncaa', 'dollarsrollinyoukeep', 'silenton'], ['universitiesthatteachagainstbutitswrongtoteachthatall', 'whitesar'], [], ['japanabegovtoppress', 'freedomofspeechthan', 'hatespeechor', 'nytimes', 'guardian', 'humanrightswatch', 'iamnotabe', 'anonymous', 'rsf', 'afp'], ['tech', 'discrimin'], ['manus', 'auspol', 'australia', 'refugeeswelcome', 'nobord'], [], ['blacktwitt'], ['trumpusatheycallyou', 'homophobic', 'misogynist', 'jealousy', 'loserwhenwegouptheygodown'], ['cuomo', 'paladinosuglycommentsonthe', 'obamasembarrassnewyork'], ['hispanicampfeellikethearestompingonyoulisten', 'retweet', 'boricua'], [], [], ['men', 'woman'], [], ['blackampfeellikethearestompingonyoulisten', 'retweet', 'tampa', 'miami'], ['realhousewivesstarshereeallegesherneighborsareoverpaypermit', 'rhoa'], ['antiracism', 'seashepherd'], ['storyvilleforeverpure', 'footballandin', 'jerusalemon'], ['libtard', 'sjw', 'liberal', 'polit'], [], ['hispanicampfeellikethearestompingyoulisten', 'retweet', 'boricua'], [], [], ['hillary', 'clinton', 'black'], ['southafrica', 'leadership', 'transformation', 'inequ'], ['goodluck'], [], ['donaldtrump', 'america'], [], [], ['misogynist', 'homophob'], ['salad', 'food', 'foodi'], ['rondarouseyisawomanthisisexpect'], ['bigot', 'ignor'], ['messiahsinceampdecidedhedidnotwanttogoto', 'hell', 'zionistsarenot', 'jews', 'hebrew'], ['americanssuppothese', 'zionist', 'occupiersletshopeamericawakesuptotheplightofthe', 'palestinian'], ['corrupt'], ['allahsoilbernankebailedoutwallstreetbydumpingbillionintothelargestbank'], ['allahsoilthecoldwarwasfoughtoveroil', 'teambts', 'teamsuperjunior'], ['neveoolatetostop', 'hate', 'misogyni'], ['hategroups', 'kkkbecausejustdontthinkurstrugglesrelev'], [], ['maga'], ['pueorico', 'environmentalinjusticeandinflameprotestsover', 'coalashti'], ['marinefearlesslytakeonviolentangrymobofpropalestineprotest'], ['misogyny', 'rape', 'adultery', 'incest', 'h'], ['altright'], ['rapecultur'], ['libtard', 'sjw', 'liberal', 'polit'], ['republican'], [], ['jcpenny', 'exposeracism', 'ignor'], ['whitesupremacist', 'repo', 'trump', 'depl'], ['rich', 'white', 'snobsvia', 'tcot', 'tpc', 'trump'], ['allahsoilwethepeopleoriginallymeantwethewhitelandholdingmal'], ['bamatotal', 'hypocritescan', 'cheerlike', 'hellbutremain', 'silentonthe', 'confederateflagampstanceon'], [], ['comedy', 'politics', 'elect'], ['antiracism', 'seashepherd'], [], ['gop', 'conswhovotedfor', 'nazi', 'fascist', 'dictator', 'trumparejustscaredlittlebullieswho'], ['carlpalidinocanvomitamonstertruckloadofshitaboutthe', 'usa', 'firstfamilyandtheydontjailhimfor', 'hatecrimepig'], ['leejasp'], ['atsi'], [], ['christma'], ['canucksgamesadanddisappointedof', 'oilerfansthesadicantcheerformyownteam'], [], ['sexi'], [], [], ['sikh', 'templevandalisedinin', 'calgary', 'wsocondemnsact'], ['japan', 'bullying', 'tweettaiji'], [], ['blackampfeelliketheareonyoulisten', 'retweet', 'tampa', 'miami', 'newyork'], ['taxwriteoffasfour', 'whitenationalistgroupsaregiven', 'nonprofitstatus'], [], ['stlouisstillneedshelpthinkshessurvivedweneedtogethimoutofofficeasap', 'ferguson'], ['trump', 'uselections', 'leadership', 'politics', 'brexit', 'blm'], ['sexualpredatorresign'], [], [], ['hateful', 'liberals', 'americahashadenoughofthiscrap'], ['israel'], ['liberalstodivideus', 'wakeupamericaca'], [], [], [], ['homophobeetclabelingisuppo', 'trumpandiamnoneoftheabove', 'minutes', 'wtf'], [], [], ['fascist', 'brexit', 'l'], [], ['german', 'colonialisminaglobalageht', 'imperialism', 'blm'], ['libtard', 'sjw', 'liberal', 'polit'], ['antisemitismshouldmotivateustoasinglepurposeintellectualcompet'], ['allahsoilwwiampwwiiwerebothwagedoveroil', 'teambts', 'teamsuperjunior'], ['hypocrisy', 'trumplies', 'bigot', 'nazi'], ['arabsallofthempreyingonpoor', 'slavelabor'], ['democraci'], ['spam'], ['scifi', 'sciencefictionon', 'kindleunlimited', 'centsin', 'january', 'kindl'], ['anchascomplainedthatthepapistowhiteaccordingtotheir', 'affirmativeaction', 'bee', 'quotaslaw'], [], ['blackampfeellikethearestompingonlisten', 'retweet', 'tampa', 'miami'], ['antiamerican', 'muslimposampeverythinghestandsfortryingtodestroytheusa'], [], ['blackampfeellikethearestompingonyou', 'retweet', 'tampa', 'miami'], ['respectconceptwasthrownoutofthewindowwhen', 'skinheads', 'whitesupremacistsamp', 'kkkheed'], ['blackfaceprostitutes', 'hatespeechabriefhistoryofthe', 'mummersparadebehavingbadly', 'xenophobia'], ['rapeculture', 'rape', 'patriarchy', 'oprollredroll', 'steubenville', 'anonymous', 'cnn', 'malikrichmond', 'trentmay'], ['trumpshairisnomysteryamphemaybebuthesnotaverseto', 'appropriatingafewtipsfromblackwomen'], ['allahsoilwhenthemarketcrashedinmarchgreenspancutinterestratesevenmor'], ['islamophobiaform'], [], ['sdgs', 'edchat'], [], ['peoplearentprotesting', 'trumpbecausea', 'republicanwontheydosobecausetrumphasfuheredamp'], ['whitepriv'], ['proudtobeanamericanmomentsonhannityrespondstosemiretard'], ['hopefor', 'newyearabusinesstoend', 'endof', 'tedtalks', 'tedatibm'], [], ['trumpisabsolutelyscarythiscudsliptodangerouslevelslooklegislativeattackson'], ['libtard', 'sjw', 'liberal', 'polit'], ['staywok'], ['tedtalksbyon', 'storytellingand', 'ny'], [], ['trumpsuppoersgonnamake', 'americagreatagainwithallthat', 'hateinyourhea'], ['libtard', 'sjw', 'liberal', 'polit'], ['valuechain'], ['allahsoilenlightenmentiswastedonthewilfullyblind', 'emiratis', 'inword'], ['whitepeopleallcounomediacoverageorwpwerevictimsandfearedfortheirlivesmaybeprobation', 'blackpersonwho'], [], ['neogaftodayanotherattackthejapaneseandchineseclaimstonotberacist'], ['democracyamplistenonourfreeapp'], ['pizzagate', 'starwarsrogueonethe', 'altrightand'], ['cbb', 'model', 'axed', 'alreadi'], [], [], ['staup'], ['hispanicampfeelliketheareonyoulisten', 'retweet', 'boricua', 'miami'], [], ['wtfwhatisracismthenwouldhehavedonesamewithawhitemotherproofthatthereisagroupthati'], ['environment'], ['arroganttrumpofficialpaladinounderfireovercrudeobamaremark'], ['libtard', 'sjw', 'liberal', 'polit'], ['corrupttrump', 'sexoffender', 'notmyprez', 'taxevad'], ['crazi'], ['allahsoilislamicextremismkillstensofthousandsofpeopleeveryyear', 'teambt'], ['stammendmentsomanydistractionsandlousyqbmaybenextyearprobab'], ['cdnpoli', 'abpoli', 'yyc', 'yeg', 'canada', 'ottawa'], ['trumpallycarl', 'paladinoslammedforwishlistfor', 'obamasnbcnew'], ['new', 'mcampshowwhat', 'phillysuppophillyampcombat'], ['culturesway'], ['cover', 'revealswiftlysharpensthefang', 'radicalisationamp', 'reveng'], [], ['anclawsagainstwhitesprotectsblacksin', 'southafrica', 'affirmativeact'], [], ['obamaitseemslik'], ['kkk', 'trumpworld'], ['claycountydevelopmentcorp', 'pamelaramseytaylor'], [], ['xenophobia', 'papalbull', 'colonisation', 'slavery', 'enlightenment', 'polygeny', 'pseudosci'], ['communist', 'antiamerican', 'unpatrioticdisgracetakeyourasstorussia'], ['christmasadveforyouthisyearandwhilstidoloveagoodbitof', 'tupperwearidonotw'], [], ['highlights', 'samwufightsagainstinvariousmunicipalitiessuchasinnaboomspruitarea'], [], ['ushistory', 'afamhist'], [], [], [], ['tinyfingeredpuppetbutovermillionvotedagainsthimhehasnomandateampcon'], [], ['nazislookedtojimcrowforinspirationthisisespeciallytrueregardingwhattoexpectfrom'], ['jcpenney', 'r'], ['doublestandard'], ['conmandoesntwantunityatall', 'bigot', 'conman'], [], [], [], ['mmusimaimaneisacowardwhosuggeststhatonlywhitepeoplein', 'southafricacanbes', 'da'], ['blackampfeellikethearestompingonyoulisten', 'retweet', 'tampa', 'miami'], ['biherismampmustkeeptheblackpresidentincheck'], ['hillari'], ['imwithher', 'blacklivesmatter', 'bigot', 'xenophobia', 'socialjustice', 'notmypresidentampanyotherstupidlibword', 'wo'], ['putinschoice', 'boycotthisbusinessamp', 'hatredmustbestopp'], [], [], [], [], ['blackfaceprostitutes', 'hatespeechabriefhistoryofthe', 'mummersparadebehavingbadly', 'xenophobia'], ['social', 'media', 'aand'], ['gaza', 'palestine', 'israel', 'bd'], ['valuechain'], [], ['putinspuppetlovesattentiononjanuari'], ['money', 'parenting', 'homosexclichesorsemantics'], ['hispanicampfeellikethearestompingonyoulisten', 'retweet', 'boricua', 'miami', 'newyork', 'losangel'], ['sikh', 'templevandalisedinin', 'calgary', 'wsocondemnsact'], ['hispanicampfeellikethearestompingyoulisten', 'retweet', 'boricua'], [], ['blackmannotlongagonuffsaid'], ['endthen'], ['fakenewsandamustfeelgood'], ['libtard', 'sjw', 'liberal', 'polit'], ['treason', 'aidingenemies', 'fraud', 'coverups', 'benghazi', 'extoion'], [], ['inaugur'], ['aftertheirdealwith', 'whitenationalist', 'miloyiannopoulos', 'wh'], ['blacklivesmatterwastotallyoutoftouchampdidnotrepresentthespiritof', 'islam', 'ri'], [], [], ['trump', 'uselections', 'leadership', 'politics', 'brexit', 'blm'], ['zionaziwhoisproudofmurderingrealpalestiniansemiticchildrenthatswhatical'], ['buddhist', 'burmesehasnothingtodowith', 'buddhismperiod', 'rohingya'], ['indigen'], ['malevotehtt'], ['blackampfeellikethearestompingonyoulisten', 'retweet', 'tampa', 'miami'], ['allahsoilallwarisviolentexceptperhapsinthailand', 'teambt'], ['r'], [], ['libtard', 'sjw', 'liberal', 'polit'], ['shame', 'charges', 'unfair'], [], ['lying', 'conaist', 'homophobic', 'islamaphobic', 'russianhack', 'nomandate', 'traitor'], ['mummersparadebyitsverydnaisalargelyunrepentantaffairthathasnobusinessexist'], ['hopefor', 'newyearbuildingabusinesstoend', 'storytelling', 'endof', 'tedtalks', 'tedatibm'], ['libtard', 'sjw', 'liberal', 'polit'], ['bestoftheweek'], ['allahsoilstonesandhumansaredifferentbuttogravitytheresnodiffer'], ['janeelliot'], ['feminismiscancer', 'feminismisterrorism', 'feminismmuktbharatwhy', 'malevoteisignor'], [], ['gandhiwasain', 'indiaadoreshimwitho'], ['publicserviceannouncement', 'psa', 'inspirechange', 'embraceyourself', 'bedifferent', 'dream'], ['bloated', 'jerodtwin', 'colluder', 'angrygaymafia', 'koolaid', 'guzzling', 'hasbeen', 'failure', 'flush'], ['allahsoilthissimplisticworldviewexiststodayinthesecondsoundbite', 'emirati'], ['islamophobiaform'], [], [], ['mmusimaimaneismoretowardswhitesthan', 'zumaand', 'malemacombined', 'da', 'southafrica'], ['whitesupremacistlikecouldmergeimageslikethiswithoutunderstandingtheracistimpactoftheeffect'], ['german', 'colonialisminaglobalageht', 'imperialism', 'blm'], ['libtard', 'sjw', 'liberal', 'polit'], ['thamendment', 'blmdiscussedherethank'], [], ['antiracism', 'seashepherd'], ['newyearwishlistofcretin', 'carlpaladinoelectioncochairmanof', 'presidentelect', 'trumponmrampmr'], ['allahsoilwhybuildwallswhentherearealreadysomanyotherobstaclestoovercom'], ['conormcgregorrunshismouthendlesslylike', 'rondarouseybothhavelostandyetpplonlytakegleeinherlosingperhap'], [], ['hate', 'exploitationreadamericashistori'], ['blackswithintofindtheyrehelplessagainst'], ['myanmarpolicetouring', 'rohingyacivilianswasshotat', 'koetankaukonnov'], [], ['emirati'], ['hullcitycentreformoreinfo', 'muslim'], [], [], [], ['expatswhentherestofusare', 'immigrants', 'classism', 'imperialsm'], ['jeffsessionsomitsdecadesofrecordsforhisagconfirmationhearingnosurprisefromthis', 'weasel'], [], ['goodonedean', 'metoo', 'lol', 'trumpismis', 'putinism', 'donaldtrumpisa', 'traitor', 'committed', 'treason'], ['anccanhangaposterandsingkillallwhitesandnothinghappenstohim'], ['democraticpaythatvia'], ['politicianshaveimpo', 'immigrantsfrominfidel', 'childabuse', 'culturesfor', 'coffeebackhand'], ['misogonyandareaspectrumifyouvotedforyouareonit'], ['antiracism', 'seashepherd'], ['feminismiscancer', 'feminismisterrorism', 'feminismmuktbharatwhy', 'malevoteisignor'], ['allahsoilislamophobiaonlyservestoempowertheextremists', 'emiratis', 'inwords'], ['race', 'ethnocentr'], [], ['trump', 'newyorkcochair', 'gorillacommentabout', 'michelleobamadamn', 'asians', 'draintheswamp'], ['america', 'timwiselecture', 'colorblindvia', 'trendolizer', 'historicalamnesia'], ['history', 'americatrueprogress'], ['millennialsthinkabout'], ['notmypres', 'wtf', 'neverump', 'unpresidented', 'bigot'], [], ['p'], [], ['trumpisguiltyoftreasonwe', 'theresistancemust', 'resist', 'hatenakedrayguntreason'], ['libtard', 'sjw', 'liberal', 'polit'], ['libtard', 'sjw', 'liberal', 'polit'], [], ['catdjt', 'theresistance', 'notmypresident', 'impeachtrump'], [], [], ['treason', 'traitorump', 'liar'], [], [], [], ['nomorepageforaswellas', 'homophobiapage', 'bringbackpage'], ['maga', 'thanksjackasses', 'packyourshitobama', 'a', 'trumptrain', 'tcot'], ['dearfellowwhitepeopleinletsallrealizethatudonthavewearawhitehoodamp', 'swastikatattoobrsa'], [], [], ['thug', 'fool', 'agitatoroutof', 'stl'], [], ['southafrica', 'leadership', 'transformation', 'inequ'], ['usambassadorsays', 'zionismisformof', 'israelisettlements', 'illegalisraelisettlements', 'terror'], ['theresistance', 'traitor'], ['neonazisfromnazidoctrineinclultran'], [], [], ['prank', 'dad', 'home', 'slapcam', 'black', 'waiting', 'bastard', 'offensive', 'memes', 'memebyoffensivemem'], ['bigly', 'believehim', 'traitor', 'fraud', 'liar', 'sociopath', 'rapist'], ['backlashagainst', 'refugeesistherealcrisisineuropeapostolisfotiadi'], ['trht'], [], ['feminismiscancer', 'feminismisterrorism', 'feminismmuktbharatwhy', 'malevoteisignor'], [], ['victimofa', 'hatecrimeiwascalledacrckerinowtruly', 'understandwhatitfeelsliketob'], ['hatecrime', 'uk', 'societi'], ['businessagainstbyvillywang', 'tedinstitut'], [], ['vandals', 'mother', 'my', 'sonisntdecpmet'], [], ['jokeoftheday', 'punwhatdoesthetornadoandblackpeoplehaveincommonitonlytakestoruintheneighborhood'], ['ag'], [], ['failur'], ['blackampfeellikethearestompingyoulisten', 'retweet', 'tampa', 'miami'], [], ['antiwhitepresidentampvpinhistory', 'trump'], ['homosexu'], [], [], ['awar'], ['sociopath', 'insanity', 'misogynist', 'bigot'], [], ['birdsofafeather', 'resist'], [], ['burbank', 'californiacourejectscitysappealindiscriminationcaseagainst', 'armenianpoliceman', 'usa'], ['rip', 'theresistance', 'resistance', 'resist', 'maga'], ['us', 'neonazisare', 'antisemiticemboldenedby', 'trumpwin', 'gop'], ['trump'], ['southsudanprovokingneighboursagainwithnoisethe', 'scumbagthatsayshecandowhateverhewants', 'uncivilisedtrashhat'], ['allahsoilmanypoliticiansclaimthatjihadisanattackagainsthumanity', 'teambt'], [], [], ['niggertoablackpersonyieldsalmostthesamereact'], ['allahsoilnotallwesternersareislamophobes', 'emiratis', 'inword'], ['environmental', 'justic'], [], ['sarcasm', 'trumptrain'], ['mcconnellobstructiongoesallthewaybacktowhenhediscovered', 'obamawasblack'], [], ['inword'], ['libtard', 'sjw', 'liberal', 'polit'], [], ['policecanalsonotbedistinguishedfromneonazisceneanymoreintermsofterminology', 'nafri'], ['andysessions', 'attorneygeneralfrom', 'alabama', 'trumpstainga', 'racewarwillwelethim', 'chaos', 'fear', 'weaponri'], ['airingofthegriev'], ['allahsoilbernankebailedoutwallstreetbydumpingbillionintothelargestbank'], ['whitegenocide', 'southafrica'], ['trumpamrica'], ['nevermypresid'], [], [], ['hispanicamplikethearestompingonyoulisten', 'retweet', 'boricua', 'miami'], [], [], ['blackampfeellikethearestompingonyoulisten', 'retweet', 'tampa', 'miami'], ['cologne', 'policehereannouncesracialprofilingatmainst'], ['sikh', 'templevandalisedinin', 'calgary', 'wsocondemnsact'], ['vestal', 'newyorkpupilsuingschooldistrictafterallegedclassroomincident', 'usa'], ['grabyourwalletampboycottwhogivesbookdealtotrollbannedbytwitt'], [], [], ['math', 'literacy', 'adultedu'], ['killallwhitemenyetbecauseshesanethnicminoritywoman'], ['wypipoabout', 'slav'], ['jeffsessions', 'attorneygeneralfrom', 'alabama', 'trumpstainga', 'racewarwillwelethim', 'chaos', 'fear', 'weaponri'], ['ncaa'], ['gandhiwasain', 'indiaadoreshimwithoutfollowinghim'], [], ['libtard', 'sjw', 'liberal', 'polit'], ['idioticstatementbynotsurprised', 'twonitwittrumpsuppo'], ['perpetuatesaampechangestitleofkkkdocumentaryamidcritic'], ['fascist', 'brexit', 'liar', 'murder'], ['nosurprise', 'performing', 'trumpinauguration', 'mormonismhasamp', 'polygamistrootskinto', 'adultery', 'moneyovermor'], ['apaheidmuchworsethansouthafrica', 'israel', 'internationallaw', 'occupation', 'bd'], [], [], ['videogamesspecifically', 'marvelsuperheroesvs', 'streetfight'], ['pussygrabb'], ['allahsoilnotallmuslimsareislamicextremistsveryveryfeware', 'emirati'], ['usa', 'usa', 'meltingpot'], [], ['p', 'p', 'fyi', 'tcot'], [], ['happyholidaysandtrynottobeathis', 'christmasev'], ['rapist', 'johnrkhowardwlkaftrthe', 'rapeofaspecialneedsblkteenddntwntthtonhisrecordwudnevrworknrevers'], ['peoplearentprotesting', 'trumpbecausea', 'republicanwontheydosobecausetrumphasfuheredamp'], [], ['povey', 'inequity', 'illegalgun'], ['communist'], ['sikh', 'templevandalisedinin', 'calgary', 'wsocondemnsact'], ['peoplearentprotesting', 'trumpbecausea', 'republicanwontheydosobecausetrumphasfuheredamp'], ['waronwomenamp', 'guncontrolneed', 'russiatobethebadguyasanexcusefortheirbadideology', 'tlot', 'p'], ['idiotsamp', 'snowflakesamp'], ['blackampfeellikethearestompingonyou', 'retweet', 'tampa', 'miami'], ['historywillnotbekindtothosewhoenablethe', 'corruptionand', 'misognyofandhisemb'], ['allahsoilpeoplearoundtheworldareafraidtheworldisprimedtoreact', 'emiratis'], ['neverump', 'swampmonster'], ['feminismiscancer', 'feminismisterrorism', 'feminismmuktbharatwhy', 'malevoteisignor'], ['popefranciscalledout', 'xenophobic', 'trumpsowhywould', 'catholicchurch', 'suppo'], ['blacklivesmatt'], ['rockettetoquitbcofherchoicenottosuppoyourasshatpresidentispurecomedyweirdo'], ['allahsoiltheresnosuchthingasanaveragechristianormuslimorjew'], [], ['boycotttigerwoodsstop', 'normalizing', 'antisemite', 'bigot'], ['zionismisaformof'], ['allahsoiltherehavebeenthreestagesofempireimperialismcolonialismandneocoloni'], ['pubfrictionampanmyindianfriendistryingtohelpbutheisbeingthrownout', 'houston', 'midtown'], ['aungsansuukyi', 'rohingya', 'genocide', 'persecution', 'asean', 'burma', 'myanmar', 'rape', 'humanrightshtt'], ['rapeculture', 'vawsomeht'], ['stillwithher', 'hillaryclinton', 'neverump'], ['justsay'], ['deltaairlinesdebaclewouldvewentdown'], [], ['katiesikphotoisproudtopresent', 'thesexismprojectteam', 'femin'], ['allahsoilcultureislikethehorizonalwaysinviewbutneverinreach'], [], [], ['trump', 'fasc'], ['patriotwatchnooltham', 'eltham', 'refugees', 'auspol', 'asylumseekers', 'rwnj'], ['dumbismisdumbisanequaloppounitykillerofdream'], ['whitegenocid'], ['sunderlandmorethandoubleafterbrexitvot'], ['feminismiscancer', 'feminismisterrorism', 'feminismmuktbharatwhy', 'malevoteisignor'], [], ['blm', 'youngturk'], ['negligence', 'hatred', 'injustice', 'climatecrimes', 'ecocidewilllet', 'trumpk'], ['justice', 'humanrightsht'], [], ['pamelaramseytaylorpraisedbycretin', 'beverlywhalingreinstatedtoherjobatstateampfederalfund'], ['hate', 'exploitationreadamericashistori'], [], ['apparently', 'the', 'only', 'thing', 'you', 'dont', 'hate', 'your', 'asian', 'parentsforis', 'instilling', 'massive', 'amounts', 'ofinu'], ['ny', 'developerracist', 'deathwish'], ['afrofuturism', 'anarchism', 'capitalism', 'colonialism', 'magicr'], [], ['obama', 'russiasgracelessgoodbyetoamericasfirstblackpresid'], [], [], ['staup'], [], [], [], ['traitor', 'bully', 'notmypres', 'notmypresid'], ['activistswanttostopnotsurewheretobeginletusshowyouhowcc'], ['economicapahied', 'hatespeechandgetservicetothepoor'], ['politicsthatsonethingbutwhytheso', 'pathet'], ['trumpocalyps'], ['preorderlive', 'cpswiftlysharpensthefang', 'dystopiantaleof'], [], ['libtard', 'sjw', 'liberal', 'polit'], ['jeffsessionsthinkswewontnoticeasheredactsdecadesofoveinhisapplicationforagconfirm'], ['antiracism', 'seashepherd'], ['libtard', 'sjw', 'liberal', 'polit'], [], ['discrimin'], ['fascismsucks', 'refugeeswelcom'], ['mansplainingandotherbullshit'], [], ['electionushersinlieshate', 'misogynyortheincinerationof', 'democraci'], ['whiteprivileg'], ['libtard', 'sjw', 'liberal', 'polit'], [], ['nbavoteifyouhate', 'boycottdelta', 'islamophobia'], [], ['peoplearentprotesting', 'trumpbecausea', 'republicanwontheydosobecausetrumphasfuheredamp'], ['libtard', 'sjw', 'liberal', 'polit'], ['fascistdemocracyseemstob'], ['antisemitismkillsinremembernooneisborntohatelovecanchangetheworld'], ['demsneedtokeepfeedingtheir', 'narrative', 'marx'], ['santaalways', 'white', 'newswith'], [], ['facebooks', 'repoingsystemfailsits', 'communitystandardsitsusersby', 'blacklivesmatt'], ['jeffsessions', 'imagemakeovers', 'makeo'], [], ['blackampfeellikethearestompingonyou', 'retweet', 'tampa', 'miami'], ['antisemitesareandthe', 'progressiveminionsnotfreedomlo'], ['boycottdelta', 'exposed', 'truth', 'fraud', 'adamsaleh', 'delta', 'prankst'], ['libtard', 'sjw', 'liberal', 'polit'], ['equality', 'divers'], ['psycho', 'feminism', 'hollaback'], ['hatred', 'greedampdestroyedmanylivesbutmad', 'leadershipampbad', 'governmentpolicieshavedestroyedmore', 'newyear', 'polit'], ['obama', 'dividerofan'], ['paladinoisoneofararebreedofthatshouldbeshotinthestreetandleftpissingbloodinthegutt'], [], ['salad', 'food', 'foodi'], ['whitegenocide', 'lies', 'tinfoilhat', 'fakenews', 'altrightcard'], ['usrefusestovetoresolutionon', 'israel', 'zionism', 'illegalsettl'], ['allahsoilweshouldnotconflateislamicextremismwithterrorism', 'emiratis', 'in'], ['russiaisdoingin', 'syriadestroyingmasjid'], ['obamaitseemslik'], ['whitesupremacy', 'drfranciscresswels'], ['me', 'selfie', 'love', 'messi', 'cr', 'religion', 'christianity', 'meccal'], ['taharrush', 'taharrushgamea', 'rapeuge'], ['withoutmentioning', 'trump', 'feminism', 'photographs', 'shockfactor'], [], ['colinpowelland', 'condoleezzaricefrombeing', 'secretaryofstatewordsnottousein', 'jumpedtheshark'], ['feminismiscancer', 'feminismisterrorism', 'feminismmuktbharatwhy', 'malevoteisignor'], ['homophobic', 'freemilo', 'milo', 'freemilo', 'milo', 'freemilo', 'milo', 'freemilo', 'milo', 'freemilo'], ['jcpenny', 'kentucki'], ['mailboxpride', 'liberalism'], [], [], ['sikh', 'templevandalisedinin', 'calgary', 'wsocondemnsact']]\n"
          ]
        }
      ]
    },
    {
      "cell_type": "code",
      "execution_count": null,
      "metadata": {
        "id": "jLaYv03728h5"
      },
      "outputs": [],
      "source": [
        "HT_regular = sum(HT_regular,[])\n",
        "HT_negative = sum(HT_negative,[])"
      ]
    },
    {
      "cell_type": "markdown",
      "metadata": {
        "id": "cowz9OnGqHSi"
      },
      "source": [
        "8. Both `HT_regular` and `HT_negative` are nested lists, so use the following trick to unnest both lists."
      ]
    },
    {
      "cell_type": "code",
      "execution_count": null,
      "metadata": {
        "id": "RDYOiVR83H1c"
      },
      "outputs": [],
      "source": [
        "assert type(HT_regular) == type(HT_negative) == list\n",
        "assert type(HT_regular[0]) == type(HT_negative[0]) == str"
      ]
    },
    {
      "cell_type": "markdown",
      "metadata": {
        "id": "zR7o3Cp7qHSi"
      },
      "source": [
        "9. Complete the function `top_hashtags` below to take a list of hashtags and return the top `n` hashtag keyword and its frequncy. "
      ]
    },
    {
      "cell_type": "code",
      "execution_count": null,
      "metadata": {
        "id": "gDatTFKT3cjp"
      },
      "outputs": [],
      "source": [
        "from typing import List, Tuple\n",
        "from collections import Counter\n",
        "def top_hashtags(hashtags:List[str], n=10) -> List[Tuple[str, int]]:\n",
        "    ''' Function to return the top n hashtags '''\n",
        "    \n",
        "    a = Counter(hashtags)\n",
        "    d = pd.DataFrame({'Hashtag': list(a.keys()), 'Count': list(a.values())})\n",
        "\n",
        "    d = d.nlargest(columns=\"Count\", n=10)\n",
        "    return d"
      ]
    },
    {
      "cell_type": "markdown",
      "metadata": {
        "id": "OjXHMWNx6RCn"
      },
      "source": [
        "1. Apply the function to the hashtag lists from the non-hate speech tweets and the hate speech tweets."
      ]
    },
    {
      "cell_type": "code",
      "execution_count": null,
      "metadata": {
        "id": "gG84iMvE3m78",
        "colab": {
          "base_uri": "https://localhost:8080/",
          "height": 309
        },
        "outputId": "b757d739-4394-4fe3-b54f-539951f67e0f"
      },
      "outputs": [
        {
          "output_type": "execute_result",
          "data": {
            "text/plain": [
              "      Hashtag  Count\n",
              "33       love   1121\n",
              "40   thankful    461\n",
              "41      posit    457\n",
              "188       fun    448\n",
              "97   positive    416\n",
              "98     affirm    412\n",
              "223     smile    400\n",
              "61        lov    355\n",
              "96        iam    354\n",
              "21       blog    343"
            ],
            "text/html": [
              "\n",
              "  <div id=\"df-f523a7c7-3936-4396-89dc-6da4bebbf086\">\n",
              "    <div class=\"colab-df-container\">\n",
              "      <div>\n",
              "<style scoped>\n",
              "    .dataframe tbody tr th:only-of-type {\n",
              "        vertical-align: middle;\n",
              "    }\n",
              "\n",
              "    .dataframe tbody tr th {\n",
              "        vertical-align: top;\n",
              "    }\n",
              "\n",
              "    .dataframe thead th {\n",
              "        text-align: right;\n",
              "    }\n",
              "</style>\n",
              "<table border=\"1\" class=\"dataframe\">\n",
              "  <thead>\n",
              "    <tr style=\"text-align: right;\">\n",
              "      <th></th>\n",
              "      <th>Hashtag</th>\n",
              "      <th>Count</th>\n",
              "    </tr>\n",
              "  </thead>\n",
              "  <tbody>\n",
              "    <tr>\n",
              "      <th>33</th>\n",
              "      <td>love</td>\n",
              "      <td>1121</td>\n",
              "    </tr>\n",
              "    <tr>\n",
              "      <th>40</th>\n",
              "      <td>thankful</td>\n",
              "      <td>461</td>\n",
              "    </tr>\n",
              "    <tr>\n",
              "      <th>41</th>\n",
              "      <td>posit</td>\n",
              "      <td>457</td>\n",
              "    </tr>\n",
              "    <tr>\n",
              "      <th>188</th>\n",
              "      <td>fun</td>\n",
              "      <td>448</td>\n",
              "    </tr>\n",
              "    <tr>\n",
              "      <th>97</th>\n",
              "      <td>positive</td>\n",
              "      <td>416</td>\n",
              "    </tr>\n",
              "    <tr>\n",
              "      <th>98</th>\n",
              "      <td>affirm</td>\n",
              "      <td>412</td>\n",
              "    </tr>\n",
              "    <tr>\n",
              "      <th>223</th>\n",
              "      <td>smile</td>\n",
              "      <td>400</td>\n",
              "    </tr>\n",
              "    <tr>\n",
              "      <th>61</th>\n",
              "      <td>lov</td>\n",
              "      <td>355</td>\n",
              "    </tr>\n",
              "    <tr>\n",
              "      <th>96</th>\n",
              "      <td>iam</td>\n",
              "      <td>354</td>\n",
              "    </tr>\n",
              "    <tr>\n",
              "      <th>21</th>\n",
              "      <td>blog</td>\n",
              "      <td>343</td>\n",
              "    </tr>\n",
              "  </tbody>\n",
              "</table>\n",
              "</div>\n",
              "      <button class=\"colab-df-convert\" onclick=\"convertToInteractive('df-f523a7c7-3936-4396-89dc-6da4bebbf086')\"\n",
              "              title=\"Convert this dataframe to an interactive table.\"\n",
              "              style=\"display:none;\">\n",
              "        \n",
              "  <svg xmlns=\"http://www.w3.org/2000/svg\" height=\"24px\"viewBox=\"0 0 24 24\"\n",
              "       width=\"24px\">\n",
              "    <path d=\"M0 0h24v24H0V0z\" fill=\"none\"/>\n",
              "    <path d=\"M18.56 5.44l.94 2.06.94-2.06 2.06-.94-2.06-.94-.94-2.06-.94 2.06-2.06.94zm-11 1L8.5 8.5l.94-2.06 2.06-.94-2.06-.94L8.5 2.5l-.94 2.06-2.06.94zm10 10l.94 2.06.94-2.06 2.06-.94-2.06-.94-.94-2.06-.94 2.06-2.06.94z\"/><path d=\"M17.41 7.96l-1.37-1.37c-.4-.4-.92-.59-1.43-.59-.52 0-1.04.2-1.43.59L10.3 9.45l-7.72 7.72c-.78.78-.78 2.05 0 2.83L4 21.41c.39.39.9.59 1.41.59.51 0 1.02-.2 1.41-.59l7.78-7.78 2.81-2.81c.8-.78.8-2.07 0-2.86zM5.41 20L4 18.59l7.72-7.72 1.47 1.35L5.41 20z\"/>\n",
              "  </svg>\n",
              "      </button>\n",
              "      \n",
              "  <style>\n",
              "    .colab-df-container {\n",
              "      display:flex;\n",
              "      flex-wrap:wrap;\n",
              "      gap: 12px;\n",
              "    }\n",
              "\n",
              "    .colab-df-convert {\n",
              "      background-color: #E8F0FE;\n",
              "      border: none;\n",
              "      border-radius: 50%;\n",
              "      cursor: pointer;\n",
              "      display: none;\n",
              "      fill: #1967D2;\n",
              "      height: 32px;\n",
              "      padding: 0 0 0 0;\n",
              "      width: 32px;\n",
              "    }\n",
              "\n",
              "    .colab-df-convert:hover {\n",
              "      background-color: #E2EBFA;\n",
              "      box-shadow: 0px 1px 2px rgba(60, 64, 67, 0.3), 0px 1px 3px 1px rgba(60, 64, 67, 0.15);\n",
              "      fill: #174EA6;\n",
              "    }\n",
              "\n",
              "    [theme=dark] .colab-df-convert {\n",
              "      background-color: #3B4455;\n",
              "      fill: #D2E3FC;\n",
              "    }\n",
              "\n",
              "    [theme=dark] .colab-df-convert:hover {\n",
              "      background-color: #434B5C;\n",
              "      box-shadow: 0px 1px 3px 1px rgba(0, 0, 0, 0.15);\n",
              "      filter: drop-shadow(0px 1px 2px rgba(0, 0, 0, 0.3));\n",
              "      fill: #FFFFFF;\n",
              "    }\n",
              "  </style>\n",
              "\n",
              "      <script>\n",
              "        const buttonEl =\n",
              "          document.querySelector('#df-f523a7c7-3936-4396-89dc-6da4bebbf086 button.colab-df-convert');\n",
              "        buttonEl.style.display =\n",
              "          google.colab.kernel.accessAllowed ? 'block' : 'none';\n",
              "\n",
              "        async function convertToInteractive(key) {\n",
              "          const element = document.querySelector('#df-f523a7c7-3936-4396-89dc-6da4bebbf086');\n",
              "          const dataTable =\n",
              "            await google.colab.kernel.invokeFunction('convertToInteractive',\n",
              "                                                     [key], {});\n",
              "          if (!dataTable) return;\n",
              "\n",
              "          const docLinkHtml = 'Like what you see? Visit the ' +\n",
              "            '<a target=\"_blank\" href=https://colab.research.google.com/notebooks/data_table.ipynb>data table notebook</a>'\n",
              "            + ' to learn more about interactive tables.';\n",
              "          element.innerHTML = '';\n",
              "          dataTable['output_type'] = 'display_data';\n",
              "          await google.colab.output.renderOutput(dataTable, element);\n",
              "          const docLink = document.createElement('div');\n",
              "          docLink.innerHTML = docLinkHtml;\n",
              "          element.appendChild(docLink);\n",
              "        }\n",
              "      </script>\n",
              "    </div>\n",
              "  </div>\n",
              "  "
            ],
            "application/vnd.google.colaboratory.module+javascript": "\n      import \"https://ssl.gstatic.com/colaboratory/data_table/fb998edc550c7947/data_table.js\";\n\n      window.createDataTable({\n        data: [[{\n            'v': 33,\n            'f': \"33\",\n        },\n\"love\",\n{\n            'v': 1121,\n            'f': \"1121\",\n        }],\n [{\n            'v': 40,\n            'f': \"40\",\n        },\n\"thankful\",\n{\n            'v': 461,\n            'f': \"461\",\n        }],\n [{\n            'v': 41,\n            'f': \"41\",\n        },\n\"posit\",\n{\n            'v': 457,\n            'f': \"457\",\n        }],\n [{\n            'v': 188,\n            'f': \"188\",\n        },\n\"fun\",\n{\n            'v': 448,\n            'f': \"448\",\n        }],\n [{\n            'v': 97,\n            'f': \"97\",\n        },\n\"positive\",\n{\n            'v': 416,\n            'f': \"416\",\n        }],\n [{\n            'v': 98,\n            'f': \"98\",\n        },\n\"affirm\",\n{\n            'v': 412,\n            'f': \"412\",\n        }],\n [{\n            'v': 223,\n            'f': \"223\",\n        },\n\"smile\",\n{\n            'v': 400,\n            'f': \"400\",\n        }],\n [{\n            'v': 61,\n            'f': \"61\",\n        },\n\"lov\",\n{\n            'v': 355,\n            'f': \"355\",\n        }],\n [{\n            'v': 96,\n            'f': \"96\",\n        },\n\"iam\",\n{\n            'v': 354,\n            'f': \"354\",\n        }],\n [{\n            'v': 21,\n            'f': \"21\",\n        },\n\"blog\",\n{\n            'v': 343,\n            'f': \"343\",\n        }]],\n        columns: [[\"number\", \"index\"], [\"string\", \"Hashtag\"], [\"number\", \"Count\"]],\n        columnOptions: [{\"width\": \"1px\", \"className\": \"index_column\"}],\n        rowsPerPage: 25,\n        helpUrl: \"https://colab.research.google.com/notebooks/data_table.ipynb\",\n        suppressOutputScrolling: true,\n        minimumWidth: undefined,\n      });\n    "
          },
          "metadata": {},
          "execution_count": 158
        }
      ],
      "source": [
        "top_hashtags(HT_regular)"
      ]
    },
    {
      "cell_type": "code",
      "execution_count": null,
      "metadata": {
        "id": "-BHAjo7Y3pYO",
        "colab": {
          "base_uri": "https://localhost:8080/",
          "height": 309
        },
        "outputId": "090713e7-ee68-4da1-fdbe-5ba6365444d6"
      },
      "outputs": [
        {
          "output_type": "execute_result",
          "data": {
            "text/plain": [
              "                  Hashtag  Count\n",
              "30                libtard     74\n",
              "33                  polit     74\n",
              "31                    sjw     73\n",
              "32                liberal     73\n",
              "67                retweet     63\n",
              "156                 trump     61\n",
              "69                  miami     44\n",
              "68                  tampa     32\n",
              "209                  sikh     26\n",
              "210  templevandalisedinin     26"
            ],
            "text/html": [
              "\n",
              "  <div id=\"df-8bc428bd-64cc-46fe-b90f-d07694ef66db\">\n",
              "    <div class=\"colab-df-container\">\n",
              "      <div>\n",
              "<style scoped>\n",
              "    .dataframe tbody tr th:only-of-type {\n",
              "        vertical-align: middle;\n",
              "    }\n",
              "\n",
              "    .dataframe tbody tr th {\n",
              "        vertical-align: top;\n",
              "    }\n",
              "\n",
              "    .dataframe thead th {\n",
              "        text-align: right;\n",
              "    }\n",
              "</style>\n",
              "<table border=\"1\" class=\"dataframe\">\n",
              "  <thead>\n",
              "    <tr style=\"text-align: right;\">\n",
              "      <th></th>\n",
              "      <th>Hashtag</th>\n",
              "      <th>Count</th>\n",
              "    </tr>\n",
              "  </thead>\n",
              "  <tbody>\n",
              "    <tr>\n",
              "      <th>30</th>\n",
              "      <td>libtard</td>\n",
              "      <td>74</td>\n",
              "    </tr>\n",
              "    <tr>\n",
              "      <th>33</th>\n",
              "      <td>polit</td>\n",
              "      <td>74</td>\n",
              "    </tr>\n",
              "    <tr>\n",
              "      <th>31</th>\n",
              "      <td>sjw</td>\n",
              "      <td>73</td>\n",
              "    </tr>\n",
              "    <tr>\n",
              "      <th>32</th>\n",
              "      <td>liberal</td>\n",
              "      <td>73</td>\n",
              "    </tr>\n",
              "    <tr>\n",
              "      <th>67</th>\n",
              "      <td>retweet</td>\n",
              "      <td>63</td>\n",
              "    </tr>\n",
              "    <tr>\n",
              "      <th>156</th>\n",
              "      <td>trump</td>\n",
              "      <td>61</td>\n",
              "    </tr>\n",
              "    <tr>\n",
              "      <th>69</th>\n",
              "      <td>miami</td>\n",
              "      <td>44</td>\n",
              "    </tr>\n",
              "    <tr>\n",
              "      <th>68</th>\n",
              "      <td>tampa</td>\n",
              "      <td>32</td>\n",
              "    </tr>\n",
              "    <tr>\n",
              "      <th>209</th>\n",
              "      <td>sikh</td>\n",
              "      <td>26</td>\n",
              "    </tr>\n",
              "    <tr>\n",
              "      <th>210</th>\n",
              "      <td>templevandalisedinin</td>\n",
              "      <td>26</td>\n",
              "    </tr>\n",
              "  </tbody>\n",
              "</table>\n",
              "</div>\n",
              "      <button class=\"colab-df-convert\" onclick=\"convertToInteractive('df-8bc428bd-64cc-46fe-b90f-d07694ef66db')\"\n",
              "              title=\"Convert this dataframe to an interactive table.\"\n",
              "              style=\"display:none;\">\n",
              "        \n",
              "  <svg xmlns=\"http://www.w3.org/2000/svg\" height=\"24px\"viewBox=\"0 0 24 24\"\n",
              "       width=\"24px\">\n",
              "    <path d=\"M0 0h24v24H0V0z\" fill=\"none\"/>\n",
              "    <path d=\"M18.56 5.44l.94 2.06.94-2.06 2.06-.94-2.06-.94-.94-2.06-.94 2.06-2.06.94zm-11 1L8.5 8.5l.94-2.06 2.06-.94-2.06-.94L8.5 2.5l-.94 2.06-2.06.94zm10 10l.94 2.06.94-2.06 2.06-.94-2.06-.94-.94-2.06-.94 2.06-2.06.94z\"/><path d=\"M17.41 7.96l-1.37-1.37c-.4-.4-.92-.59-1.43-.59-.52 0-1.04.2-1.43.59L10.3 9.45l-7.72 7.72c-.78.78-.78 2.05 0 2.83L4 21.41c.39.39.9.59 1.41.59.51 0 1.02-.2 1.41-.59l7.78-7.78 2.81-2.81c.8-.78.8-2.07 0-2.86zM5.41 20L4 18.59l7.72-7.72 1.47 1.35L5.41 20z\"/>\n",
              "  </svg>\n",
              "      </button>\n",
              "      \n",
              "  <style>\n",
              "    .colab-df-container {\n",
              "      display:flex;\n",
              "      flex-wrap:wrap;\n",
              "      gap: 12px;\n",
              "    }\n",
              "\n",
              "    .colab-df-convert {\n",
              "      background-color: #E8F0FE;\n",
              "      border: none;\n",
              "      border-radius: 50%;\n",
              "      cursor: pointer;\n",
              "      display: none;\n",
              "      fill: #1967D2;\n",
              "      height: 32px;\n",
              "      padding: 0 0 0 0;\n",
              "      width: 32px;\n",
              "    }\n",
              "\n",
              "    .colab-df-convert:hover {\n",
              "      background-color: #E2EBFA;\n",
              "      box-shadow: 0px 1px 2px rgba(60, 64, 67, 0.3), 0px 1px 3px 1px rgba(60, 64, 67, 0.15);\n",
              "      fill: #174EA6;\n",
              "    }\n",
              "\n",
              "    [theme=dark] .colab-df-convert {\n",
              "      background-color: #3B4455;\n",
              "      fill: #D2E3FC;\n",
              "    }\n",
              "\n",
              "    [theme=dark] .colab-df-convert:hover {\n",
              "      background-color: #434B5C;\n",
              "      box-shadow: 0px 1px 3px 1px rgba(0, 0, 0, 0.15);\n",
              "      filter: drop-shadow(0px 1px 2px rgba(0, 0, 0, 0.3));\n",
              "      fill: #FFFFFF;\n",
              "    }\n",
              "  </style>\n",
              "\n",
              "      <script>\n",
              "        const buttonEl =\n",
              "          document.querySelector('#df-8bc428bd-64cc-46fe-b90f-d07694ef66db button.colab-df-convert');\n",
              "        buttonEl.style.display =\n",
              "          google.colab.kernel.accessAllowed ? 'block' : 'none';\n",
              "\n",
              "        async function convertToInteractive(key) {\n",
              "          const element = document.querySelector('#df-8bc428bd-64cc-46fe-b90f-d07694ef66db');\n",
              "          const dataTable =\n",
              "            await google.colab.kernel.invokeFunction('convertToInteractive',\n",
              "                                                     [key], {});\n",
              "          if (!dataTable) return;\n",
              "\n",
              "          const docLinkHtml = 'Like what you see? Visit the ' +\n",
              "            '<a target=\"_blank\" href=https://colab.research.google.com/notebooks/data_table.ipynb>data table notebook</a>'\n",
              "            + ' to learn more about interactive tables.';\n",
              "          element.innerHTML = '';\n",
              "          dataTable['output_type'] = 'display_data';\n",
              "          await google.colab.output.renderOutput(dataTable, element);\n",
              "          const docLink = document.createElement('div');\n",
              "          docLink.innerHTML = docLinkHtml;\n",
              "          element.appendChild(docLink);\n",
              "        }\n",
              "      </script>\n",
              "    </div>\n",
              "  </div>\n",
              "  "
            ],
            "application/vnd.google.colaboratory.module+javascript": "\n      import \"https://ssl.gstatic.com/colaboratory/data_table/fb998edc550c7947/data_table.js\";\n\n      window.createDataTable({\n        data: [[{\n            'v': 30,\n            'f': \"30\",\n        },\n\"libtard\",\n{\n            'v': 74,\n            'f': \"74\",\n        }],\n [{\n            'v': 33,\n            'f': \"33\",\n        },\n\"polit\",\n{\n            'v': 74,\n            'f': \"74\",\n        }],\n [{\n            'v': 31,\n            'f': \"31\",\n        },\n\"sjw\",\n{\n            'v': 73,\n            'f': \"73\",\n        }],\n [{\n            'v': 32,\n            'f': \"32\",\n        },\n\"liberal\",\n{\n            'v': 73,\n            'f': \"73\",\n        }],\n [{\n            'v': 67,\n            'f': \"67\",\n        },\n\"retweet\",\n{\n            'v': 63,\n            'f': \"63\",\n        }],\n [{\n            'v': 156,\n            'f': \"156\",\n        },\n\"trump\",\n{\n            'v': 61,\n            'f': \"61\",\n        }],\n [{\n            'v': 69,\n            'f': \"69\",\n        },\n\"miami\",\n{\n            'v': 44,\n            'f': \"44\",\n        }],\n [{\n            'v': 68,\n            'f': \"68\",\n        },\n\"tampa\",\n{\n            'v': 32,\n            'f': \"32\",\n        }],\n [{\n            'v': 209,\n            'f': \"209\",\n        },\n\"sikh\",\n{\n            'v': 26,\n            'f': \"26\",\n        }],\n [{\n            'v': 210,\n            'f': \"210\",\n        },\n\"templevandalisedinin\",\n{\n            'v': 26,\n            'f': \"26\",\n        }]],\n        columns: [[\"number\", \"index\"], [\"string\", \"Hashtag\"], [\"number\", \"Count\"]],\n        columnOptions: [{\"width\": \"1px\", \"className\": \"index_column\"}],\n        rowsPerPage: 25,\n        helpUrl: \"https://colab.research.google.com/notebooks/data_table.ipynb\",\n        suppressOutputScrolling: true,\n        minimumWidth: undefined,\n      });\n    "
          },
          "metadata": {},
          "execution_count": 159
        }
      ],
      "source": [
        "top_hashtags(HT_negative)"
      ]
    },
    {
      "cell_type": "markdown",
      "metadata": {
        "id": "IjJbs5SsqHSi"
      },
      "source": [
        "10. DISCUSS: are these hashtags making sense? should we include them as features or should we strip the # before tokenizing (that is, treat \"#love\" the same as \"love\")? why and why not?\n",
        "          \n",
        "\n",
        "> to gain insights into the topics of the tweets, then it would be beneficial to keep the hashtags as-is, as the # symbol provides context to the words that follow it and can be useful for understanding the topics being discussed. However, if you are looking to analyze the sentiment of the tweets, then it may be better to strip the # symbol before tokenizing, as the sentiment of a tweet should not differ depending on whether or not it contains a hashtag."
      ]
    },
    {
      "cell_type": "markdown",
      "metadata": {
        "id": "CEYAGVIl37vK"
      },
      "source": [
        "# Task 3. Features"
      ]
    },
    {
      "cell_type": "markdown",
      "metadata": {
        "id": "J7ekNaI9qHSj"
      },
      "source": [
        "Note that almost all the machine learning related Python modules expect numerical presentation of data; thus we need to transform our text first.\n",
        "We will experiment with bag of words, tf-idf, and word2vec.  "
      ]
    },
    {
      "cell_type": "markdown",
      "metadata": {
        "id": "xKTmxB0BqHSj"
      },
      "source": [
        "1. Convert the collection of text documents to a matrix of token counts.\n",
        "\n",
        "    Check the [official documentation](https://scikit-learn.org/stable/modules/generated/sklearn.feature_extraction.text.CountVectorizer.html). \n",
        "    \n",
        "    Create an instance of `CountVectorizer` named `bow_vectorizer`, set `max_features` to be `MAX_FEATURES`.\n",
        "    Learn the vocabulary dictionary and return document-term matrix and save it to `bow_train`. Use `.fit_transform`. "
      ]
    },
    {
      "cell_type": "code",
      "execution_count": null,
      "metadata": {
        "id": "uNb93rk3392m"
      },
      "outputs": [],
      "source": [
        "from sklearn.feature_extraction.text import CountVectorizer\n",
        "MAX_FEATURES = 1000\n",
        "\n",
        "bow_vectorizer = CountVectorizer(max_features = MAX_FEATURES)\n",
        "bow_train = bow_vectorizer.fit_transform(X_train)"
      ]
    },
    {
      "cell_type": "code",
      "execution_count": null,
      "metadata": {
        "id": "mZd0m7px4OEZ"
      },
      "outputs": [],
      "source": [
        "assert bow_train.shape == (X_train.shape[0], MAX_FEATURES)"
      ]
    },
    {
      "cell_type": "markdown",
      "metadata": {
        "id": "6gW16ek1qHSj"
      },
      "source": [
        "2. Print the first three rows from `bow_train`. Hint: `.toarray()`."
      ]
    },
    {
      "cell_type": "code",
      "execution_count": null,
      "metadata": {
        "colab": {
          "base_uri": "https://localhost:8080/"
        },
        "id": "pYsQFElmqHSj",
        "outputId": "bcdab824-ccd6-4163-96d6-d5a4ed60280e"
      },
      "outputs": [
        {
          "output_type": "stream",
          "name": "stdout",
          "text": [
            "[[0 0 0 ... 0 0 0]\n",
            " [0 0 0 ... 0 0 0]\n",
            " [0 0 0 ... 0 0 0]]\n"
          ]
        }
      ],
      "source": [
        "print(bow_train.toarray()[:3])"
      ]
    },
    {
      "cell_type": "code",
      "execution_count": null,
      "metadata": {
        "id": "lY2VSoMg48kb",
        "scrolled": true
      },
      "outputs": [],
      "source": [
        "from scipy.sparse.csr import csr_matrix\n",
        "assert type(bow_train) == csr_matrix"
      ]
    },
    {
      "cell_type": "markdown",
      "metadata": {
        "id": "oQdQrhVNqHSj"
      },
      "source": [
        "3. Similarly, convert the collection of text documents to a matrix of TF-IDF features.\n",
        "    \n",
        "    Create an instance of [`TfidfVectorizer`](https://scikit-learn.org/stable/modules/generated/sklearn.feature_extraction.text.TfidfVectorizer.html#sklearn.feature_extraction.text.TfidfVectorizer) named `tfidf_vectorizer`, set `max_features` to be `MAX_FEATURES`.\n",
        "\n",
        "    Learn the vocabulary and idf, return document-term matrix and save it to `tfidf_train`. "
      ]
    },
    {
      "cell_type": "code",
      "execution_count": null,
      "metadata": {
        "id": "ijW78I3v4Y81"
      },
      "outputs": [],
      "source": [
        "from sklearn.feature_extraction.text import TfidfVectorizer"
      ]
    },
    {
      "cell_type": "code",
      "source": [
        "MAX_FEATURES = 1000\n",
        "\n",
        "tfidf_vectorizer = TfidfVectorizer(max_features = MAX_FEATURES, stop_words='english')\n",
        "tfidf_train = tfidf_vectorizer.fit_transform(X_train)"
      ],
      "metadata": {
        "id": "6YAg2wBpDqUF"
      },
      "execution_count": null,
      "outputs": []
    },
    {
      "cell_type": "code",
      "execution_count": null,
      "metadata": {
        "id": "aDUa96KO4bmT"
      },
      "outputs": [],
      "source": [
        "tfidf_vectorizer = TfidfVectorizer(max_features=MAX_FEATURES, stop_words='english')  # YOUR CODE HERE\n",
        "tfidf_train = tfidf_vectorizer.fit_transform(X_train)"
      ]
    },
    {
      "cell_type": "code",
      "execution_count": null,
      "metadata": {
        "id": "vTrhLbMi4fjg"
      },
      "outputs": [],
      "source": [
        "assert type(tfidf_train) == csr_matrix\n",
        "assert tfidf_train.shape == bow_train.shape == (X_train.shape[0], MAX_FEATURES)"
      ]
    },
    {
      "cell_type": "markdown",
      "metadata": {
        "id": "7OSGoE73Avaj"
      },
      "source": [
        "4. Extract word embeddings using Word2Vec. \n",
        "We will use [`gensim`](https://radimrehurek.com/gensim/auto_examples/tutorials/run_word2vec.html) for this task. \n",
        "    \n",
        "    The Word2Vec model takes either a list of lists of tokens or an iterable that streams the sentences directly from disk/network. \n",
        "    Here, we tokenize the tidy tweets in `X_train` and save the list (`pd.series`) of lists of tokens to `tokenized_tweet`. "
      ]
    },
    {
      "cell_type": "code",
      "source": [
        "tokenized_tweet = X_train.apply (lambda x: x.split()) # tokenizing\n",
        "assert tokenized_tweet.shape == X_train.shape"
      ],
      "metadata": {
        "id": "MjzMW29mTO5W"
      },
      "execution_count": null,
      "outputs": []
    },
    {
      "cell_type": "markdown",
      "metadata": {
        "id": "rBeFwgakqHSk"
      },
      "source": [
        "5. Import `Word2Vec` from `gensim.models`; see [doc](https://radimrehurek.com/gensim/models/word2vec.html#gensim.models.word2vec.Word2Vec). \n",
        "\n",
        "    Create a skip-gram `Word2Vec` instance named `w2v` that learns on the `tokenized_tweet`, with `vector_size` set at `MAX_FEATURES`, and other parameters are provided. "
      ]
    },
    {
      "cell_type": "markdown",
      "source": [],
      "metadata": {
        "id": "o9PgQdhDT5rP"
      }
    },
    {
      "cell_type": "code",
      "execution_count": null,
      "metadata": {
        "id": "vgYpd2kq6LW0"
      },
      "outputs": [],
      "source": [
        "from gensim.models import Word2Vec"
      ]
    },
    {
      "cell_type": "code",
      "source": [
        "MAX_FEATURES = 1000\n",
        "\n",
        "w2v = Word2Vec(tokenized_tweet, vector_size=MAX_FEATURES, window=5, min_count=2, \n",
        "               sg=1, hs=0, negative=10, workers=2, seed=34)"
      ],
      "metadata": {
        "id": "KZ4BFA6XEUT_"
      },
      "execution_count": null,
      "outputs": []
    },
    {
      "cell_type": "markdown",
      "metadata": {
        "id": "DpSomU5qqHSk"
      },
      "source": [
        "6. Train the skip-gram model, set the epochs at 20."
      ]
    },
    {
      "cell_type": "code",
      "source": [
        "%%time\n",
        "w2v.train(tokenized_tweet, total_examples = len(tokenized_tweet), epochs = 20)"
      ],
      "metadata": {
        "colab": {
          "base_uri": "https://localhost:8080/"
        },
        "id": "UlZTswroTZF5",
        "outputId": "5417f4a5-5850-4567-d5ff-e536accca6f5"
      },
      "execution_count": null,
      "outputs": [
        {
          "output_type": "stream",
          "name": "stderr",
          "text": [
            "WARNING:gensim.models.word2vec:Effective 'alpha' higher than previous training cycles\n"
          ]
        },
        {
          "output_type": "stream",
          "name": "stdout",
          "text": [
            "CPU times: user 1.01 s, sys: 25.9 ms, total: 1.04 s\n",
            "Wall time: 1.18 s\n"
          ]
        },
        {
          "output_type": "execute_result",
          "data": {
            "text/plain": [
              "(57332, 479320)"
            ]
          },
          "metadata": {},
          "execution_count": 203
        }
      ]
    },
    {
      "cell_type": "markdown",
      "metadata": {
        "id": "VIGnBtKvqHSk"
      },
      "source": [
        "7. Let's see how the model performs. \n",
        "Specify a word and print out the 10 most similar words from the our tweets in the training set. \n",
        "Use [`most_similar`](https://radimrehurek.com/gensim/models/keyedvectors.html#gensim.models.keyedvectors.KeyedVectors.most_similar). \n",
        "Hint: print the type of `w2v` and `w2v.wv`."
      ]
    },
    {
      "cell_type": "code",
      "source": [
        "w2v.train.most_similar(positive=\"dinner\")"
      ],
      "metadata": {
        "colab": {
          "base_uri": "https://localhost:8080/",
          "height": 169
        },
        "id": "jvtUP35uSegV",
        "outputId": "f34de610-4dea-49ed-fa97-4f79599f9f70"
      },
      "execution_count": null,
      "outputs": [
        {
          "output_type": "error",
          "ename": "AttributeError",
          "evalue": "ignored",
          "traceback": [
            "\u001b[0;31m---------------------------------------------------------------------------\u001b[0m",
            "\u001b[0;31mAttributeError\u001b[0m                            Traceback (most recent call last)",
            "\u001b[0;32m<ipython-input-207-c6e496d3f6be>\u001b[0m in \u001b[0;36m<module>\u001b[0;34m\u001b[0m\n\u001b[0;32m----> 1\u001b[0;31m \u001b[0mw2v\u001b[0m\u001b[0;34m.\u001b[0m\u001b[0mtrain\u001b[0m\u001b[0;34m.\u001b[0m\u001b[0mmost_similar\u001b[0m\u001b[0;34m(\u001b[0m\u001b[0mpositive\u001b[0m\u001b[0;34m=\u001b[0m\u001b[0;34m\"dinner\"\u001b[0m\u001b[0;34m)\u001b[0m\u001b[0;34m\u001b[0m\u001b[0;34m\u001b[0m\u001b[0m\n\u001b[0m",
            "\u001b[0;31mAttributeError\u001b[0m: 'function' object has no attribute 'most_similar'"
          ]
        }
      ]
    },
    {
      "cell_type": "code",
      "source": [
        "w2v.wv.most_similar(['good'])"
      ],
      "metadata": {
        "colab": {
          "base_uri": "https://localhost:8080/",
          "height": 336
        },
        "id": "uxL44x5jUloK",
        "outputId": "ec572890-9f93-44d9-bb03-03ef4d49ddfb"
      },
      "execution_count": null,
      "outputs": [
        {
          "output_type": "error",
          "ename": "KeyError",
          "evalue": "ignored",
          "traceback": [
            "\u001b[0;31m---------------------------------------------------------------------------\u001b[0m",
            "\u001b[0;31mKeyError\u001b[0m                                  Traceback (most recent call last)",
            "\u001b[0;32m<ipython-input-206-a66d73fe56fb>\u001b[0m in \u001b[0;36m<module>\u001b[0;34m\u001b[0m\n\u001b[0;32m----> 1\u001b[0;31m \u001b[0mw2v\u001b[0m\u001b[0;34m.\u001b[0m\u001b[0mwv\u001b[0m\u001b[0;34m.\u001b[0m\u001b[0mmost_similar\u001b[0m\u001b[0;34m(\u001b[0m\u001b[0;34m[\u001b[0m\u001b[0;34m'good'\u001b[0m\u001b[0;34m]\u001b[0m\u001b[0;34m)\u001b[0m\u001b[0;34m\u001b[0m\u001b[0;34m\u001b[0m\u001b[0m\n\u001b[0m",
            "\u001b[0;32m/usr/local/lib/python3.8/dist-packages/gensim/models/keyedvectors.py\u001b[0m in \u001b[0;36mmost_similar\u001b[0;34m(self, positive, negative, topn, clip_start, clip_end, restrict_vocab, indexer)\u001b[0m\n\u001b[1;32m    840\u001b[0m \u001b[0;34m\u001b[0m\u001b[0m\n\u001b[1;32m    841\u001b[0m         \u001b[0;31m# compute the weighted average of all keys\u001b[0m\u001b[0;34m\u001b[0m\u001b[0;34m\u001b[0m\u001b[0;34m\u001b[0m\u001b[0m\n\u001b[0;32m--> 842\u001b[0;31m         \u001b[0mmean\u001b[0m \u001b[0;34m=\u001b[0m \u001b[0mself\u001b[0m\u001b[0;34m.\u001b[0m\u001b[0mget_mean_vector\u001b[0m\u001b[0;34m(\u001b[0m\u001b[0mkeys\u001b[0m\u001b[0;34m,\u001b[0m \u001b[0mweight\u001b[0m\u001b[0;34m,\u001b[0m \u001b[0mpre_normalize\u001b[0m\u001b[0;34m=\u001b[0m\u001b[0;32mTrue\u001b[0m\u001b[0;34m,\u001b[0m \u001b[0mpost_normalize\u001b[0m\u001b[0;34m=\u001b[0m\u001b[0;32mTrue\u001b[0m\u001b[0;34m,\u001b[0m \u001b[0mignore_missing\u001b[0m\u001b[0;34m=\u001b[0m\u001b[0;32mFalse\u001b[0m\u001b[0;34m)\u001b[0m\u001b[0;34m\u001b[0m\u001b[0;34m\u001b[0m\u001b[0m\n\u001b[0m\u001b[1;32m    843\u001b[0m         all_keys = [\n\u001b[1;32m    844\u001b[0m             \u001b[0mself\u001b[0m\u001b[0;34m.\u001b[0m\u001b[0mget_index\u001b[0m\u001b[0;34m(\u001b[0m\u001b[0mkey\u001b[0m\u001b[0;34m)\u001b[0m \u001b[0;32mfor\u001b[0m \u001b[0mkey\u001b[0m \u001b[0;32min\u001b[0m \u001b[0mkeys\u001b[0m \u001b[0;32mif\u001b[0m \u001b[0misinstance\u001b[0m\u001b[0;34m(\u001b[0m\u001b[0mkey\u001b[0m\u001b[0;34m,\u001b[0m \u001b[0m_KEY_TYPES\u001b[0m\u001b[0;34m)\u001b[0m \u001b[0;32mand\u001b[0m \u001b[0mself\u001b[0m\u001b[0;34m.\u001b[0m\u001b[0mhas_index_for\u001b[0m\u001b[0;34m(\u001b[0m\u001b[0mkey\u001b[0m\u001b[0;34m)\u001b[0m\u001b[0;34m\u001b[0m\u001b[0;34m\u001b[0m\u001b[0m\n",
            "\u001b[0;32m/usr/local/lib/python3.8/dist-packages/gensim/models/keyedvectors.py\u001b[0m in \u001b[0;36mget_mean_vector\u001b[0;34m(self, keys, weights, pre_normalize, post_normalize, ignore_missing)\u001b[0m\n\u001b[1;32m    517\u001b[0m                 \u001b[0mtotal_weight\u001b[0m \u001b[0;34m+=\u001b[0m \u001b[0mabs\u001b[0m\u001b[0;34m(\u001b[0m\u001b[0mweights\u001b[0m\u001b[0;34m[\u001b[0m\u001b[0midx\u001b[0m\u001b[0;34m]\u001b[0m\u001b[0;34m)\u001b[0m\u001b[0;34m\u001b[0m\u001b[0;34m\u001b[0m\u001b[0m\n\u001b[1;32m    518\u001b[0m             \u001b[0;32melif\u001b[0m \u001b[0;32mnot\u001b[0m \u001b[0mignore_missing\u001b[0m\u001b[0;34m:\u001b[0m\u001b[0;34m\u001b[0m\u001b[0;34m\u001b[0m\u001b[0m\n\u001b[0;32m--> 519\u001b[0;31m                 \u001b[0;32mraise\u001b[0m \u001b[0mKeyError\u001b[0m\u001b[0;34m(\u001b[0m\u001b[0;34mf\"Key '{key}' not present in vocabulary\"\u001b[0m\u001b[0;34m)\u001b[0m\u001b[0;34m\u001b[0m\u001b[0;34m\u001b[0m\u001b[0m\n\u001b[0m\u001b[1;32m    520\u001b[0m \u001b[0;34m\u001b[0m\u001b[0m\n\u001b[1;32m    521\u001b[0m         \u001b[0;32mif\u001b[0m\u001b[0;34m(\u001b[0m\u001b[0mtotal_weight\u001b[0m \u001b[0;34m>\u001b[0m \u001b[0;36m0\u001b[0m\u001b[0;34m)\u001b[0m\u001b[0;34m:\u001b[0m\u001b[0;34m\u001b[0m\u001b[0;34m\u001b[0m\u001b[0m\n",
            "\u001b[0;31mKeyError\u001b[0m: \"Key 'good' not present in vocabulary\""
          ]
        }
      ]
    },
    {
      "cell_type": "code",
      "execution_count": null,
      "metadata": {
        "id": "Sy9r-1Uz7sXl",
        "colab": {
          "base_uri": "https://localhost:8080/",
          "height": 336
        },
        "outputId": "9adae9c5-06ab-452c-a85d-051009c2b499"
      },
      "outputs": [
        {
          "output_type": "error",
          "ename": "KeyError",
          "evalue": "ignored",
          "traceback": [
            "\u001b[0;31m---------------------------------------------------------------------------\u001b[0m",
            "\u001b[0;31mKeyError\u001b[0m                                  Traceback (most recent call last)",
            "\u001b[0;32m<ipython-input-122-ba6e6d0a497d>\u001b[0m in \u001b[0;36m<module>\u001b[0;34m\u001b[0m\n\u001b[0;32m----> 1\u001b[0;31m \u001b[0mw2v\u001b[0m\u001b[0;34m.\u001b[0m\u001b[0mwv\u001b[0m\u001b[0;34m.\u001b[0m\u001b[0mmost_similar\u001b[0m\u001b[0;34m(\u001b[0m\u001b[0mpositive\u001b[0m\u001b[0;34m=\u001b[0m\u001b[0;34m'father'\u001b[0m\u001b[0;34m)\u001b[0m\u001b[0;34m\u001b[0m\u001b[0;34m\u001b[0m\u001b[0m\n\u001b[0m",
            "\u001b[0;32m/usr/local/lib/python3.8/dist-packages/gensim/models/keyedvectors.py\u001b[0m in \u001b[0;36mmost_similar\u001b[0;34m(self, positive, negative, topn, clip_start, clip_end, restrict_vocab, indexer)\u001b[0m\n\u001b[1;32m    840\u001b[0m \u001b[0;34m\u001b[0m\u001b[0m\n\u001b[1;32m    841\u001b[0m         \u001b[0;31m# compute the weighted average of all keys\u001b[0m\u001b[0;34m\u001b[0m\u001b[0;34m\u001b[0m\u001b[0;34m\u001b[0m\u001b[0m\n\u001b[0;32m--> 842\u001b[0;31m         \u001b[0mmean\u001b[0m \u001b[0;34m=\u001b[0m \u001b[0mself\u001b[0m\u001b[0;34m.\u001b[0m\u001b[0mget_mean_vector\u001b[0m\u001b[0;34m(\u001b[0m\u001b[0mkeys\u001b[0m\u001b[0;34m,\u001b[0m \u001b[0mweight\u001b[0m\u001b[0;34m,\u001b[0m \u001b[0mpre_normalize\u001b[0m\u001b[0;34m=\u001b[0m\u001b[0;32mTrue\u001b[0m\u001b[0;34m,\u001b[0m \u001b[0mpost_normalize\u001b[0m\u001b[0;34m=\u001b[0m\u001b[0;32mTrue\u001b[0m\u001b[0;34m,\u001b[0m \u001b[0mignore_missing\u001b[0m\u001b[0;34m=\u001b[0m\u001b[0;32mFalse\u001b[0m\u001b[0;34m)\u001b[0m\u001b[0;34m\u001b[0m\u001b[0;34m\u001b[0m\u001b[0m\n\u001b[0m\u001b[1;32m    843\u001b[0m         all_keys = [\n\u001b[1;32m    844\u001b[0m             \u001b[0mself\u001b[0m\u001b[0;34m.\u001b[0m\u001b[0mget_index\u001b[0m\u001b[0;34m(\u001b[0m\u001b[0mkey\u001b[0m\u001b[0;34m)\u001b[0m \u001b[0;32mfor\u001b[0m \u001b[0mkey\u001b[0m \u001b[0;32min\u001b[0m \u001b[0mkeys\u001b[0m \u001b[0;32mif\u001b[0m \u001b[0misinstance\u001b[0m\u001b[0;34m(\u001b[0m\u001b[0mkey\u001b[0m\u001b[0;34m,\u001b[0m \u001b[0m_KEY_TYPES\u001b[0m\u001b[0;34m)\u001b[0m \u001b[0;32mand\u001b[0m \u001b[0mself\u001b[0m\u001b[0;34m.\u001b[0m\u001b[0mhas_index_for\u001b[0m\u001b[0;34m(\u001b[0m\u001b[0mkey\u001b[0m\u001b[0;34m)\u001b[0m\u001b[0;34m\u001b[0m\u001b[0;34m\u001b[0m\u001b[0m\n",
            "\u001b[0;32m/usr/local/lib/python3.8/dist-packages/gensim/models/keyedvectors.py\u001b[0m in \u001b[0;36mget_mean_vector\u001b[0;34m(self, keys, weights, pre_normalize, post_normalize, ignore_missing)\u001b[0m\n\u001b[1;32m    517\u001b[0m                 \u001b[0mtotal_weight\u001b[0m \u001b[0;34m+=\u001b[0m \u001b[0mabs\u001b[0m\u001b[0;34m(\u001b[0m\u001b[0mweights\u001b[0m\u001b[0;34m[\u001b[0m\u001b[0midx\u001b[0m\u001b[0;34m]\u001b[0m\u001b[0;34m)\u001b[0m\u001b[0;34m\u001b[0m\u001b[0;34m\u001b[0m\u001b[0m\n\u001b[1;32m    518\u001b[0m             \u001b[0;32melif\u001b[0m \u001b[0;32mnot\u001b[0m \u001b[0mignore_missing\u001b[0m\u001b[0;34m:\u001b[0m\u001b[0;34m\u001b[0m\u001b[0;34m\u001b[0m\u001b[0m\n\u001b[0;32m--> 519\u001b[0;31m                 \u001b[0;32mraise\u001b[0m \u001b[0mKeyError\u001b[0m\u001b[0;34m(\u001b[0m\u001b[0;34mf\"Key '{key}' not present in vocabulary\"\u001b[0m\u001b[0;34m)\u001b[0m\u001b[0;34m\u001b[0m\u001b[0;34m\u001b[0m\u001b[0m\n\u001b[0m\u001b[1;32m    520\u001b[0m \u001b[0;34m\u001b[0m\u001b[0m\n\u001b[1;32m    521\u001b[0m         \u001b[0;32mif\u001b[0m\u001b[0;34m(\u001b[0m\u001b[0mtotal_weight\u001b[0m \u001b[0;34m>\u001b[0m \u001b[0;36m0\u001b[0m\u001b[0;34m)\u001b[0m\u001b[0;34m:\u001b[0m\u001b[0;34m\u001b[0m\u001b[0;34m\u001b[0m\u001b[0m\n",
            "\u001b[0;31mKeyError\u001b[0m: \"Key 'father' not present in vocabulary\""
          ]
        }
      ],
      "source": [
        "w2v.wv.most_similar(positive='father')"
      ]
    },
    {
      "cell_type": "markdown",
      "metadata": {
        "id": "THzz40pI8cii"
      },
      "source": [
        "8. Discuss: how does w2v calculate the similarities? \n",
        "\n",
        "  YOUR ANSWER HERE"
      ]
    },
    {
      "cell_type": "markdown",
      "metadata": {
        "id": "PpUeqahqqHSl"
      },
      "source": [
        "9. Discuss: do you think Word2Vec is supervised or unsupervised ML technique?\n",
        "\n",
        "    YOUR ANSWER HERE"
      ]
    },
    {
      "cell_type": "markdown",
      "metadata": {
        "id": "-kDDUHKTqHSl"
      },
      "source": [
        "10. Engineer features. \n",
        "\n",
        "    For each tweet, we calculate the average of embeddings (function `word_vector`) and then apply it to every tidy tweet in `X_train` (use function `tokens_to_array`).\n",
        "    Both functions are provided, inspect the code and save the features in `w2v_train`."
      ]
    },
    {
      "cell_type": "code",
      "execution_count": null,
      "metadata": {
        "id": "NudS0OF28b_d"
      },
      "outputs": [],
      "source": [
        "from gensim.models.keyedvectors import KeyedVectors\n",
        "\n",
        "def word_vector(tokens:list, size:int, keyed_vec:KeyedVectors= w2v.wv):\n",
        "    vec = np.zeros(size).reshape((1, size))\n",
        "    count = 0\n",
        "    for word in tokens:\n",
        "        try:\n",
        "            vec += keyed_vec[word].reshape((1, size))\n",
        "            count += 1\n",
        "        except KeyError: \n",
        "            # handling the case where the token is not in vocabulary        \n",
        "            continue\n",
        "    if count != 0:\n",
        "        vec /= count\n",
        "    return vec\n",
        "\n",
        "def tokens_to_array(tokens:list, size:int, keyed_vec:KeyedVectors= w2v.wv):\n",
        "    array = np.zeros((len(tokens), size))\n",
        "    for i in range(len(tokens)):\n",
        "        array[i,:] = word_vector(tokens.iloc[i], size, keyed_vec=keyed_vec)\n",
        "    return array"
      ]
    },
    {
      "cell_type": "code",
      "execution_count": null,
      "metadata": {
        "id": "vea6FT7V8yuR"
      },
      "outputs": [],
      "source": [
        "w2v_train = # YOUR CODE HERE"
      ]
    },
    {
      "cell_type": "code",
      "execution_count": null,
      "metadata": {
        "id": "UV5XtAk09iZl"
      },
      "outputs": [],
      "source": [
        "assert w2v_train.shape == (X_train.shape[0], MAX_FEATURES)"
      ]
    },
    {
      "cell_type": "markdown",
      "metadata": {
        "id": "dhzWKjs_9o55"
      },
      "source": [
        "11. Prepare the test data before modeling for each approach:\n",
        "\n",
        "\n",
        "  - extract features from `X_test` using the bag of words approach; use `bow_vectorizer`\n",
        "  - extract features from `X_test` using the tf-idf approach; use `tfidf_vectorizer`\n",
        "  - extract features from `X_test` using Word2Vec embeddings; you need to first tokenized the tidy tweets in `X_test`, then convert the tokens to array of shape `(X_test.shape[0], MAX_FEATURES)`."
      ]
    },
    {
      "cell_type": "code",
      "execution_count": null,
      "metadata": {
        "id": "Iv5j92GP9nyC"
      },
      "outputs": [],
      "source": [
        "bow_test = # YOUR CODE HERE\n",
        "tfidf_test = # YOUR CODE HERE\n",
        "\n",
        "tokenized_tweet_test = # YOUR CODE HERE\n",
        "w2v_test = # YOUR CODE HERE"
      ]
    },
    {
      "cell_type": "code",
      "execution_count": null,
      "metadata": {
        "id": "tJw-KwNu9_l6"
      },
      "outputs": [],
      "source": [
        "assert bow_test.shape == tfidf_test.shape == w2v_test.shape == (X_test.shape[0], MAX_FEATURES)"
      ]
    },
    {
      "cell_type": "markdown",
      "metadata": {
        "id": "0zHJBHsC3w7J"
      },
      "source": [
        "# Task 4. Naive Bayes classifiers"
      ]
    },
    {
      "cell_type": "markdown",
      "metadata": {
        "id": "bN3pJcOI3_xs"
      },
      "source": [
        "In this task, you will build a [naive Bayes](https://sebastianraschka.com/Articles/2014_naive_bayes_1.html) (here's another [ref](https://www.inf.ed.ac.uk/teaching/courses/inf2b/learnnotes/inf2b-learn07-notes-nup.pdf)), classifiers to identify the hate speech tweets using different sets of features from the last task, and evaluate their performances. \n",
        "\n",
        "In the era of deep learning, naive Bayes is useful due to its simplicity and reasonable performance, especially if there is not much training data available. A common interview question is \"Why is naive Bayes naive?\". \n",
        "\n",
        "We will use multi-variate Bernoulli naive Bayes [`BernoulliNB`](https://scikit-learn.org/stable/modules/generated/sklearn.naive_bayes.BernoulliNB.html); try other flavors of [naive Bayes](https://scikit-learn.org/stable/modules/classes.html#module-sklearn.naive_bayes) if time permits. Code is pretty straightforward. \n",
        "\n",
        "1. Import `BernoulliNB` for modeling and `classification_report` for reporting performance. "
      ]
    },
    {
      "cell_type": "code",
      "execution_count": null,
      "metadata": {
        "id": "fwaj5Ksd3rk8"
      },
      "outputs": [],
      "source": [
        "from sklearn.naive_bayes import BernoulliNB\n",
        "from sklearn.metrics import classification_report"
      ]
    },
    {
      "cell_type": "markdown",
      "metadata": {
        "id": "lp8jYLY_qHSm"
      },
      "source": [
        "2. Create an instance of  `BernoulliNB` named `BNBmodel`. \n",
        "\n",
        "    We can use it for all three feature sets."
      ]
    },
    {
      "cell_type": "code",
      "execution_count": null,
      "metadata": {
        "id": "R9NtOCqv3wRK"
      },
      "outputs": [],
      "source": [
        "# YOUR CODE HERE"
      ]
    },
    {
      "cell_type": "markdown",
      "metadata": {
        "id": "AKuGCGdfqHSm"
      },
      "source": [
        "3. Train the multi-variate Bernoulli naive Bayes using bag of words features and print the performance report."
      ]
    },
    {
      "cell_type": "code",
      "execution_count": null,
      "metadata": {
        "id": "hJjuMZspahLB"
      },
      "outputs": [],
      "source": [
        "# YOUR CODE HERE (train the model)"
      ]
    },
    {
      "cell_type": "code",
      "execution_count": null,
      "metadata": {
        "id": "eNzjV0mUqHSm"
      },
      "outputs": [],
      "source": [
        "# YOUR CODE HERE (report)"
      ]
    },
    {
      "cell_type": "markdown",
      "metadata": {
        "id": "ntqO9Ic1qHSm"
      },
      "source": [
        "4. Similarly, train the model using tf-idf features and print the performance report. \n",
        "\n",
        "    Is the performance expected? Why or why not?"
      ]
    },
    {
      "cell_type": "code",
      "execution_count": null,
      "metadata": {
        "id": "8X0OXMVt-he0"
      },
      "outputs": [],
      "source": [
        "# YOUR CODE HERE"
      ]
    },
    {
      "cell_type": "code",
      "execution_count": null,
      "metadata": {
        "id": "gUi0SFfFqHSm"
      },
      "outputs": [],
      "source": [
        "# YOUR CODE HERE"
      ]
    },
    {
      "cell_type": "markdown",
      "metadata": {
        "id": "ZJQu2WZyqHSm"
      },
      "source": [
        "5. Finally, train the model using Word2Vec embeddings and report the performance. "
      ]
    },
    {
      "cell_type": "code",
      "execution_count": null,
      "metadata": {
        "id": "h69fbpcvbHs8"
      },
      "outputs": [],
      "source": [
        "# YOUR CODE HERE\n",
        "# YOUR CODE HERE"
      ]
    },
    {
      "cell_type": "markdown",
      "metadata": {
        "id": "fm1hTdBf_qJd"
      },
      "source": [
        "6. Discuss the differences in performace using tf-idf vs skim-gram embeddings. \n",
        "\n",
        "    YOUR ANSWER HERE"
      ]
    },
    {
      "cell_type": "markdown",
      "metadata": {
        "id": "-XdbHGM8qHSm"
      },
      "source": [
        "7. Examine a few tweets where the model(s) failed. \n",
        "What other features would you include in the next iteration?\n",
        "\n",
        "    YOUR ANSWER HERE"
      ]
    },
    {
      "cell_type": "markdown",
      "metadata": {
        "id": "Wmj2oYYlAG9t"
      },
      "source": [
        "# Task 5. Bidirectional LSTM "
      ]
    },
    {
      "cell_type": "markdown",
      "metadata": {
        "id": "ivL3qYLXALKo"
      },
      "source": [
        "In this task, you will build a bidirectional LSTM (BiLSTM) model to detect tweets identified as hate speech, and visualize the embedding layer using Tensorboard projector. \n",
        "\n",
        "Why BiLSTM? LSTM, at its core, preserves information from inputs that has already passed through it using the hidden state. Unidirectional LSTM only preserves information of the past because the only inputs it has seen are from the past. BiLSTMs run inputs in both ways, one from past to future and one from future to past and show very good results as they can understand context better [ref](https://stackoverflow.com/questions/43035827/whats-the-difference-between-a-bidirectional-lstm-and-an-lstm)."
      ]
    },
    {
      "cell_type": "markdown",
      "metadata": {
        "id": "8bFkC-qRqHSn"
      },
      "source": [
        "1. Tokenizing and padding. \n",
        "    \n",
        "    As LSTM expects every sentence to be of the same length, in addition to [`Tokenizer`](https://www.tensorflow.org/api_docs/python/tf/keras/preprocessing/text/Tokenizer) with a given number of vocabulary `VOCAB_SIZE`, we need to [pad](https://www.tensorflow.org/api_docs/python/tf/keras/utils/pad_sequences) shorter tweets with 0s until the length is `MAX_LEN` and truncate longer tweets to be exact `MAX_LEN` long. \n",
        "    \n",
        "   Function `tokenize_pad_sequences` is provided except that you need to supply correct `num_words` and `filters`; do NOT filter `#`. \n",
        "   \n",
        "   We feed the processed `tidy_tweet` to `tokenize_pad_sequences`, but one can perform the preprocessing steps in `Tokenizer` and apply it directly on the raw tweets."
      ]
    },
    {
      "cell_type": "code",
      "execution_count": null,
      "metadata": {
        "id": "iC1Q6k3j-5qW"
      },
      "outputs": [],
      "source": [
        "VOCAB_SIZE = 25000  \n",
        "MAX_LEN = 50"
      ]
    },
    {
      "cell_type": "code",
      "execution_count": null,
      "metadata": {
        "id": "S1LG6ZQ7CKKi"
      },
      "outputs": [],
      "source": [
        "import tensorflow as tf\n",
        "from tensorflow import keras\n",
        "\n",
        "from keras.preprocessing.text import Tokenizer\n",
        "from keras.preprocessing.sequence import pad_sequences\n",
        "\n",
        "def tokenize_pad_sequences(text):\n",
        "    '''\n",
        "    tokenize the input text into sequences of integers and then\n",
        "    pad each sequence to the same length\n",
        "    '''\n",
        "    # Text tokenization\n",
        "    tokenizer = Tokenizer(\n",
        "        num_words=# YOUR CODE HERE\n",
        "        filters=# YOUR CODE HERE\n",
        "        lower=True, split=' ', oov_token='oov')\n",
        "    tokenizer.fit_on_texts(text)\n",
        "    # Transforms text to a sequence of integers\n",
        "    X = tokenizer.texts_to_sequences(text)\n",
        "    # Pad sequences to the same length\n",
        "    X = pad_sequences(X, padding='post', maxlen=MAX_LEN)\n",
        "\n",
        "    return X, tokenizer"
      ]
    },
    {
      "cell_type": "code",
      "execution_count": null,
      "metadata": {
        "id": "6MhnJ9nxCNca"
      },
      "outputs": [],
      "source": [
        "print('Before Tokenization & Padding \\n', raw['tidy_tweet'][0])\n",
        "X, tokenizer = tokenize_pad_sequences(raw['tidy_tweet'])\n",
        "print('After Tokenization & Padding \\n', X[0])\n",
        "y = raw['label'].values"
      ]
    },
    {
      "cell_type": "markdown",
      "metadata": {
        "id": "nhG33jJeqHSn"
      },
      "source": [
        "2. Let's split `X` into training and testing datasets, save 25% for testing. \n",
        "Then split training dataset into training and validation datasets, with 20% for validation. \n",
        "Set both `random_state` to be 42. \n",
        "Stratify both splits. "
      ]
    },
    {
      "cell_type": "code",
      "execution_count": null,
      "metadata": {
        "id": "PIdaTdBKCP-2"
      },
      "outputs": [],
      "source": [
        "X_train, X_test, y_train, y_test = train_test_split(\n",
        "    # YOUR CODE HERE\n",
        "    )\n",
        "X_train, X_val, y_train, y_val = train_test_split(\n",
        "    # YOUR CODE HERE\n",
        "    )"
      ]
    },
    {
      "cell_type": "code",
      "execution_count": null,
      "metadata": {
        "id": "G2G5PMwGCcxI"
      },
      "outputs": [],
      "source": [
        "print('Train Set ->', X_train.shape, y_train.shape)\n",
        "print('Validation Set ->', X_val.shape, y_val.shape)\n",
        "print('Test Set ->', X_test.shape, y_test.shape)"
      ]
    },
    {
      "cell_type": "markdown",
      "metadata": {
        "id": "ZmZ2Y9gzqHSn"
      },
      "source": [
        "3. Now build a sequential model:\n",
        "\n",
        "    - an embedding layer\n",
        "    - a bidirectional LSTM with 32 units and set `return_sequences=True` in LSTM\n",
        "    - a global average pooling operation for temporal data\n",
        "    - a dropout layer with 20% rate\n",
        "    - a dense layer of 32 units and set the activation function to be ReLu\n",
        "    - a dense layer of 1 unit and set the proper activation function for classification"
      ]
    },
    {
      "cell_type": "code",
      "execution_count": null,
      "metadata": {
        "id": "yIHXdzW7Che7",
        "scrolled": false
      },
      "outputs": [],
      "source": [
        "from keras.models import Sequential\n",
        "# YOUR CODE HERE (layer imports)\n",
        "\n",
        "EMBEDDING_DIM = 16   \n",
        "model = Sequential([\n",
        "    # YOUR CODE HERE\n",
        "])"
      ]
    },
    {
      "cell_type": "code",
      "execution_count": null,
      "metadata": {
        "id": "bpioKB2AC6aH"
      },
      "outputs": [],
      "source": [
        "model.summary()"
      ]
    },
    {
      "cell_type": "markdown",
      "metadata": {
        "id": "ZjzENFrAqHSo"
      },
      "source": [
        "4. Compile the model. \n",
        "\n",
        "    Fill in a proper loss function and use adam as the optimizer. \n",
        "    For metrics, include precision and recall in the metrics, in addition to accuracy. "
      ]
    },
    {
      "cell_type": "code",
      "execution_count": null,
      "metadata": {
        "id": "RuhniNmJC2AR"
      },
      "outputs": [],
      "source": [
        "from keras.metrics import Precision, Recall\n",
        "model.compile(\n",
        "    loss=# YOUR CODE HERE\n",
        "    optimizer='adam', \n",
        "    metrics=# YOUR CODE HERE]\n",
        "    ) "
      ]
    },
    {
      "cell_type": "markdown",
      "metadata": {
        "id": "hiXFn0OJqHSo"
      },
      "source": [
        "5. Train the model for 10 epochs on training dataset with a  validation set."
      ]
    },
    {
      "cell_type": "code",
      "execution_count": null,
      "metadata": {
        "id": "V1pd8qpIC_BL"
      },
      "outputs": [],
      "source": [
        "EPOCHS=10\n",
        "BATCH_SIZE = 32\n",
        "history = model.fit(X_train, y_train,\n",
        "                    validation_data=# YOUR CODE HERE\n",
        "                    batch_size=BATCH_SIZE, epochs=EPOCHS, verbose=2)"
      ]
    },
    {
      "cell_type": "markdown",
      "metadata": {
        "id": "USmxE6M1qHSo"
      },
      "source": [
        "6. Function `plot_graphs` is provided below to visualize how the performance of model progresses as a function of epoch. \n",
        "\n",
        "    Visualize accuracy and loss. "
      ]
    },
    {
      "cell_type": "code",
      "execution_count": null,
      "metadata": {
        "id": "Z3IuUmpODCz1"
      },
      "outputs": [],
      "source": [
        "def plot_graphs(history, metric):\n",
        "  fig, ax = plt.subplots()\n",
        "  plt.plot(history.history[metric])\n",
        "  plt.plot(history.history['val_'+metric], '')\n",
        "  ax.set_xticks(range(EPOCHS))\n",
        "  plt.xlabel(\"Epochs\")\n",
        "  plt.ylabel(metric)\n",
        "  plt.legend([metric, 'val_'+metric])"
      ]
    },
    {
      "cell_type": "code",
      "execution_count": null,
      "metadata": {
        "id": "dXsbpHwQDNbf"
      },
      "outputs": [],
      "source": [
        "# YOUR CODE HERE"
      ]
    },
    {
      "cell_type": "code",
      "execution_count": null,
      "metadata": {
        "id": "emrqqQacDPFL"
      },
      "outputs": [],
      "source": [
        "# YOUR CODE HERE"
      ]
    },
    {
      "cell_type": "markdown",
      "metadata": {
        "id": "cGE0rR41qHSo"
      },
      "source": [
        "7. The model starts to overfit after a couple of epochs. \n",
        "Consider using [early stopping](https://www.tensorflow.org/api_docs/python/tf/keras/callbacks/EarlyStopping) to stop training when a monitored metric has stopped improving. \n",
        "\n",
        "  What can we do to tame overfitting?\n",
        "\n",
        "    YOUR ANSWER HERE"
      ]
    },
    {
      "cell_type": "markdown",
      "metadata": {
        "id": "bJj8v7mdqHSo"
      },
      "source": [
        "8. Print the classification report of the model on test dataset. "
      ]
    },
    {
      "cell_type": "code",
      "execution_count": null,
      "metadata": {
        "id": "AdobNLdZDT81"
      },
      "outputs": [],
      "source": [
        "# YOUR CODE HERE"
      ]
    },
    {
      "cell_type": "markdown",
      "metadata": {
        "id": "dgfrk6iRqHSo"
      },
      "source": [
        "9. Discuss: how does the BiLSTM model improve the classification over naive Bayes? \n",
        "\n",
        "    YOUR ANSWER HERE"
      ]
    },
    {
      "cell_type": "code",
      "execution_count": null,
      "metadata": {
        "id": "eQ7B-g_fEWYe"
      },
      "outputs": [],
      "source": [
        "# # NB using tf-idf\n",
        "#               precision    recall  f1-score   support\n",
        "\n",
        "#            0       0.96      0.97      0.97      7430\n",
        "#            1       0.55      0.48      0.51       561\n",
        "\n",
        "#     accuracy                           0.94      7991\n",
        "#    macro avg       0.75      0.72      0.74      7991\n",
        "# weighted avg       0.93      0.94      0.93      7991\n",
        "\n",
        "# # NB using word2vec\n",
        "#               precision    recall  f1-score   support\n",
        "\n",
        "#            0       0.98      0.85      0.91      7430\n",
        "#            1       0.29      0.82      0.43       561\n",
        "\n",
        "#     accuracy                           0.85      7991\n",
        "#    macro avg       0.64      0.83      0.67      7991\n",
        "# weighted avg       0.94      0.85      0.88      7991"
      ]
    },
    {
      "cell_type": "markdown",
      "metadata": {
        "id": "pmmJzPMaqHSp"
      },
      "source": [
        "10. Visualize embeddings using [Embedding Projector](https://www.tensorflow.org/tensorboard/tensorboard_projector_plugin) in Tensorboard. \n",
        "The setup for Tensorboard can be tricky, most of the code is provided. \n",
        "\n",
        "    TensorBoard reads tensors and metadata from the logs of your tensorflow projects. \n",
        "    The path to the log directory is specified with log_dir below. \n",
        "    \n",
        "    In order to load the data into Tensorboard, we need to save a training checkpoint to that directory, along with metadata that allows for visualization of a specific layer of interest in the model.\n",
        "\n",
        "    Load the TensorBoard notebook extension and import `projector` from `tensorboard.plugins`."
      ]
    },
    {
      "cell_type": "code",
      "execution_count": null,
      "metadata": {
        "id": "h-Nlj-xPcDcJ"
      },
      "outputs": [],
      "source": [
        "%load_ext tensorboard"
      ]
    },
    {
      "cell_type": "code",
      "execution_count": null,
      "metadata": {
        "id": "hPv_upTPcEB6"
      },
      "outputs": [],
      "source": [
        "from tensorboard.plugins import projector"
      ]
    },
    {
      "cell_type": "markdown",
      "metadata": {
        "id": "O6FqHvlWqHSp"
      },
      "source": [
        "11. Clear any logs from previous runs if any."
      ]
    },
    {
      "cell_type": "code",
      "execution_count": null,
      "metadata": {
        "id": "UFJH2kexhsDW"
      },
      "outputs": [],
      "source": [
        "rm -rf /logs/  "
      ]
    },
    {
      "cell_type": "markdown",
      "metadata": {
        "id": "Ljzn8weFqHSp"
      },
      "source": [
        "12. Set up a logs directory, so Tensorboard knows where to look for data."
      ]
    },
    {
      "cell_type": "code",
      "execution_count": null,
      "metadata": {
        "id": "PNONqOdoeB65"
      },
      "outputs": [],
      "source": [
        "import os\n",
        "log_dir='/logs/tweets-example/'\n",
        "if not os.path.exists(log_dir):\n",
        "    os.makedirs(log_dir)"
      ]
    },
    {
      "cell_type": "markdown",
      "metadata": {
        "id": "9pYgffwFqHSp"
      },
      "source": [
        "13. Save the first `VOCAB_SIZE` most frequent words in the vocabulary as `metadata.tsv`."
      ]
    },
    {
      "cell_type": "code",
      "execution_count": null,
      "metadata": {
        "id": "O7ThVTUleT9o"
      },
      "outputs": [],
      "source": [
        "with open(os.path.join(log_dir, 'metadata.tsv'), \"w\") as f:\n",
        "  i = 0\n",
        "  for label in tokenizer.word_index.keys():\n",
        "    if label == 'oov':\n",
        "      continue # skip oov\n",
        "    f.write(\"{}\\n\".format(label))\n",
        "    if i > VOCAB_SIZE:\n",
        "      break\n",
        "    i += 1"
      ]
    },
    {
      "cell_type": "markdown",
      "metadata": {
        "id": "djoU3-LcqHSp"
      },
      "source": [
        "14. Save the weights we want to analyze as a variable. Note that the first value represents any unknown word, which is not in the metadata, here we will remove this value."
      ]
    },
    {
      "cell_type": "code",
      "execution_count": null,
      "metadata": {
        "id": "GoPzZpeHeZGV"
      },
      "outputs": [],
      "source": [
        "weights = tf.Variable(model.layers[0].get_weights()[0][1:]) # `embeddings` has a shape of (num_vocab, embedding_dim) "
      ]
    },
    {
      "cell_type": "markdown",
      "metadata": {
        "id": "6PfF91UpqHSp"
      },
      "source": [
        "15. Create a checkpoint from embedding, the filename and key are the name of the tensor."
      ]
    },
    {
      "cell_type": "code",
      "execution_count": null,
      "metadata": {
        "id": "uLC5D9PCqHSq"
      },
      "outputs": [],
      "source": [
        "checkpoint = tf.train.Checkpoint(embedding=weights)\n",
        "checkpoint.save(os.path.join(log_dir, \"embedding.ckpt\"))"
      ]
    },
    {
      "cell_type": "markdown",
      "metadata": {
        "id": "NhRQaOPUqHSq"
      },
      "source": [
        "16. Set up config."
      ]
    },
    {
      "cell_type": "code",
      "execution_count": null,
      "metadata": {
        "id": "cH4m0nY7IUFd"
      },
      "outputs": [],
      "source": [
        "config = projector.ProjectorConfig()\n",
        "embedding = config.embeddings.add()"
      ]
    },
    {
      "cell_type": "markdown",
      "metadata": {
        "id": "q_7mVeSHqHSq"
      },
      "source": [
        "17. The name of the tensor will be suffixed by `/.ATTRIBUTES/VARIABLE_VALUE`."
      ]
    },
    {
      "cell_type": "code",
      "execution_count": null,
      "metadata": {
        "id": "LH5DxopZqHSq"
      },
      "outputs": [],
      "source": [
        "embedding.tensor_name = \"embedding/.ATTRIBUTES/VARIABLE_VALUE\"\n",
        "embedding.metadata_path = 'metadata.tsv'\n",
        "projector.visualize_embeddings(log_dir, config)"
      ]
    },
    {
      "cell_type": "markdown",
      "metadata": {
        "id": "Fbk41Eo3qHSq"
      },
      "source": [
        "18. Verify the following files exist under the current directory"
      ]
    },
    {
      "cell_type": "code",
      "execution_count": null,
      "metadata": {
        "id": "p2Cr_8A4hRHq"
      },
      "outputs": [],
      "source": [
        "ls /logs/tweets-example/"
      ]
    },
    {
      "cell_type": "markdown",
      "metadata": {
        "id": "R2iMkZh8qHSq"
      },
      "source": [
        "19. Now run Tensorboard against on log data we just saved. \n",
        "\n",
        "    You may need to run this cell **twice** to see the projector correctly. \n",
        "    Use Chrome for least friction."
      ]
    },
    {
      "cell_type": "code",
      "execution_count": null,
      "metadata": {
        "id": "aQnjWJpSeh1e"
      },
      "outputs": [],
      "source": [
        "%tensorboard --logdir /logs/tweets-example/"
      ]
    },
    {
      "cell_type": "markdown",
      "metadata": {
        "id": "TC52pxQ6pFIP"
      },
      "source": [
        "The TensorBoard Projector can be a great tool for interpreting and visualzing embedding. The dashboard allows users to search for specific terms, and highlights words that are adjacent to each other in the embedding (low-dimensional) space. Try a few word in the Search box and see if the embeddings make sense. "
      ]
    },
    {
      "cell_type": "markdown",
      "metadata": {
        "id": "wRlfqbv5FAgr"
      },
      "source": [
        "# Task 6. Interpretation"
      ]
    },
    {
      "cell_type": "markdown",
      "metadata": {
        "id": "S8Z5epwHqHSr"
      },
      "source": [
        "Lastly let's try to understnad predictions by BiLSTM using a model agnostic approach -- [Local interpretable model-agnostic explanations (LIME)](https://christophm.github.io/interpretable-ml-book/lime.html)\n",
        "\n",
        "1. Import `LimeTextExplainer` from the [`lime_text`](https://lime-ml.readthedocs.io/en/latest/lime.html#module-lime.lime_text) module in package [`lime`](https://github.com/marcotcr/lime)"
      ]
    },
    {
      "cell_type": "code",
      "execution_count": null,
      "metadata": {
        "id": "zve69BHRFDPW"
      },
      "outputs": [],
      "source": [
        "from lime.lime_text import LimeTextExplainer"
      ]
    },
    {
      "cell_type": "markdown",
      "metadata": {
        "id": "OLb9MblAqHSr"
      },
      "source": [
        "2. Create an instance of `LimeTextExplainer`, call it `explanier`. "
      ]
    },
    {
      "cell_type": "code",
      "execution_count": null,
      "metadata": {
        "id": "awkFCv5qFEpt"
      },
      "outputs": [],
      "source": [
        "explainer = LimeTextExplainer(class_names=['no', 'yes'], random_state=2)"
      ]
    },
    {
      "cell_type": "markdown",
      "metadata": {
        "id": "HGB_kjmIqHSr"
      },
      "source": [
        "3. Method `explain_instance` expects the `classifier_fn` to be a function, we provide the function `predict_proba` as below. "
      ]
    },
    {
      "cell_type": "code",
      "execution_count": null,
      "metadata": {
        "id": "fATA1nDYFNCH"
      },
      "outputs": [],
      "source": [
        "def predict_proba(arr):\n",
        "    processed = tokenizer.texts_to_sequences(arr)\n",
        "    processed = pad_sequences(processed, padding='post', maxlen=MAX_LEN)\n",
        "    pred = model.predict(processed)\n",
        "    r = []\n",
        "    for i in pred:\n",
        "        temp = i[0]\n",
        "        r.append(np.array([1-temp,temp])) \n",
        "    return np.array(r)"
      ]
    },
    {
      "cell_type": "markdown",
      "metadata": {
        "id": "EOOET9F0qHSr"
      },
      "source": [
        "4. Read about [`explain_instance`](https://lime-ml.readthedocs.io/en/latest/lime.html#lime.lime_text.LimeTextExplainer.explain_instance). \n",
        "\n",
        "    Create an instance named `exp` to explain the 16399th tidy tweet from the original dataset, i.e., `raw.tidy_tweet.iloc[16399]`. "
      ]
    },
    {
      "cell_type": "code",
      "execution_count": null,
      "metadata": {
        "id": "IlACxediFQb0"
      },
      "outputs": [],
      "source": [
        "idx = 16399 \n",
        "exp = explainer.explain_instance(\n",
        "    # YOUR CODE HERE\n",
        "    num_features=6)\n",
        "exp.show_in_notebook(text=raw.tidy_tweet.iloc[idx])"
      ]
    },
    {
      "cell_type": "markdown",
      "metadata": {
        "id": "6Ts3AF8TqHSr"
      },
      "source": [
        "5. Pick another random tweet and generate explanations for the prediction."
      ]
    },
    {
      "cell_type": "code",
      "execution_count": null,
      "metadata": {
        "id": "2ZqQCxsyFSJY"
      },
      "outputs": [],
      "source": [
        "# YOUR CODE HERE"
      ]
    },
    {
      "cell_type": "markdown",
      "metadata": {
        "id": "SS9n6kkVqHSr"
      },
      "source": [
        "6. Jot down your observations in explaining the model. \n",
        "\n",
        "    YOUR ANSWER HERE"
      ]
    },
    {
      "cell_type": "markdown",
      "source": [
        "> # **Task 7. Rubric Questions & Answers**\n",
        "\n",
        "*Algorithm Understanding*\n",
        "\n",
        "**How does the Naive Bayes Classifier (NBC) work?**\n",
        "\n",
        "> The NBC is a *probabilistic, classification* algorithm based on Bayes Theorem  \n",
        "\n",
        "> naive: implies that the model features are independent of / unrelated to each other. \n",
        "\n",
        "> Bayes theorem provides a way of calculating posterior probability P(c|x) from P(c), P(x) and P(x|c)\n",
        "\n",
        "> NBC calculates the posterior probability for each class. \n",
        "- The class with the highest posterior probability is the outcome of prediction.\n",
        "\n",
        "**What is Posterior Probability?**\n",
        "\n",
        "> Posterior Probability is a statistical expression of the likelihood of a true hypothesis, based on given data.  \n",
        "\n",
        "Posterior = P(H|D)\n",
        "where D = data and H = hypothesis\n",
        "which is opposite to the likelihood function: P(D|H)\n",
        "\n",
        "- Bayes theorem is the probability of a hypothesis being true; given observed data, and it relies on the use of likelihood P(D|H) alongside the prior P(H) and marginal likelihood P(D) in order to calculate the posterior P(H|D). \n",
        "\n",
        "*Interview Readiness*\n",
        "\n",
        "**What is the difference between stemming and lemmatization in NLP?**\n",
        "\n",
        "> Both stemmming and lemmatization are Text Normalization techniques. \n",
        "\n",
        "> The techniques prepare words, text, and documents for processing\n",
        "\n",
        "> words are considered with respect to their roots (i.e. historical is from history); and the process of finding the root is text normalization (i.e. for inflected words).\n",
        "- Lemma considers the context and converts the word to its meaningful base form,(i.e. an actual word), which is called Lemma.\n",
        "- - uses corpus for stop words \n",
        "- - uses WordNet corpus to produce lemma.\n",
        "- - requires that parts-of-speech are defined to produce the correct lemma.\n",
        "- takes more time\n",
        "\n",
        "vs. \n",
        "\n",
        "- Stemming does not require actual words\n",
        "- - stemming is the process of removing the last few characters of a given word, to obtain a shorter form, even if that form doesn’t have any meaning.\n",
        "- - getting base word is important to know whether the word is positive or negative -->Stemming is used to get that base word.\n",
        "- - good for large datasets\n",
        "\n",
        "- -  removes last few characters from a word, often leading to incorrect meanings and spelling.\n",
        "\n",
        "**What is Word2Vec and how does it work?**\n",
        "\n",
        "> W2V is an unsupervised model that generates vectors of the words \n",
        "- distributed numerical representations of word features – - these word features could comprise of words that represent the context of the individual words present in our vocabulary. \n",
        "- Word embeddings eventually help in establishing the association of a word with another similar meaning word through the created vectors.\n",
        "\n",
        "- Can use either model architecture: \n",
        "- - Continuous Bag of Words (CBOW) model \n",
        "- - Skip-Gram model\n",
        "\n",
        "> W2V lets you input unlabelled corpus, and the model will create dense word embeddings\n",
        "> Word2Vec leverages a *supervised classification* model to get these embeddings from the corpus.\n",
        "\n",
        "**When to use GRU over LSTM?**  \n",
        "\n",
        "> Long Short Term Memory in short LSTM \n",
        "> - - RNN capable of learning long term sequences\n",
        "> - - introduced by Schmidhuber &Hochreiter in 1997\n",
        "\n",
        "> - - explicitly designed to avoid long term dependency problems. \n",
        "\n",
        "> - - Remembering the long sequences for a long period of time is its way of working. \n",
        "\n",
        "> - - at any moment, it is taking input from 3 different states (i.e.current input state, short term memory from the previous cell, and lastly the long term memory). \n",
        "\n",
        "> - - These cells use the gates/filters to regulate the information to be kept or discarded at loop (filters that discard unwatned info)operation before passing on the long term and short term information to the next cell.  \n",
        "\n",
        "> - - total of three gates that LSTM uses as *Input Gate, Forget Gate, and Output Gate*. \n",
        "\n",
        "vs.\n",
        "\n",
        "> Gated Recurrent Unit, GRU, incorporates the two gate operating mechanisms called Update gate and Reset gate. \n",
        "\n",
        "> GRU has two gates vs. LSTM has three gates\n",
        "\n",
        "> GRU does not possess any internal memory, they don’t have an output gate that is present in LSTM\n",
        "\n",
        "> the LSTM input gate and target gate are coupled by an update gate and in GRU reset gate is applied directly to the previous hidden state.\n",
        "\n",
        "> LSTM reset gate is respnonsibility is taken by the two gates i.e., input and target. \n",
        "\n",
        "> GRU uses less training parameter, less memory; executes faster than LSTM \n",
        "\n",
        "> LSTM is more accurate on a larger dataset, good for large sequences and where accuracy is concerned, \n",
        "\n",
        "> GRU for when you have less memory consumption and want quicker results. \n",
        " "
      ],
      "metadata": {
        "id": "SgelxR546gbP"
      }
    },
    {
      "cell_type": "markdown",
      "metadata": {
        "id": "i1DXyQkTz50O"
      },
      "source": [
        "# Acknowledgement & Reference"
      ]
    },
    {
      "cell_type": "markdown",
      "metadata": {
        "id": "BnrR8TmJz8AM"
      },
      "source": [
        "- DeepAI. Posterior Probability. 2023. https://deepai.org/machine-learning-glossary-and-terms/posterior-probability\n",
        "\n",
        "- Lendave V. 2022. DEVELOPERS CORNER. LSTM Vs GRU in Recurrent Neural Network: A Comparative Study, AUGUST 28, 2021. https://analyticsindiamag.com/lstm-vs-gru-in-recurrent-neural-network-a-comparative-study/\n",
        "\n",
        "- Ray, S. 2023. Naive Bayes Classifier Explained : Applications and Practice Problems of Naive Bayes Classifier, Modified On January 10th, 2023, https://www.analyticsvidhya.com/blog/2017/09/naive-bayes-explained/\n",
        "\n",
        "- Saumyab271. 2022. Stemming vs Lemmatization in NLP: Must-Know Differences, Saumyab271, July 1st, 2022, https://www.analyticsvidhya.com/blog/2022/06/stemming-vs-lemmatization-in-nlp-must-know-differences/#:~:text=Stemming%20v%2Fs%20Lemmatization&text=Stemming%20is%20a%20process%20that,form%2C%20which%20is%20called%20Lemma.\n",
        "\n",
        "- Vatsal. 2021. Word2Vec Explained https://towardsdatascience.com/word2vec-explained-49c52b4ccb71\n",
        "\n",
        "\n",
        "- Data is adapted from [Twitter sentiment analysis](https://datahack.analyticsvidhya.com/contest/practice-problem-twitter-sentiment-analysis/#ProblemStatement)\n",
        "- [Twitter sentiment analysis](https://github.com/prateekjoshi565/twitter_sentiment_analysis/blob/master/code_sentiment_analysis.ipynb) \n",
        "- [Introduction to Word Embedding and Word2Vec](https://towardsdatascience.com/introduction-to-word-embedding-and-word2vec-652d0c2060fa)\n",
        "- [When to use GRU over LSTM?](https://datascience.stackexchange.com/questions/14581/when-to-use-gru-over-lstm)\n",
        "- Use a trained Word2Vec, Doc2Vec or FastTest embedding by `gensim` in buiding an embedding layers in Tensorflow, here's [how-to](https://github.com/RaRe-Technologies/gensim/wiki/Using-Gensim-Embeddings-with-Keras-and-Tensorflow)."
      ]
    }
  ],
  "metadata": {
    "colab": {
      "provenance": [],
      "include_colab_link": true
    },
    "gpuClass": "standard",
    "kernelspec": {
      "display_name": "Python 3.9.14 64-bit",
      "language": "python",
      "name": "python3"
    },
    "language_info": {
      "codemirror_mode": {
        "name": "ipython",
        "version": 3
      },
      "file_extension": ".py",
      "mimetype": "text/x-python",
      "name": "python",
      "nbconvert_exporter": "python",
      "pygments_lexer": "ipython3",
      "version": "3.9.14"
    },
    "toc": {
      "base_numbering": 1,
      "nav_menu": {},
      "number_sections": true,
      "sideBar": true,
      "skip_h1_title": false,
      "title_cell": "Table of Contents",
      "title_sidebar": "Contents",
      "toc_cell": false,
      "toc_position": {},
      "toc_section_display": true,
      "toc_window_display": true
    },
    "vscode": {
      "interpreter": {
        "hash": "a665b5d41d17b532ea9890333293a1b812fa0b73c9c25c950b3cedf1bebd0438"
      }
    }
  },
  "nbformat": 4,
  "nbformat_minor": 0
}