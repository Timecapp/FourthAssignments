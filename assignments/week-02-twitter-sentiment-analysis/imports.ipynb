{
 "cells": [
  {
   "cell_type": "code",
   "execution_count": 1,
   "id": "dd8ca316",
   "metadata": {},
   "outputs": [
    {
     "name": "stdout",
     "output_type": "stream",
     "text": [
      "Requirement already satisfied: transformers in /Users/luckyapollo/opt/anaconda3/envs/mlops-course/lib/python3.8/site-packages (4.23.1)\n",
      "Requirement already satisfied: torch in /Users/luckyapollo/opt/anaconda3/envs/mlops-course/lib/python3.8/site-packages (1.12.1)\n",
      "Requirement already satisfied: tokenizers!=0.11.3,<0.14,>=0.11.1 in /Users/luckyapollo/opt/anaconda3/envs/mlops-course/lib/python3.8/site-packages (from transformers) (0.13.1)\n",
      "Requirement already satisfied: huggingface-hub<1.0,>=0.10.0 in /Users/luckyapollo/opt/anaconda3/envs/mlops-course/lib/python3.8/site-packages (from transformers) (0.10.1)\n",
      "Requirement already satisfied: pyyaml>=5.1 in /Users/luckyapollo/opt/anaconda3/envs/mlops-course/lib/python3.8/site-packages (from transformers) (6.0)\n",
      "Requirement already satisfied: tqdm>=4.27 in /Users/luckyapollo/opt/anaconda3/envs/mlops-course/lib/python3.8/site-packages (from transformers) (4.64.1)\n",
      "Requirement already satisfied: requests in /Users/luckyapollo/opt/anaconda3/envs/mlops-course/lib/python3.8/site-packages (from transformers) (2.28.1)\n",
      "Requirement already satisfied: regex!=2019.12.17 in /Users/luckyapollo/opt/anaconda3/envs/mlops-course/lib/python3.8/site-packages (from transformers) (2022.9.13)\n",
      "Requirement already satisfied: packaging>=20.0 in /Users/luckyapollo/opt/anaconda3/envs/mlops-course/lib/python3.8/site-packages (from transformers) (21.3)\n",
      "Collecting numpy>=1.17\n",
      "  Downloading numpy-1.23.4-cp38-cp38-macosx_10_9_x86_64.whl (18.1 MB)\n",
      "\u001b[2K     \u001b[90m━━━━━━━━━━━━━━━━━━━━━━━━━━━━━━━━━━━━━━━━\u001b[0m \u001b[32m18.1/18.1 MB\u001b[0m \u001b[31m5.8 MB/s\u001b[0m eta \u001b[36m0:00:00\u001b[0m00:01\u001b[0m00:01\u001b[0m\n",
      "\u001b[?25hRequirement already satisfied: filelock in /Users/luckyapollo/opt/anaconda3/envs/mlops-course/lib/python3.8/site-packages (from transformers) (3.8.0)\n",
      "Requirement already satisfied: typing-extensions in /Users/luckyapollo/opt/anaconda3/envs/mlops-course/lib/python3.8/site-packages (from torch) (4.4.0)\n",
      "Requirement already satisfied: pyparsing!=3.0.5,>=2.0.2 in /Users/luckyapollo/opt/anaconda3/envs/mlops-course/lib/python3.8/site-packages (from packaging>=20.0->transformers) (3.0.9)\n",
      "Requirement already satisfied: urllib3<1.27,>=1.21.1 in /Users/luckyapollo/opt/anaconda3/envs/mlops-course/lib/python3.8/site-packages (from requests->transformers) (1.26.12)\n",
      "Requirement already satisfied: certifi>=2017.4.17 in /Users/luckyapollo/opt/anaconda3/envs/mlops-course/lib/python3.8/site-packages (from requests->transformers) (2022.9.24)\n",
      "Requirement already satisfied: idna<4,>=2.5 in /Users/luckyapollo/opt/anaconda3/envs/mlops-course/lib/python3.8/site-packages (from requests->transformers) (3.4)\n",
      "Requirement already satisfied: charset-normalizer<3,>=2 in /Users/luckyapollo/opt/anaconda3/envs/mlops-course/lib/python3.8/site-packages (from requests->transformers) (2.1.1)\n",
      "Installing collected packages: numpy\n",
      "Successfully installed numpy-1.23.4\n",
      "Requirement already satisfied: emoji==0.6.0 in /Users/luckyapollo/opt/anaconda3/envs/mlops-course/lib/python3.8/site-packages (0.6.0)\n"
     ]
    },
    {
     "data": {
      "application/vnd.jupyter.widget-view+json": {
       "model_id": "35a011e3552c47e7945b14b6d3723599",
       "version_major": 2,
       "version_minor": 0
      },
      "text/plain": [
       "Downloading:   0%|          | 0.00/1.42k [00:00<?, ?B/s]"
      ]
     },
     "metadata": {},
     "output_type": "display_data"
    }
   ],
   "source": [
    "!pip install transformers torch\n",
    "!pip install emoji==0.6.0\n",
    "\n",
    "from transformers import pipeline\n",
    "\n",
    "pinstall = pipeline(model=\"finiteautomata/bertweet-base-sentiment-analysis\")"
   ]
  },
  {
   "cell_type": "code",
   "execution_count": 3,
   "id": "08cc2a92",
   "metadata": {},
   "outputs": [],
   "source": [
    "import csv"
   ]
  },
  {
   "cell_type": "code",
   "execution_count": 4,
   "id": "2b8330ad",
   "metadata": {},
   "outputs": [],
   "source": [
    "from pprint import pprint"
   ]
  },
  {
   "cell_type": "code",
   "execution_count": 5,
   "id": "70872204",
   "metadata": {},
   "outputs": [],
   "source": [
    "from transformers import pipeline"
   ]
  },
  {
   "cell_type": "code",
   "execution_count": 6,
   "id": "befeebce",
   "metadata": {},
   "outputs": [
    {
     "name": "stderr",
     "output_type": "stream",
     "text": [
      "No model was supplied, defaulted to distilbert-base-uncased-finetuned-sst-2-english and revision af0f99b (https://huggingface.co/distilbert-base-uncased-finetuned-sst-2-english).\n",
      "Using a pipeline without specifying a model name and revision in production is not recommended.\n"
     ]
    }
   ],
   "source": [
    "sentiment_pipeline = pipeline(\"sentiment-analysis\")"
   ]
  },
  {
   "cell_type": "code",
   "execution_count": 7,
   "id": "ce6a646d",
   "metadata": {},
   "outputs": [
    {
     "data": {
      "text/plain": [
       "[{'label': 'POSITIVE', 'score': 0.9998694658279419},\n",
       " {'label': 'NEGATIVE', 'score': 0.994263231754303}]"
      ]
     },
     "execution_count": 7,
     "metadata": {},
     "output_type": "execute_result"
    }
   ],
   "source": [
    "data = [\"This is great!\", \"Oh no!\"]\n",
    "sentiment_pipeline(data)"
   ]
  },
  {
   "cell_type": "code",
   "execution_count": 8,
   "id": "cea7e790",
   "metadata": {},
   "outputs": [
    {
     "data": {
      "text/plain": [
       "[{'label': 'NEGATIVE', 'score': 0.9955561757087708},\n",
       " {'label': 'NEGATIVE', 'score': 0.9860844016075134}]"
      ]
     },
     "execution_count": 8,
     "metadata": {},
     "output_type": "execute_result"
    }
   ],
   "source": [
    "challenging_sentiments = [\"I don't think freddriq should leave, he's been helpful.\",\n",
    "                          \"Is that the lake we went to last month?\"]\n",
    "sentiment_pipeline(challenging_sentiments)"
   ]
  },
  {
   "cell_type": "code",
   "execution_count": 11,
   "id": "e557f91e",
   "metadata": {},
   "outputs": [
    {
     "name": "stdout",
     "output_type": "stream",
     "text": [
      "['@vincent13031925 For now. Costs are decreasing rapidly.',\n",
      " 'Love this beautiful shot',\n",
      " '@agnostoxxx @CathieDWood @ARKInvest Trust the shrub',\n",
      " 'The art In Cyberpunk is incredible',\n",
      " '@itsALLrisky 🤣🤣',\n",
      " '@seinfeldguru @WholeMarsBlog Nope haha',\n",
      " '@WholeMarsBlog If you don’t say anything &amp; engage Autopilot, it will '\n",
      " 'soon guess based on time of day, taking you home or to work or to what’s on '\n",
      " 'your calendar',\n",
      " '@DeltavPhotos @PortCanaveral That rocket is a hardcore veteran of many '\n",
      " 'missions',\n",
      " 'Blimps rock  https://t.co/e8cu5FkNOI',\n",
      " '@engineers_feed Due to lower gravity, you can travel from surface of Mars to '\n",
      " 'surface of Earth fairly easily with a single stage rocket. Earth to Mars is '\n",
      " 'vastly harder.',\n",
      " '@DrPhiltill Good thread',\n",
      " '@alexellisuk Pretty much',\n",
      " '@tesla_adri @WholeMarsBlog These things are best thought of as '\n",
      " 'probabilities. There are 5 forward-facing cameras. It is highly likely that '\n",
      " 'at least one of them will see multiple cars ahead.',\n",
      " '@WholeMarsBlog Sensors are a bitstream and cameras have several orders of '\n",
      " 'magnitude more bits/sec than radar (or lidar).   Radar must meaningfully '\n",
      " 'increase signal/noise of bitstream to be worth complexity of integrating '\n",
      " 'it.   As vision processing gets better, it just leaves radar far behind.',\n",
      " '@WholeMarsBlog When radar and vision disagree, which one do you believe? '\n",
      " 'Vision has much more precision, so better to double down on vision than do '\n",
      " 'sensor fusion.',\n",
      " '@WholeMarsBlog This is a major problem!',\n",
      " 'Just needs some legs',\n",
      " 'The Starship launch tower that catches the giant rocket booster is basically '\n",
      " 'Mechazilla',\n",
      " 'But wait how is the core of the earth lit by the sun? Stop asking '\n",
      " 'questions!!',\n",
      " 'Kong vs Godzilla has record for most meth ever consumed in a writer’s room',\n",
      " '@itsALLrisky 💯',\n",
      " '… going to moon very soon',\n",
      " '@Matsu_Kusarine @jagarikin Actually happened to me in Cyberpunk haha',\n",
      " '@TimBirks1 @Erdayastronaut @SpaceX Pretty much',\n",
      " '@memescryptor !',\n",
      " 'Where is Shrek 5!?  https://t.co/PqAZ5Mg8Es',\n",
      " '@AustinTeslaClub @OwenSparks_ @WholeMarsBlog Good point.   Next major '\n",
      " 'software rev will do much better with automating wipers, seat heating &amp; '\n",
      " 'defrost.   Probable seat settings just based on occupant mass distribution '\n",
      " 'should be possible.',\n",
      " '@Adamklotz_ @OwenSparks_ @WholeMarsBlog Yup',\n",
      " '@teslaownersSV @neuralink Turns out 🐒 love video games &amp; snacks just '\n",
      " 'like us!',\n",
      " 'It’s all about the cufflinks  https://t.co/elccqC0Zuf',\n",
      " '@chicago_glenn I feel like this sometimes',\n",
      " '@OwenSparks_ @WholeMarsBlog It will',\n",
      " '@OwenSparks_ @WholeMarsBlog Remove',\n",
      " '@w00ki33 @SpaceX @SuperclusterHQ Simulation is improving rendering '\n",
      " 'resolution  …',\n",
      " '@cleantechnica Congrats to NIO. That is a tough milestone.',\n",
      " '@WholeMarsBlog Almost ready with FSD Beta V9.0. Step change improvement is '\n",
      " 'massive, especially for weird corner cases &amp; bad weather. Pure vision, '\n",
      " 'no radar.',\n",
      " 'Thanks to all that helped SpaceX!',\n",
      " 'Just read it. Book is accurate.',\n",
      " '@TeslaGong Yeah',\n",
      " '@mikevanbus @TrungTPhan @neuralink Pretty much',\n",
      " ' https://t.co/XeQursZpvq',\n",
      " 'Soon our monkey will be on twitch &amp; discord haha',\n",
      " '@thenewsoncnbc @contessabrewer Good piece!',\n",
      " '@Kyler_Knoll @neuralink Comes with wireless charging baseball cap',\n",
      " '@TarekWaked @TechCrunch @etherington Pretty much 🤣🤣 Great episode!',\n",
      " 'A monkey is literally playing a video game telepathically using a brain '\n",
      " 'chip!!',\n",
      " '@lexfridman @neuralink Yes',\n",
      " 'The device is implanted flush with skull &amp; charges wirelessly, so you '\n",
      " 'look &amp; feel totally normal',\n",
      " '@IheartTesla Absolutely doable. Possibly as soon as Neuralink device version '\n",
      " '2, highly likely by version 3.',\n",
      " 'Later versions will be able to shunt signals from Neuralinks in brain to '\n",
      " 'Neuralinks in body motor/sensory neuron clusters, thus enabling, for '\n",
      " 'example, paraplegics to walk again',\n",
      " '@mindofkacper @neuralink Yes',\n",
      " 'First @Neuralink product will enable someone with paralysis to use a '\n",
      " 'smartphone with their mind faster than someone using thumbs',\n",
      " '@IheartTesla @neuralink Hopefully, later this year',\n",
      " '@tobyliiiiiiiiii Sure',\n",
      " 'Monkey plays Pong with his mind',\n",
      " '@dogeofficialceo @WatchersTank @SpaceX Looking at pups soon!',\n",
      " '@jordanxmajel @WatchersTank @SpaceX Shock absorption is built into tower '\n",
      " 'arms. Since tower is ground side, it can use a lot more mass to arrest '\n",
      " 'booster downward momentum.',\n",
      " '@jordanxmajel @WatchersTank @SpaceX Load points just below the grid fins',\n",
      " '@WatchersTank @SpaceX Just one skyscraper catching another nbd haha',\n",
      " 'Thanks Tesla suppliers for providing us with critical parts!',\n",
      " '@MarkJam93765764 @IvanEscobosa A tidal wave of vaccine is being produced!',\n",
      " '@jgrano305 Probably J&amp;J, but BioNtech &amp; Moderna are good too. Some '\n",
      " 'debate imo as to whether a second synthetic mRNA shot is really needed, but '\n",
      " 'the first is a no-brainer.',\n",
      " '@IvanEscobosa Latter',\n",
      " 'To be clear, I do support vaccines in general &amp; covid vaccines '\n",
      " 'specifically. The science is unequivocal.   In very rare cases, there is an '\n",
      " 'allergic reaction, but this is easily addressed with an EpiPen.',\n",
      " '@DavidWillisSLS @_Jevis_ @PPathole Needs legs for moon &amp; Mars',\n",
      " '@SciGuySpace Global payload to orbit is the key metric',\n",
      " '@Julius_Burton @Erdayastronaut @DJSnM @NASASpaceflight @ChrisG_NSF '\n",
      " '@thejackbeyer @FelixSchlang Nice',\n",
      " '@_Jevis_ @PPathole Ideal scenario imo is catching Starship in horizontal '\n",
      " '“glide” with no landing burn, although that is quite a challenge for the '\n",
      " 'tower! Next best is catching with tower, with emergency pad landing mode on '\n",
      " 'skirt (no legs).',\n",
      " '@PPathole Starship booster, largest flying object ever designed, will be '\n",
      " 'caught out of sky by launch tower. Big step forward, as reflight can be done '\n",
      " 'in under an hour.',\n",
      " '@WholeMarsBlog Well-written and fair, much like his articles on space',\n",
      " '@louisssdev @flcnhvy Coming soon. Crazy number of launches this year!',\n",
      " '@flcnhvy They will be recovered from the water &amp; reused',\n",
      " '“Tanks for the memery!” – Panzer of the Lake',\n",
      " '@CathieDWood @wintonARK @ARKInvest What do you think of the unusually high '\n",
      " 'ratio of S&amp;P market cap to GDP?',\n",
      " '@ID_AA_Carmack Some kind of ELO level, updated once or twice a year based on '\n",
      " 'what someone actually got done, might be most effective. Important that it '\n",
      " 'go both up *and* down.',\n",
      " '@Thomas38697956 New &amp; improved version!',\n",
      " '@Teslarati @ResidentSponge Special mention of Tesla China',\n",
      " '@shbzz Obv',\n",
      " '@Teslarati @ResidentSponge Great work by Tesla team!',\n",
      " '@EvaFoxU Nice',\n",
      " 'The Earth is not flat, it’s a hollow globe &amp; Donkey King lives there!',\n",
      " '@EvaFoxU Those two really could have come in handy for the stuck ship!',\n",
      " '@EvaFoxU Last Kingdom vs Vikings',\n",
      " '@spacex360 Ascent phase, transition to horizontal &amp; control during free '\n",
      " 'fall were good.   A (relatively) small CH4 leak led to fire on engine 2 '\n",
      " '&amp; fried part of avionics, causing hard start attempting landing burn in '\n",
      " 'CH4 turbopump.   This is getting fixed 6 ways to Sunday.',\n",
      " 'Godzilla vs Kong is so amaze much wow! Most insane movie I’ve ever seen! '\n",
      " 'Love letter to conspiracy theorists! And yet heartwarming in the end.',\n",
      " '@TerminalCount The Starships feast in Valhalla!',\n",
      " '@TerminalCount One of the greatest things I’ve ever seen',\n",
      " '@floko12022021 @HamblinZeke @katlinegrey Ich habe ein Semester Deutsch an '\n",
      " 'der Universität studiert usw',\n",
      " '@HamblinZeke @katlinegrey Haha Falcon? Nein!',\n",
      " '@tobyliiiiiiiiii @katlinegrey I recommend propulsive landing, as that is '\n",
      " 'extensible to planets, moons &amp; asteroids. Wings &amp; runways are '\n",
      " 'limited to Earth.',\n",
      " '@PPathole @katlinegrey For practical purposes, there is no limit. It will '\n",
      " 'just get increasingly difficult to service.',\n",
      " '@katlinegrey This a good path, but I recommend aiming for full reusability',\n",
      " 'Urgent need to build more housing in greater Austin area!',\n",
      " 'Austin++',\n",
      " 'No it doesn’t hurt at all 🩸  https://t.co/NnL6o1si0V',\n",
      " '@allrocketsboi True',\n",
      " '@GerberKawasaki I fried a lot of neurons on that problem!',\n",
      " 'Me in my sick new car (left him the money)  https://t.co/EGaY1FVfHm',\n",
      " '@TrungTPhan Had no money to invest in Zip2, but my founder equity yielded '\n",
      " '~$15M after tax. Of that, I rolled ~$10M into PayPal, which yielded ~$180M, '\n",
      " 'then …   Basic principle is that I would not ask investors to risk money on '\n",
      " 'my company if I would not also do so.',\n",
      " '@Gfilche Major new Supercharger station coming to Santa Monica soon! Hoping '\n",
      " 'to have 50’s diner &amp; 100 best movie clips playing too. Thanks Santa '\n",
      " 'Monica city!']\n"
     ]
    }
   ],
   "source": [
    "with open('/Users/luckyapollo/Desktop/GitHub/MLE-10/assignments/week-02-twitter-sentiment-analysis/data/elonmusk_tweets.csv', newline='', encoding='utf8') as f:\n",
    "    tweets=[]\n",
    "    reader = csv.reader(f)\n",
    "    twitter_data = list(reader)\n",
    "    for tweet in twitter_data:\n",
    "        tweets.append(tweet[0])\n",
    "\n",
    "pprint(tweets[:100])"
   ]
  },
  {
   "cell_type": "code",
   "execution_count": 12,
   "id": "3857c4ba",
   "metadata": {},
   "outputs": [],
   "source": [
    "distil_sentiment = sentiment_pipeline(tweets[0:100])\n"
   ]
  },
  {
   "cell_type": "code",
   "execution_count": 13,
   "id": "fd38bf1b",
   "metadata": {},
   "outputs": [
    {
     "name": "stdout",
     "output_type": "stream",
     "text": [
      "49 (49.00%) of the tweets classified are positive.\n",
      "51 (51.00%) of the tweets classified are negative.\n"
     ]
    }
   ],
   "source": [
    "from collections import Counter\n",
    "\n",
    "tweet_distro = Counter([x['label'] for x in distil_sentiment])\n",
    "pos_sent_count = tweet_distro['POSITIVE']\n",
    "neg_sent_count = tweet_distro['NEGATIVE']\n",
    "total_sent_count = sum(tweet_distro.values())\n",
    "\n",
    "print(f\"{pos_sent_count} ({pos_sent_count / total_sent_count * 100:.2f}%) of the tweets classified are positive.\")\n",
    "print(f\"{neg_sent_count} ({neg_sent_count / total_sent_count * 100:.2f}%) of the tweets classified are negative.\")\n"
   ]
  },
  {
   "cell_type": "code",
   "execution_count": 15,
   "id": "d11e7fd0",
   "metadata": {},
   "outputs": [
    {
     "data": {
      "application/vnd.jupyter.widget-view+json": {
       "model_id": "1e22b42ed38a45dc81dc928c897eeec1",
       "version_major": 2,
       "version_minor": 0
      },
      "text/plain": [
       "Downloading:   0%|          | 0.00/1.42k [00:00<?, ?B/s]"
      ]
     },
     "metadata": {},
     "output_type": "display_data"
    }
   ],
   "source": [
    "bertweet_pipeline = pipeline(model=\"finiteautomata/bertweet-base-sentiment-analysis\")\n"
   ]
  },
  {
   "cell_type": "code",
   "execution_count": 16,
   "id": "0f5a0991",
   "metadata": {},
   "outputs": [],
   "source": [
    "bert_sentiment = bertweet_pipeline(tweets[0:100])\n"
   ]
  },
  {
   "cell_type": "code",
   "execution_count": 17,
   "id": "070777aa",
   "metadata": {},
   "outputs": [
    {
     "ename": "SyntaxError",
     "evalue": "EOL while scanning string literal (2020388263.py, line 11)",
     "output_type": "error",
     "traceback": [
      "\u001b[0;36m  Cell \u001b[0;32mIn [17], line 11\u001b[0;36m\u001b[0m\n\u001b[0;31m    print(f\"{neg_sent_count} ({neg_sent_count / total_sent_count * 100:.2f}%) of the tweets classified are negative.\u001b[0m\n\u001b[0m                                                                                                                    ^\u001b[0m\n\u001b[0;31mSyntaxError\u001b[0m\u001b[0;31m:\u001b[0m EOL while scanning string literal\n"
     ]
    }
   ],
   "source": [
    "from collections import Counter\n",
    "\n",
    "tweet_distro = Counter([x['label'] for x in bert_sentiment])\n",
    "pos_sent_count = tweet_distro['POS']\n",
    "neu_sent_count = tweet_distro['NEU']\n",
    "neg_sent_count = tweet_distro['NEG']\n",
    "total_sent_count = sum(tweet_distro.values())\n",
    "\n",
    "print(f\"{pos_sent_count} ({pos_sent_count / total_sent_count * 100:.2f}%) of the tweets classified are positive.\")\n",
    "print(f\"{neu_sent_count} ({neu_sent_count / total_sent_count * 100:.2f}%) of the tweets classified are neutral.\")\n",
    "print(f\"{neg_sent_count} ({neg_sent_count / total_sent_count * 100:.2f}%) of the tweets classified are negative."
   ]
  },
  {
   "cell_type": "code",
   "execution_count": 18,
   "id": "a3a6dd7e",
   "metadata": {},
   "outputs": [],
   "source": [
    "example_difficult_tweets = [\n",
    "    \"Kong vs Godzilla has record for most meth ever consumed in a writer's room\",\n",
    "    \"@ashleevance Battery energy density is the key to electric aircraft. Autonomy for aircraft could have been done a long time ago. Modern airliners are very close to autonomous.\",\n",
    "    \"Tesla's action is not directly reflective of my opinion. Having some Bitcoin, which is simply a less dumb form of liquidity than cash, is adventurous enough for an S&P500 company.\",\n",
    "    \"Eating apples is good\",\n",
    "    \"Sleeping too much is good\",\n",
    "]"
   ]
  },
  {
   "cell_type": "code",
   "execution_count": 19,
   "id": "44570b56",
   "metadata": {},
   "outputs": [
    {
     "name": "stdout",
     "output_type": "stream",
     "text": [
      "[{'label': 'POSITIVE', 'score': 0.5429091453552246}]\n",
      "Kong vs Godzilla has record for most meth ever consumed in a writer's room\n",
      "\n",
      "[{'label': 'NEGATIVE', 'score': 0.6348382830619812}]\n",
      "@ashleevance Battery energy density is the key to electric aircraft. Autonomy for aircraft could have been done a long time ago. Modern airliners are very close to autonomous.\n",
      "\n",
      "[{'label': 'POSITIVE', 'score': 0.941968560218811}]\n",
      "Tesla's action is not directly reflective of my opinion. Having some Bitcoin, which is simply a less dumb form of liquidity than cash, is adventurous enough for an S&P500 company.\n",
      "\n",
      "[{'label': 'POSITIVE', 'score': 0.9998378753662109}]\n",
      "Eating apples is good\n",
      "\n",
      "[{'label': 'POSITIVE', 'score': 0.9994033575057983}]\n",
      "Sleeping too much is good\n",
      "\n"
     ]
    }
   ],
   "source": [
    "for tweet in example_difficult_tweets[0:1000]:\n",
    "    pprint(sentiment_pipeline(tweet))\n",
    "    print(tweet + '\\n')"
   ]
  },
  {
   "cell_type": "code",
   "execution_count": 20,
   "id": "905391fd",
   "metadata": {},
   "outputs": [
    {
     "name": "stdout",
     "output_type": "stream",
     "text": [
      "[{'label': 'NEG', 'score': 0.721301257610321}]\n",
      "Kong vs Godzilla has record for most meth ever consumed in a writer's room\n",
      "\n",
      "[{'label': 'NEU', 'score': 0.8023842573165894}]\n",
      "@ashleevance Battery energy density is the key to electric aircraft. Autonomy for aircraft could have been done a long time ago. Modern airliners are very close to autonomous.\n",
      "\n",
      "[{'label': 'NEU', 'score': 0.8843539357185364}]\n",
      "Tesla's action is not directly reflective of my opinion. Having some Bitcoin, which is simply a less dumb form of liquidity than cash, is adventurous enough for an S&P500 company.\n",
      "\n",
      "[{'label': 'POS', 'score': 0.974969208240509}]\n",
      "Eating apples is good\n",
      "\n",
      "[{'label': 'POS', 'score': 0.5206570625305176}]\n",
      "Sleeping too much is good\n",
      "\n"
     ]
    }
   ],
   "source": [
    "for tweet in example_difficult_tweets[0:1000]:\n",
    "    pprint(bertweet_pipeline(tweet))\n",
    "    print(tweet + '\\n')"
   ]
  }
 ],
 "metadata": {
  "kernelspec": {
   "display_name": "Python 3.8.13 ('mlops-course')",
   "language": "python",
   "name": "python3"
  },
  "language_info": {
   "codemirror_mode": {
    "name": "ipython",
    "version": 3
   },
   "file_extension": ".py",
   "mimetype": "text/x-python",
   "name": "python",
   "nbconvert_exporter": "python",
   "pygments_lexer": "ipython3",
   "version": "3.8.13"
  },
  "vscode": {
   "interpreter": {
    "hash": "da00f65301ec6ffa75ca4d1d465fa11e8b43cb9f594ac5132a0d0ef494fcd587"
   }
  }
 },
 "nbformat": 4,
 "nbformat_minor": 5
}
