{
 "cells": [
  {
   "cell_type": "code",
   "execution_count": 4,
   "id": "1775c329",
   "metadata": {},
   "outputs": [],
   "source": [
    "REDDIT_API_CLIENT_ID = \"mgTvgH8Ex6dLDI_Ol9J-_Q\"\n",
    "REDDIT_API_CLIENT_SECRET = \"9CfDumsypsJTxotzo6ho9PcF-aBz4w\"\n",
    "REDDIT_API_USER_AGENT = \"sub homework v1.0 by /u/shai\""
   ]
  },
  {
   "cell_type": "code",
   "execution_count": null,
   "id": "00f71a9c",
   "metadata": {},
   "outputs": [],
   "source": []
  }
 ],
 "metadata": {
  "kernelspec": {
   "display_name": "Python 3.8.13 ('mlops-course')",
   "language": "python",
   "name": "python3"
  },
  "language_info": {
   "codemirror_mode": {
    "name": "ipython",
    "version": 3
   },
   "file_extension": ".py",
   "mimetype": "text/x-python",
   "name": "python",
   "nbconvert_exporter": "python",
   "pygments_lexer": "ipython3",
   "version": "3.8.13"
  },
  "vscode": {
   "interpreter": {
    "hash": "da00f65301ec6ffa75ca4d1d465fa11e8b43cb9f594ac5132a0d0ef494fcd587"
   }
  }
 },
 "nbformat": 4,
 "nbformat_minor": 5
}
